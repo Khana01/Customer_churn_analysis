{
 "cells": [
  {
   "cell_type": "markdown",
   "metadata": {},
   "source": [
    "# Анализ оттока клиентов банка\n",
    "Перед нами данные о клиентах банка «Метанпром». Банк располагается в Ярославле и областных городах: Ростов и Рыбинск.\n",
    "\n",
    "### Заказчик: отдел маркетинга\n",
    "\n",
    "### Цель проекта \n",
    "\n",
    "Проанализировать клиентов регионального банка и выделите сегменты клиентов, которые склонны уходить из банка.\n",
    "\n",
    "### Этапы исследования\n",
    "\n",
    " 1.Загрузка датасета и изучение общей информации;\n",
    " \n",
    " 2.Предобработка данных; \n",
    " \n",
    " 3.Исследовательский анализ данных;\n",
    " \n",
    " 4.Статистический анализ данных;\n",
    " \n",
    " 5.Вывод и рекомендации;\n",
    " \n",
    " 6.Подготовка презентацию.\n",
    "    \n",
    "    \n",
    "### Описание данных\n",
    "\n",
    "Данные о клиентах содержаться в файле `bank_scrooge.csv`\n",
    " \n",
    " - `userid` — идентификатор пользователя,\n",
    " - `score` — баллы кредитного скоринга,\n",
    " - `City` — город,\n",
    " - `Gender` — пол,\n",
    " - `Age` — возраст,\n",
    " - `equity`  — оценка собственности,\n",
    " - `Balance` — баланс на счёте,\n",
    " - `Products` — количество продуктов, которыми пользуется клиент,\n",
    " - `CreditCard` — есть ли кредитная карта,\n",
    " - `last_activity` — активный клиент,\n",
    " - `estimated_salary` — заработная плата клиента,\n",
    " - `Churn` — ушёл или нет.\n",
    " \n",
    " \n",
    " ### Материалы\n",
    "Презентация https://disk.yandex.ru/d/B2Qqy7MSDbcdlQ\n",
    "\n",
    "Дашборд https://public.tableau.com/app/profile/khana.merzlikina/viz/_16867743375580/Dashboard1?publish=yes"
   ]
  },
  {
   "cell_type": "markdown",
   "metadata": {},
   "source": [
    "### Изучение общей информации"
   ]
  },
  {
   "cell_type": "code",
   "execution_count": 32,
   "metadata": {},
   "outputs": [
    {
     "name": "stdout",
     "output_type": "stream",
     "text": [
      "Requirement already satisfied: phik in /opt/conda/lib/python3.9/site-packages (0.12.3)\n",
      "Requirement already satisfied: pandas>=0.25.1 in /opt/conda/lib/python3.9/site-packages (from phik) (1.2.4)\n",
      "Requirement already satisfied: joblib>=0.14.1 in /opt/conda/lib/python3.9/site-packages (from phik) (1.1.0)\n",
      "Requirement already satisfied: scipy>=1.5.2 in /opt/conda/lib/python3.9/site-packages (from phik) (1.9.1)\n",
      "Requirement already satisfied: matplotlib>=2.2.3 in /opt/conda/lib/python3.9/site-packages (from phik) (3.3.4)\n",
      "Requirement already satisfied: numpy>=1.18.0 in /opt/conda/lib/python3.9/site-packages (from phik) (1.21.1)\n",
      "Requirement already satisfied: cycler>=0.10 in /opt/conda/lib/python3.9/site-packages (from matplotlib>=2.2.3->phik) (0.11.0)\n",
      "Requirement already satisfied: kiwisolver>=1.0.1 in /opt/conda/lib/python3.9/site-packages (from matplotlib>=2.2.3->phik) (1.4.4)\n",
      "Requirement already satisfied: python-dateutil>=2.1 in /opt/conda/lib/python3.9/site-packages (from matplotlib>=2.2.3->phik) (2.8.1)\n",
      "Requirement already satisfied: pillow>=6.2.0 in /opt/conda/lib/python3.9/site-packages (from matplotlib>=2.2.3->phik) (8.4.0)\n",
      "Requirement already satisfied: pyparsing!=2.0.4,!=2.1.2,!=2.1.6,>=2.0.3 in /opt/conda/lib/python3.9/site-packages (from matplotlib>=2.2.3->phik) (2.4.7)\n",
      "Requirement already satisfied: pytz>=2017.3 in /opt/conda/lib/python3.9/site-packages (from pandas>=0.25.1->phik) (2021.1)\n",
      "Requirement already satisfied: six>=1.5 in /opt/conda/lib/python3.9/site-packages (from python-dateutil>=2.1->matplotlib>=2.2.3->phik) (1.16.0)\n",
      "Note: you may need to restart the kernel to use updated packages.\n"
     ]
    }
   ],
   "source": [
    "pip install phik"
   ]
  },
  {
   "cell_type": "code",
   "execution_count": 33,
   "metadata": {},
   "outputs": [],
   "source": [
    "# импорт библиотек\n",
    "\n",
    "import pandas as pd\n",
    "import numpy as np\n",
    "import matplotlib.pyplot as plt\n",
    "import seaborn as sns\n",
    "import phik\n",
    "from phik.report import plot_correlation_matrix\n",
    "from phik import report\n",
    "from scipy import stats as st"
   ]
  },
  {
   "cell_type": "code",
   "execution_count": 34,
   "metadata": {},
   "outputs": [],
   "source": [
    "# чтение файла с данными\n",
    "\n",
    "try:\n",
    "    data = (\n",
    "        pd.read_csv('/datasets/bank_scrooge.csv')\n",
    "    )\n",
    "\n",
    "\n",
    "except:\n",
    "    data = (\n",
    "        pd.read_csv('bank_scrooge.csv')\n",
    "    )"
   ]
  },
  {
   "cell_type": "code",
   "execution_count": 35,
   "metadata": {},
   "outputs": [
    {
     "name": "stdout",
     "output_type": "stream",
     "text": [
      "<class 'pandas.core.frame.DataFrame'>\n",
      "RangeIndex: 10000 entries, 0 to 9999\n",
      "Data columns (total 12 columns):\n",
      " #   Column         Non-Null Count  Dtype  \n",
      "---  ------         --------------  -----  \n",
      " 0   USERID         10000 non-null  int64  \n",
      " 1   score          10000 non-null  float64\n",
      " 2   city           10000 non-null  object \n",
      " 3   gender         10000 non-null  object \n",
      " 4   age            9974 non-null   float64\n",
      " 5   equity         10000 non-null  int64  \n",
      " 6   balance        7705 non-null   float64\n",
      " 7   products       10000 non-null  int64  \n",
      " 8   credit_card    10000 non-null  int64  \n",
      " 9   last_activity  10000 non-null  int64  \n",
      " 10  EST_SALARY     10000 non-null  float64\n",
      " 11  churn          10000 non-null  int64  \n",
      "dtypes: float64(4), int64(6), object(2)\n",
      "memory usage: 937.6+ KB\n"
     ]
    },
    {
     "data": {
      "text/html": [
       "<div>\n",
       "<style scoped>\n",
       "    .dataframe tbody tr th:only-of-type {\n",
       "        vertical-align: middle;\n",
       "    }\n",
       "\n",
       "    .dataframe tbody tr th {\n",
       "        vertical-align: top;\n",
       "    }\n",
       "\n",
       "    .dataframe thead th {\n",
       "        text-align: right;\n",
       "    }\n",
       "</style>\n",
       "<table border=\"1\" class=\"dataframe\">\n",
       "  <thead>\n",
       "    <tr style=\"text-align: right;\">\n",
       "      <th></th>\n",
       "      <th>USERID</th>\n",
       "      <th>score</th>\n",
       "      <th>city</th>\n",
       "      <th>gender</th>\n",
       "      <th>age</th>\n",
       "      <th>equity</th>\n",
       "      <th>balance</th>\n",
       "      <th>products</th>\n",
       "      <th>credit_card</th>\n",
       "      <th>last_activity</th>\n",
       "      <th>EST_SALARY</th>\n",
       "      <th>churn</th>\n",
       "    </tr>\n",
       "  </thead>\n",
       "  <tbody>\n",
       "    <tr>\n",
       "      <th>0</th>\n",
       "      <td>183012</td>\n",
       "      <td>850.0</td>\n",
       "      <td>Рыбинск</td>\n",
       "      <td>Ж</td>\n",
       "      <td>25.0</td>\n",
       "      <td>1</td>\n",
       "      <td>59214.82</td>\n",
       "      <td>2</td>\n",
       "      <td>0</td>\n",
       "      <td>1</td>\n",
       "      <td>75719.14</td>\n",
       "      <td>1</td>\n",
       "    </tr>\n",
       "    <tr>\n",
       "      <th>1</th>\n",
       "      <td>146556</td>\n",
       "      <td>861.0</td>\n",
       "      <td>Рыбинск</td>\n",
       "      <td>Ж</td>\n",
       "      <td>37.0</td>\n",
       "      <td>5</td>\n",
       "      <td>850594.33</td>\n",
       "      <td>3</td>\n",
       "      <td>1</td>\n",
       "      <td>0</td>\n",
       "      <td>86621.77</td>\n",
       "      <td>0</td>\n",
       "    </tr>\n",
       "    <tr>\n",
       "      <th>2</th>\n",
       "      <td>120722</td>\n",
       "      <td>892.0</td>\n",
       "      <td>Рыбинск</td>\n",
       "      <td>Ж</td>\n",
       "      <td>30.0</td>\n",
       "      <td>0</td>\n",
       "      <td>NaN</td>\n",
       "      <td>1</td>\n",
       "      <td>1</td>\n",
       "      <td>1</td>\n",
       "      <td>107683.34</td>\n",
       "      <td>0</td>\n",
       "    </tr>\n",
       "    <tr>\n",
       "      <th>3</th>\n",
       "      <td>225363</td>\n",
       "      <td>866.0</td>\n",
       "      <td>Ярославль</td>\n",
       "      <td>Ж</td>\n",
       "      <td>51.0</td>\n",
       "      <td>5</td>\n",
       "      <td>1524746.26</td>\n",
       "      <td>2</td>\n",
       "      <td>0</td>\n",
       "      <td>1</td>\n",
       "      <td>174423.53</td>\n",
       "      <td>1</td>\n",
       "    </tr>\n",
       "    <tr>\n",
       "      <th>4</th>\n",
       "      <td>157978</td>\n",
       "      <td>730.0</td>\n",
       "      <td>Ярославль</td>\n",
       "      <td>М</td>\n",
       "      <td>34.0</td>\n",
       "      <td>5</td>\n",
       "      <td>174.00</td>\n",
       "      <td>1</td>\n",
       "      <td>1</td>\n",
       "      <td>0</td>\n",
       "      <td>67353.16</td>\n",
       "      <td>1</td>\n",
       "    </tr>\n",
       "  </tbody>\n",
       "</table>\n",
       "</div>"
      ],
      "text/plain": [
       "   USERID  score       city gender   age  equity     balance  products  \\\n",
       "0  183012  850.0    Рыбинск      Ж  25.0       1    59214.82         2   \n",
       "1  146556  861.0    Рыбинск      Ж  37.0       5   850594.33         3   \n",
       "2  120722  892.0    Рыбинск      Ж  30.0       0         NaN         1   \n",
       "3  225363  866.0  Ярославль      Ж  51.0       5  1524746.26         2   \n",
       "4  157978  730.0  Ярославль      М  34.0       5      174.00         1   \n",
       "\n",
       "   credit_card  last_activity  EST_SALARY  churn  \n",
       "0            0              1    75719.14      1  \n",
       "1            1              0    86621.77      0  \n",
       "2            1              1   107683.34      0  \n",
       "3            0              1   174423.53      1  \n",
       "4            1              0    67353.16      1  "
      ]
     },
     "execution_count": 35,
     "metadata": {},
     "output_type": "execute_result"
    }
   ],
   "source": [
    "data.info()\n",
    "data.head()"
   ]
  },
  {
   "cell_type": "markdown",
   "metadata": {},
   "source": [
    "Итак, мы видим, что в датасете 10000 строк и 12 столбцов. Названия столбцов необходимо переименовать в соответствии с хорошим стилем. Также в столбцах `age` и `balance` есть пропуски. Типы данных так же нужно будет изменить и проверить на дубликаты."
   ]
  },
  {
   "cell_type": "markdown",
   "metadata": {},
   "source": [
    "### Предобработка данных"
   ]
  },
  {
   "cell_type": "code",
   "execution_count": 36,
   "metadata": {},
   "outputs": [
    {
     "name": "stdout",
     "output_type": "stream",
     "text": [
      "<class 'pandas.core.frame.DataFrame'>\n",
      "RangeIndex: 10000 entries, 0 to 9999\n",
      "Data columns (total 12 columns):\n",
      " #   Column         Non-Null Count  Dtype  \n",
      "---  ------         --------------  -----  \n",
      " 0   user_id        10000 non-null  int64  \n",
      " 1   score          10000 non-null  float64\n",
      " 2   city           10000 non-null  object \n",
      " 3   gender         10000 non-null  object \n",
      " 4   age            9974 non-null   float64\n",
      " 5   equity         10000 non-null  int64  \n",
      " 6   balance        7705 non-null   float64\n",
      " 7   products       10000 non-null  int64  \n",
      " 8   credit_card    10000 non-null  int64  \n",
      " 9   last_activity  10000 non-null  int64  \n",
      " 10  est_salary     10000 non-null  float64\n",
      " 11  churn          10000 non-null  int64  \n",
      "dtypes: float64(4), int64(6), object(2)\n",
      "memory usage: 937.6+ KB\n"
     ]
    }
   ],
   "source": [
    "# приведем названия столбцов к нижнему регистру.\n",
    "data.columns = data.columns.str.lower()\n",
    "# переименуем столбец userid\n",
    "data.rename(columns={'userid':'user_id'}, inplace=True)\n",
    "data.info()"
   ]
  },
  {
   "cell_type": "markdown",
   "metadata": {},
   "source": [
    "Посмотрим сколько пропусков в столбцах в процентах."
   ]
  },
  {
   "cell_type": "code",
   "execution_count": 37,
   "metadata": {},
   "outputs": [
    {
     "data": {
      "text/plain": [
       "user_id           0.00\n",
       "score             0.00\n",
       "city              0.00\n",
       "gender            0.00\n",
       "age               0.26\n",
       "equity            0.00\n",
       "balance          22.95\n",
       "products          0.00\n",
       "credit_card       0.00\n",
       "last_activity     0.00\n",
       "est_salary        0.00\n",
       "churn             0.00\n",
       "dtype: float64"
      ]
     },
     "execution_count": 37,
     "metadata": {},
     "output_type": "execute_result"
    }
   ],
   "source": [
    "data.isna().sum()/len(data)* 100"
   ]
  },
  {
   "cell_type": "markdown",
   "metadata": {},
   "source": [
    "Посмотрим на пропуски в столбце `balance`"
   ]
  },
  {
   "cell_type": "code",
   "execution_count": 38,
   "metadata": {},
   "outputs": [
    {
     "data": {
      "text/html": [
       "<div>\n",
       "<style scoped>\n",
       "    .dataframe tbody tr th:only-of-type {\n",
       "        vertical-align: middle;\n",
       "    }\n",
       "\n",
       "    .dataframe tbody tr th {\n",
       "        vertical-align: top;\n",
       "    }\n",
       "\n",
       "    .dataframe thead th {\n",
       "        text-align: right;\n",
       "    }\n",
       "</style>\n",
       "<table border=\"1\" class=\"dataframe\">\n",
       "  <thead>\n",
       "    <tr style=\"text-align: right;\">\n",
       "      <th></th>\n",
       "      <th>city</th>\n",
       "      <th>user_id</th>\n",
       "      <th>last_activity</th>\n",
       "      <th>churn</th>\n",
       "    </tr>\n",
       "  </thead>\n",
       "  <tbody>\n",
       "    <tr>\n",
       "      <th>0</th>\n",
       "      <td>Ростов</td>\n",
       "      <td>235</td>\n",
       "      <td>134</td>\n",
       "      <td>1</td>\n",
       "    </tr>\n",
       "    <tr>\n",
       "      <th>1</th>\n",
       "      <td>Рыбинск</td>\n",
       "      <td>593</td>\n",
       "      <td>332</td>\n",
       "      <td>4</td>\n",
       "    </tr>\n",
       "    <tr>\n",
       "      <th>2</th>\n",
       "      <td>Ярославль</td>\n",
       "      <td>1467</td>\n",
       "      <td>795</td>\n",
       "      <td>8</td>\n",
       "    </tr>\n",
       "  </tbody>\n",
       "</table>\n",
       "</div>"
      ],
      "text/plain": [
       "        city  user_id  last_activity  churn\n",
       "0     Ростов      235            134      1\n",
       "1    Рыбинск      593            332      4\n",
       "2  Ярославль     1467            795      8"
      ]
     },
     "execution_count": 38,
     "metadata": {},
     "output_type": "execute_result"
    }
   ],
   "source": [
    "# создадим датасет с пропусками в балансе\n",
    "data_balance_nan = data.query('balance.isna() == True')\n",
    "#сгруппируем по городам и посмотрим активность и отточность этих клиентов\n",
    "data_balance_nan = data_balance_nan.groupby('city').agg({'user_id' : 'count', 'last_activity' : 'sum', 'churn' : 'sum'}).reset_index() \n",
    "data_balance_nan"
   ]
  },
  {
   "cell_type": "markdown",
   "metadata": {},
   "source": [
    "Из таблицы видно, что в каждом городе есть небольшая часть клиентов с пропусками в балансе. Пропуски есть как у активных клиентов так и неактивных. Также пропуски не связаны с отточностью клиентов. Поскольку пропусков много (22,95%) удалить такой объем мы не можем, но и корректно заполнить их никак. Оставим как есть. В столбце `age` пропусков всего 0,26%, так что мы можем смело удалять пропуски. "
   ]
  },
  {
   "cell_type": "code",
   "execution_count": 39,
   "metadata": {},
   "outputs": [],
   "source": [
    "#удаляем пропуски\n",
    "data = data.dropna(subset=['age'])"
   ]
  },
  {
   "cell_type": "markdown",
   "metadata": {},
   "source": [
    "Далее заменим тип данных у столбцов `score`, `age`. "
   ]
  },
  {
   "cell_type": "code",
   "execution_count": 40,
   "metadata": {},
   "outputs": [
    {
     "name": "stdout",
     "output_type": "stream",
     "text": [
      "<class 'pandas.core.frame.DataFrame'>\n",
      "Int64Index: 9974 entries, 0 to 9999\n",
      "Data columns (total 12 columns):\n",
      " #   Column         Non-Null Count  Dtype  \n",
      "---  ------         --------------  -----  \n",
      " 0   user_id        9974 non-null   int64  \n",
      " 1   score          9974 non-null   int64  \n",
      " 2   city           9974 non-null   object \n",
      " 3   gender         9974 non-null   object \n",
      " 4   age            9974 non-null   int64  \n",
      " 5   equity         9974 non-null   int64  \n",
      " 6   balance        7695 non-null   float64\n",
      " 7   products       9974 non-null   int64  \n",
      " 8   credit_card    9974 non-null   int64  \n",
      " 9   last_activity  9974 non-null   int64  \n",
      " 10  est_salary     9974 non-null   float64\n",
      " 11  churn          9974 non-null   int64  \n",
      "dtypes: float64(2), int64(8), object(2)\n",
      "memory usage: 1013.0+ KB\n"
     ]
    }
   ],
   "source": [
    "# заменим тип данных\n",
    "data['score'] = data['score'].astype('int64')\n",
    "data['age'] = data['age'].astype('int64')\n",
    "data.info()"
   ]
  },
  {
   "cell_type": "markdown",
   "metadata": {},
   "source": [
    "Проверим на дубликаты"
   ]
  },
  {
   "cell_type": "code",
   "execution_count": 41,
   "metadata": {},
   "outputs": [
    {
     "data": {
      "text/plain": [
       "0"
      ]
     },
     "execution_count": 41,
     "metadata": {},
     "output_type": "execute_result"
    }
   ],
   "source": [
    "#проверим на явные дубликаты\n",
    "data.duplicated().sum()"
   ]
  },
  {
   "cell_type": "markdown",
   "metadata": {},
   "source": [
    "Явных дубликатов нет. Теперь проверим столбец `user_id` на дубликаты, т.к. у каждого клиента должен быть свой уникальных id. "
   ]
  },
  {
   "cell_type": "code",
   "execution_count": 42,
   "metadata": {},
   "outputs": [
    {
     "data": {
      "text/plain": [
       "50"
      ]
     },
     "execution_count": 42,
     "metadata": {},
     "output_type": "execute_result"
    }
   ],
   "source": [
    "#data.duplicated(['user_id']).sum()/len(data)* 100\n",
    "data.duplicated(['user_id']).sum()"
   ]
  },
  {
   "cell_type": "markdown",
   "metadata": {},
   "source": [
    "Мы видим, что есть 50 пар id. Выведем их на экран."
   ]
  },
  {
   "cell_type": "code",
   "execution_count": 43,
   "metadata": {},
   "outputs": [
    {
     "data": {
      "text/html": [
       "<div>\n",
       "<style scoped>\n",
       "    .dataframe tbody tr th:only-of-type {\n",
       "        vertical-align: middle;\n",
       "    }\n",
       "\n",
       "    .dataframe tbody tr th {\n",
       "        vertical-align: top;\n",
       "    }\n",
       "\n",
       "    .dataframe thead th {\n",
       "        text-align: right;\n",
       "    }\n",
       "</style>\n",
       "<table border=\"1\" class=\"dataframe\">\n",
       "  <thead>\n",
       "    <tr style=\"text-align: right;\">\n",
       "      <th></th>\n",
       "      <th>user_id</th>\n",
       "      <th>score</th>\n",
       "      <th>city</th>\n",
       "      <th>gender</th>\n",
       "      <th>age</th>\n",
       "      <th>equity</th>\n",
       "      <th>balance</th>\n",
       "      <th>products</th>\n",
       "      <th>credit_card</th>\n",
       "      <th>last_activity</th>\n",
       "      <th>est_salary</th>\n",
       "      <th>churn</th>\n",
       "    </tr>\n",
       "  </thead>\n",
       "  <tbody>\n",
       "    <tr>\n",
       "      <th>1893</th>\n",
       "      <td>116540</td>\n",
       "      <td>883</td>\n",
       "      <td>Рыбинск</td>\n",
       "      <td>Ж</td>\n",
       "      <td>55</td>\n",
       "      <td>1</td>\n",
       "      <td>362756.49</td>\n",
       "      <td>3</td>\n",
       "      <td>0</td>\n",
       "      <td>1</td>\n",
       "      <td>175920.48</td>\n",
       "      <td>1</td>\n",
       "    </tr>\n",
       "    <tr>\n",
       "      <th>7694</th>\n",
       "      <td>116540</td>\n",
       "      <td>887</td>\n",
       "      <td>Ярославль</td>\n",
       "      <td>Ж</td>\n",
       "      <td>38</td>\n",
       "      <td>0</td>\n",
       "      <td>NaN</td>\n",
       "      <td>1</td>\n",
       "      <td>0</td>\n",
       "      <td>1</td>\n",
       "      <td>119247.61</td>\n",
       "      <td>0</td>\n",
       "    </tr>\n",
       "    <tr>\n",
       "      <th>4866</th>\n",
       "      <td>117943</td>\n",
       "      <td>855</td>\n",
       "      <td>Рыбинск</td>\n",
       "      <td>Ж</td>\n",
       "      <td>32</td>\n",
       "      <td>6</td>\n",
       "      <td>1036832.93</td>\n",
       "      <td>4</td>\n",
       "      <td>1</td>\n",
       "      <td>1</td>\n",
       "      <td>107792.71</td>\n",
       "      <td>1</td>\n",
       "    </tr>\n",
       "    <tr>\n",
       "      <th>7542</th>\n",
       "      <td>117943</td>\n",
       "      <td>880</td>\n",
       "      <td>Ярославль</td>\n",
       "      <td>Ж</td>\n",
       "      <td>40</td>\n",
       "      <td>0</td>\n",
       "      <td>NaN</td>\n",
       "      <td>1</td>\n",
       "      <td>1</td>\n",
       "      <td>0</td>\n",
       "      <td>137718.93</td>\n",
       "      <td>0</td>\n",
       "    </tr>\n",
       "    <tr>\n",
       "      <th>5863</th>\n",
       "      <td>120258</td>\n",
       "      <td>908</td>\n",
       "      <td>Рыбинск</td>\n",
       "      <td>Ж</td>\n",
       "      <td>38</td>\n",
       "      <td>4</td>\n",
       "      <td>2213581.63</td>\n",
       "      <td>2</td>\n",
       "      <td>0</td>\n",
       "      <td>1</td>\n",
       "      <td>160327.77</td>\n",
       "      <td>1</td>\n",
       "    </tr>\n",
       "    <tr>\n",
       "      <th>5896</th>\n",
       "      <td>120258</td>\n",
       "      <td>905</td>\n",
       "      <td>Ярославль</td>\n",
       "      <td>М</td>\n",
       "      <td>30</td>\n",
       "      <td>0</td>\n",
       "      <td>NaN</td>\n",
       "      <td>1</td>\n",
       "      <td>1</td>\n",
       "      <td>1</td>\n",
       "      <td>146427.96</td>\n",
       "      <td>0</td>\n",
       "    </tr>\n",
       "    <tr>\n",
       "      <th>1411</th>\n",
       "      <td>123461</td>\n",
       "      <td>829</td>\n",
       "      <td>Ярославль</td>\n",
       "      <td>Ж</td>\n",
       "      <td>59</td>\n",
       "      <td>0</td>\n",
       "      <td>96222.44</td>\n",
       "      <td>2</td>\n",
       "      <td>0</td>\n",
       "      <td>1</td>\n",
       "      <td>102771.55</td>\n",
       "      <td>1</td>\n",
       "    </tr>\n",
       "    <tr>\n",
       "      <th>8638</th>\n",
       "      <td>123461</td>\n",
       "      <td>934</td>\n",
       "      <td>Рыбинск</td>\n",
       "      <td>М</td>\n",
       "      <td>34</td>\n",
       "      <td>0</td>\n",
       "      <td>NaN</td>\n",
       "      <td>2</td>\n",
       "      <td>1</td>\n",
       "      <td>0</td>\n",
       "      <td>291619.27</td>\n",
       "      <td>0</td>\n",
       "    </tr>\n",
       "    <tr>\n",
       "      <th>9775</th>\n",
       "      <td>124450</td>\n",
       "      <td>758</td>\n",
       "      <td>Рыбинск</td>\n",
       "      <td>Ж</td>\n",
       "      <td>36</td>\n",
       "      <td>0</td>\n",
       "      <td>73574.07</td>\n",
       "      <td>2</td>\n",
       "      <td>0</td>\n",
       "      <td>1</td>\n",
       "      <td>79963.59</td>\n",
       "      <td>0</td>\n",
       "    </tr>\n",
       "    <tr>\n",
       "      <th>8164</th>\n",
       "      <td>124450</td>\n",
       "      <td>859</td>\n",
       "      <td>Ярославль</td>\n",
       "      <td>Ж</td>\n",
       "      <td>38</td>\n",
       "      <td>6</td>\n",
       "      <td>516811.20</td>\n",
       "      <td>1</td>\n",
       "      <td>1</td>\n",
       "      <td>1</td>\n",
       "      <td>95144.63</td>\n",
       "      <td>1</td>\n",
       "    </tr>\n",
       "    <tr>\n",
       "      <th>4850</th>\n",
       "      <td>126368</td>\n",
       "      <td>909</td>\n",
       "      <td>Ярославль</td>\n",
       "      <td>Ж</td>\n",
       "      <td>30</td>\n",
       "      <td>4</td>\n",
       "      <td>1322623.29</td>\n",
       "      <td>2</td>\n",
       "      <td>0</td>\n",
       "      <td>1</td>\n",
       "      <td>140675.66</td>\n",
       "      <td>1</td>\n",
       "    </tr>\n",
       "    <tr>\n",
       "      <th>5420</th>\n",
       "      <td>126368</td>\n",
       "      <td>832</td>\n",
       "      <td>Рыбинск</td>\n",
       "      <td>Ж</td>\n",
       "      <td>33</td>\n",
       "      <td>0</td>\n",
       "      <td>NaN</td>\n",
       "      <td>1</td>\n",
       "      <td>0</td>\n",
       "      <td>0</td>\n",
       "      <td>118465.34</td>\n",
       "      <td>0</td>\n",
       "    </tr>\n",
       "    <tr>\n",
       "      <th>3988</th>\n",
       "      <td>129785</td>\n",
       "      <td>904</td>\n",
       "      <td>Рыбинск</td>\n",
       "      <td>М</td>\n",
       "      <td>33</td>\n",
       "      <td>5</td>\n",
       "      <td>2427737.60</td>\n",
       "      <td>3</td>\n",
       "      <td>0</td>\n",
       "      <td>1</td>\n",
       "      <td>188856.75</td>\n",
       "      <td>1</td>\n",
       "    </tr>\n",
       "    <tr>\n",
       "      <th>9504</th>\n",
       "      <td>129785</td>\n",
       "      <td>949</td>\n",
       "      <td>Ярославль</td>\n",
       "      <td>М</td>\n",
       "      <td>43</td>\n",
       "      <td>0</td>\n",
       "      <td>NaN</td>\n",
       "      <td>1</td>\n",
       "      <td>1</td>\n",
       "      <td>1</td>\n",
       "      <td>166845.37</td>\n",
       "      <td>0</td>\n",
       "    </tr>\n",
       "    <tr>\n",
       "      <th>2138</th>\n",
       "      <td>131419</td>\n",
       "      <td>739</td>\n",
       "      <td>Рыбинск</td>\n",
       "      <td>Ж</td>\n",
       "      <td>37</td>\n",
       "      <td>3</td>\n",
       "      <td>1307941.65</td>\n",
       "      <td>3</td>\n",
       "      <td>0</td>\n",
       "      <td>0</td>\n",
       "      <td>103867.47</td>\n",
       "      <td>0</td>\n",
       "    </tr>\n",
       "    <tr>\n",
       "      <th>904</th>\n",
       "      <td>131419</td>\n",
       "      <td>934</td>\n",
       "      <td>Ярославль</td>\n",
       "      <td>М</td>\n",
       "      <td>35</td>\n",
       "      <td>5</td>\n",
       "      <td>2348335.95</td>\n",
       "      <td>2</td>\n",
       "      <td>0</td>\n",
       "      <td>0</td>\n",
       "      <td>217105.13</td>\n",
       "      <td>1</td>\n",
       "    </tr>\n",
       "    <tr>\n",
       "      <th>1608</th>\n",
       "      <td>140377</td>\n",
       "      <td>802</td>\n",
       "      <td>Ярославль</td>\n",
       "      <td>М</td>\n",
       "      <td>26</td>\n",
       "      <td>3</td>\n",
       "      <td>539863.29</td>\n",
       "      <td>4</td>\n",
       "      <td>1</td>\n",
       "      <td>1</td>\n",
       "      <td>112167.83</td>\n",
       "      <td>1</td>\n",
       "    </tr>\n",
       "    <tr>\n",
       "      <th>7487</th>\n",
       "      <td>140377</td>\n",
       "      <td>930</td>\n",
       "      <td>Рыбинск</td>\n",
       "      <td>Ж</td>\n",
       "      <td>34</td>\n",
       "      <td>5</td>\n",
       "      <td>1123967.02</td>\n",
       "      <td>1</td>\n",
       "      <td>1</td>\n",
       "      <td>1</td>\n",
       "      <td>148336.26</td>\n",
       "      <td>0</td>\n",
       "    </tr>\n",
       "    <tr>\n",
       "      <th>2276</th>\n",
       "      <td>141265</td>\n",
       "      <td>858</td>\n",
       "      <td>Ярославль</td>\n",
       "      <td>М</td>\n",
       "      <td>37</td>\n",
       "      <td>4</td>\n",
       "      <td>471599.16</td>\n",
       "      <td>2</td>\n",
       "      <td>1</td>\n",
       "      <td>1</td>\n",
       "      <td>148806.88</td>\n",
       "      <td>1</td>\n",
       "    </tr>\n",
       "    <tr>\n",
       "      <th>5569</th>\n",
       "      <td>141265</td>\n",
       "      <td>811</td>\n",
       "      <td>Рыбинск</td>\n",
       "      <td>Ж</td>\n",
       "      <td>33</td>\n",
       "      <td>3</td>\n",
       "      <td>1044316.88</td>\n",
       "      <td>2</td>\n",
       "      <td>1</td>\n",
       "      <td>0</td>\n",
       "      <td>46055.32</td>\n",
       "      <td>0</td>\n",
       "    </tr>\n",
       "    <tr>\n",
       "      <th>5369</th>\n",
       "      <td>143592</td>\n",
       "      <td>885</td>\n",
       "      <td>Рыбинск</td>\n",
       "      <td>Ж</td>\n",
       "      <td>56</td>\n",
       "      <td>4</td>\n",
       "      <td>1201087.46</td>\n",
       "      <td>2</td>\n",
       "      <td>1</td>\n",
       "      <td>1</td>\n",
       "      <td>88223.89</td>\n",
       "      <td>1</td>\n",
       "    </tr>\n",
       "    <tr>\n",
       "      <th>5557</th>\n",
       "      <td>143592</td>\n",
       "      <td>764</td>\n",
       "      <td>Ярославль</td>\n",
       "      <td>Ж</td>\n",
       "      <td>68</td>\n",
       "      <td>3</td>\n",
       "      <td>508919.15</td>\n",
       "      <td>2</td>\n",
       "      <td>0</td>\n",
       "      <td>1</td>\n",
       "      <td>71211.66</td>\n",
       "      <td>0</td>\n",
       "    </tr>\n",
       "    <tr>\n",
       "      <th>8364</th>\n",
       "      <td>148826</td>\n",
       "      <td>909</td>\n",
       "      <td>Рыбинск</td>\n",
       "      <td>Ж</td>\n",
       "      <td>32</td>\n",
       "      <td>0</td>\n",
       "      <td>NaN</td>\n",
       "      <td>3</td>\n",
       "      <td>1</td>\n",
       "      <td>0</td>\n",
       "      <td>28843.54</td>\n",
       "      <td>0</td>\n",
       "    </tr>\n",
       "    <tr>\n",
       "      <th>5252</th>\n",
       "      <td>148826</td>\n",
       "      <td>895</td>\n",
       "      <td>Ярославль</td>\n",
       "      <td>М</td>\n",
       "      <td>32</td>\n",
       "      <td>5</td>\n",
       "      <td>1470273.14</td>\n",
       "      <td>2</td>\n",
       "      <td>0</td>\n",
       "      <td>0</td>\n",
       "      <td>118058.52</td>\n",
       "      <td>1</td>\n",
       "    </tr>\n",
       "    <tr>\n",
       "      <th>946</th>\n",
       "      <td>149365</td>\n",
       "      <td>877</td>\n",
       "      <td>Ярославль</td>\n",
       "      <td>М</td>\n",
       "      <td>41</td>\n",
       "      <td>5</td>\n",
       "      <td>819182.01</td>\n",
       "      <td>2</td>\n",
       "      <td>0</td>\n",
       "      <td>0</td>\n",
       "      <td>212316.47</td>\n",
       "      <td>1</td>\n",
       "    </tr>\n",
       "    <tr>\n",
       "      <th>8272</th>\n",
       "      <td>149365</td>\n",
       "      <td>793</td>\n",
       "      <td>Рыбинск</td>\n",
       "      <td>Ж</td>\n",
       "      <td>61</td>\n",
       "      <td>0</td>\n",
       "      <td>476496.99</td>\n",
       "      <td>2</td>\n",
       "      <td>1</td>\n",
       "      <td>1</td>\n",
       "      <td>46147.06</td>\n",
       "      <td>0</td>\n",
       "    </tr>\n",
       "    <tr>\n",
       "      <th>2439</th>\n",
       "      <td>150667</td>\n",
       "      <td>813</td>\n",
       "      <td>Рыбинск</td>\n",
       "      <td>Ж</td>\n",
       "      <td>44</td>\n",
       "      <td>0</td>\n",
       "      <td>62504.47</td>\n",
       "      <td>4</td>\n",
       "      <td>1</td>\n",
       "      <td>0</td>\n",
       "      <td>152393.79</td>\n",
       "      <td>1</td>\n",
       "    </tr>\n",
       "    <tr>\n",
       "      <th>9267</th>\n",
       "      <td>150667</td>\n",
       "      <td>931</td>\n",
       "      <td>Ярославль</td>\n",
       "      <td>М</td>\n",
       "      <td>41</td>\n",
       "      <td>0</td>\n",
       "      <td>NaN</td>\n",
       "      <td>1</td>\n",
       "      <td>0</td>\n",
       "      <td>0</td>\n",
       "      <td>261904.44</td>\n",
       "      <td>0</td>\n",
       "    </tr>\n",
       "    <tr>\n",
       "      <th>690</th>\n",
       "      <td>152479</td>\n",
       "      <td>768</td>\n",
       "      <td>Рыбинск</td>\n",
       "      <td>Ж</td>\n",
       "      <td>42</td>\n",
       "      <td>0</td>\n",
       "      <td>126787.79</td>\n",
       "      <td>4</td>\n",
       "      <td>1</td>\n",
       "      <td>1</td>\n",
       "      <td>143233.23</td>\n",
       "      <td>1</td>\n",
       "    </tr>\n",
       "    <tr>\n",
       "      <th>5705</th>\n",
       "      <td>152479</td>\n",
       "      <td>723</td>\n",
       "      <td>Ярославль</td>\n",
       "      <td>Ж</td>\n",
       "      <td>22</td>\n",
       "      <td>0</td>\n",
       "      <td>NaN</td>\n",
       "      <td>1</td>\n",
       "      <td>1</td>\n",
       "      <td>0</td>\n",
       "      <td>83955.65</td>\n",
       "      <td>0</td>\n",
       "    </tr>\n",
       "    <tr>\n",
       "      <th>3274</th>\n",
       "      <td>155765</td>\n",
       "      <td>863</td>\n",
       "      <td>Ярославль</td>\n",
       "      <td>М</td>\n",
       "      <td>30</td>\n",
       "      <td>5</td>\n",
       "      <td>1036114.50</td>\n",
       "      <td>5</td>\n",
       "      <td>1</td>\n",
       "      <td>1</td>\n",
       "      <td>150744.50</td>\n",
       "      <td>1</td>\n",
       "    </tr>\n",
       "    <tr>\n",
       "      <th>5197</th>\n",
       "      <td>155765</td>\n",
       "      <td>923</td>\n",
       "      <td>Рыбинск</td>\n",
       "      <td>М</td>\n",
       "      <td>30</td>\n",
       "      <td>0</td>\n",
       "      <td>NaN</td>\n",
       "      <td>1</td>\n",
       "      <td>1</td>\n",
       "      <td>1</td>\n",
       "      <td>120296.60</td>\n",
       "      <td>0</td>\n",
       "    </tr>\n",
       "    <tr>\n",
       "      <th>1080</th>\n",
       "      <td>155872</td>\n",
       "      <td>896</td>\n",
       "      <td>Ярославль</td>\n",
       "      <td>М</td>\n",
       "      <td>36</td>\n",
       "      <td>3</td>\n",
       "      <td>1113656.92</td>\n",
       "      <td>3</td>\n",
       "      <td>0</td>\n",
       "      <td>1</td>\n",
       "      <td>291176.85</td>\n",
       "      <td>1</td>\n",
       "    </tr>\n",
       "    <tr>\n",
       "      <th>9363</th>\n",
       "      <td>155872</td>\n",
       "      <td>714</td>\n",
       "      <td>Рыбинск</td>\n",
       "      <td>Ж</td>\n",
       "      <td>29</td>\n",
       "      <td>0</td>\n",
       "      <td>NaN</td>\n",
       "      <td>1</td>\n",
       "      <td>1</td>\n",
       "      <td>0</td>\n",
       "      <td>118052.84</td>\n",
       "      <td>0</td>\n",
       "    </tr>\n",
       "    <tr>\n",
       "      <th>3936</th>\n",
       "      <td>160075</td>\n",
       "      <td>899</td>\n",
       "      <td>Ярославль</td>\n",
       "      <td>М</td>\n",
       "      <td>34</td>\n",
       "      <td>4</td>\n",
       "      <td>1647814.67</td>\n",
       "      <td>4</td>\n",
       "      <td>1</td>\n",
       "      <td>0</td>\n",
       "      <td>151888.42</td>\n",
       "      <td>1</td>\n",
       "    </tr>\n",
       "    <tr>\n",
       "      <th>9508</th>\n",
       "      <td>160075</td>\n",
       "      <td>824</td>\n",
       "      <td>Рыбинск</td>\n",
       "      <td>Ж</td>\n",
       "      <td>57</td>\n",
       "      <td>3</td>\n",
       "      <td>355047.33</td>\n",
       "      <td>2</td>\n",
       "      <td>0</td>\n",
       "      <td>0</td>\n",
       "      <td>64351.81</td>\n",
       "      <td>0</td>\n",
       "    </tr>\n",
       "    <tr>\n",
       "      <th>8733</th>\n",
       "      <td>162053</td>\n",
       "      <td>786</td>\n",
       "      <td>Ярославль</td>\n",
       "      <td>М</td>\n",
       "      <td>29</td>\n",
       "      <td>4</td>\n",
       "      <td>205824.97</td>\n",
       "      <td>3</td>\n",
       "      <td>1</td>\n",
       "      <td>0</td>\n",
       "      <td>121371.73</td>\n",
       "      <td>0</td>\n",
       "    </tr>\n",
       "    <tr>\n",
       "      <th>5629</th>\n",
       "      <td>162053</td>\n",
       "      <td>921</td>\n",
       "      <td>Рыбинск</td>\n",
       "      <td>М</td>\n",
       "      <td>33</td>\n",
       "      <td>3</td>\n",
       "      <td>857011.13</td>\n",
       "      <td>2</td>\n",
       "      <td>1</td>\n",
       "      <td>1</td>\n",
       "      <td>113512.57</td>\n",
       "      <td>1</td>\n",
       "    </tr>\n",
       "    <tr>\n",
       "      <th>6786</th>\n",
       "      <td>163207</td>\n",
       "      <td>838</td>\n",
       "      <td>Ярославль</td>\n",
       "      <td>Ж</td>\n",
       "      <td>42</td>\n",
       "      <td>4</td>\n",
       "      <td>652776.60</td>\n",
       "      <td>2</td>\n",
       "      <td>1</td>\n",
       "      <td>1</td>\n",
       "      <td>97545.36</td>\n",
       "      <td>0</td>\n",
       "    </tr>\n",
       "    <tr>\n",
       "      <th>3564</th>\n",
       "      <td>163207</td>\n",
       "      <td>853</td>\n",
       "      <td>Рыбинск</td>\n",
       "      <td>М</td>\n",
       "      <td>42</td>\n",
       "      <td>4</td>\n",
       "      <td>543839.62</td>\n",
       "      <td>1</td>\n",
       "      <td>1</td>\n",
       "      <td>1</td>\n",
       "      <td>105281.97</td>\n",
       "      <td>1</td>\n",
       "    </tr>\n",
       "    <tr>\n",
       "      <th>7271</th>\n",
       "      <td>164676</td>\n",
       "      <td>790</td>\n",
       "      <td>Рыбинск</td>\n",
       "      <td>Ж</td>\n",
       "      <td>77</td>\n",
       "      <td>1</td>\n",
       "      <td>111202.01</td>\n",
       "      <td>1</td>\n",
       "      <td>1</td>\n",
       "      <td>0</td>\n",
       "      <td>32835.45</td>\n",
       "      <td>0</td>\n",
       "    </tr>\n",
       "    <tr>\n",
       "      <th>58</th>\n",
       "      <td>164676</td>\n",
       "      <td>860</td>\n",
       "      <td>Ярославль</td>\n",
       "      <td>М</td>\n",
       "      <td>37</td>\n",
       "      <td>5</td>\n",
       "      <td>648594.03</td>\n",
       "      <td>2</td>\n",
       "      <td>1</td>\n",
       "      <td>1</td>\n",
       "      <td>213586.86</td>\n",
       "      <td>1</td>\n",
       "    </tr>\n",
       "    <tr>\n",
       "      <th>9785</th>\n",
       "      <td>168998</td>\n",
       "      <td>895</td>\n",
       "      <td>Рыбинск</td>\n",
       "      <td>М</td>\n",
       "      <td>44</td>\n",
       "      <td>0</td>\n",
       "      <td>282653.53</td>\n",
       "      <td>3</td>\n",
       "      <td>0</td>\n",
       "      <td>0</td>\n",
       "      <td>255296.47</td>\n",
       "      <td>0</td>\n",
       "    </tr>\n",
       "    <tr>\n",
       "      <th>5020</th>\n",
       "      <td>168998</td>\n",
       "      <td>886</td>\n",
       "      <td>Ярославль</td>\n",
       "      <td>Ж</td>\n",
       "      <td>35</td>\n",
       "      <td>4</td>\n",
       "      <td>394780.61</td>\n",
       "      <td>2</td>\n",
       "      <td>1</td>\n",
       "      <td>1</td>\n",
       "      <td>510577.10</td>\n",
       "      <td>1</td>\n",
       "    </tr>\n",
       "    <tr>\n",
       "      <th>790</th>\n",
       "      <td>170312</td>\n",
       "      <td>901</td>\n",
       "      <td>Ярославль</td>\n",
       "      <td>М</td>\n",
       "      <td>33</td>\n",
       "      <td>4</td>\n",
       "      <td>3276783.93</td>\n",
       "      <td>3</td>\n",
       "      <td>0</td>\n",
       "      <td>1</td>\n",
       "      <td>358700.96</td>\n",
       "      <td>1</td>\n",
       "    </tr>\n",
       "    <tr>\n",
       "      <th>3039</th>\n",
       "      <td>170312</td>\n",
       "      <td>813</td>\n",
       "      <td>Рыбинск</td>\n",
       "      <td>Ж</td>\n",
       "      <td>47</td>\n",
       "      <td>3</td>\n",
       "      <td>370027.67</td>\n",
       "      <td>2</td>\n",
       "      <td>0</td>\n",
       "      <td>0</td>\n",
       "      <td>129835.56</td>\n",
       "      <td>0</td>\n",
       "    </tr>\n",
       "    <tr>\n",
       "      <th>4587</th>\n",
       "      <td>171751</td>\n",
       "      <td>874</td>\n",
       "      <td>Рыбинск</td>\n",
       "      <td>Ж</td>\n",
       "      <td>26</td>\n",
       "      <td>5</td>\n",
       "      <td>292054.42</td>\n",
       "      <td>2</td>\n",
       "      <td>0</td>\n",
       "      <td>1</td>\n",
       "      <td>20528.56</td>\n",
       "      <td>1</td>\n",
       "    </tr>\n",
       "    <tr>\n",
       "      <th>9653</th>\n",
       "      <td>171751</td>\n",
       "      <td>862</td>\n",
       "      <td>Ярославль</td>\n",
       "      <td>М</td>\n",
       "      <td>42</td>\n",
       "      <td>4</td>\n",
       "      <td>481992.19</td>\n",
       "      <td>2</td>\n",
       "      <td>1</td>\n",
       "      <td>0</td>\n",
       "      <td>71816.86</td>\n",
       "      <td>0</td>\n",
       "    </tr>\n",
       "    <tr>\n",
       "      <th>6756</th>\n",
       "      <td>172142</td>\n",
       "      <td>751</td>\n",
       "      <td>Рыбинск</td>\n",
       "      <td>Ж</td>\n",
       "      <td>69</td>\n",
       "      <td>3</td>\n",
       "      <td>396568.03</td>\n",
       "      <td>2</td>\n",
       "      <td>0</td>\n",
       "      <td>1</td>\n",
       "      <td>45608.45</td>\n",
       "      <td>0</td>\n",
       "    </tr>\n",
       "    <tr>\n",
       "      <th>2941</th>\n",
       "      <td>172142</td>\n",
       "      <td>896</td>\n",
       "      <td>Ярославль</td>\n",
       "      <td>Ж</td>\n",
       "      <td>30</td>\n",
       "      <td>4</td>\n",
       "      <td>1009073.14</td>\n",
       "      <td>4</td>\n",
       "      <td>1</td>\n",
       "      <td>0</td>\n",
       "      <td>70866.29</td>\n",
       "      <td>1</td>\n",
       "    </tr>\n",
       "  </tbody>\n",
       "</table>\n",
       "</div>"
      ],
      "text/plain": [
       "      user_id  score       city gender  age  equity     balance  products  \\\n",
       "1893   116540    883    Рыбинск      Ж   55       1   362756.49         3   \n",
       "7694   116540    887  Ярославль      Ж   38       0         NaN         1   \n",
       "4866   117943    855    Рыбинск      Ж   32       6  1036832.93         4   \n",
       "7542   117943    880  Ярославль      Ж   40       0         NaN         1   \n",
       "5863   120258    908    Рыбинск      Ж   38       4  2213581.63         2   \n",
       "5896   120258    905  Ярославль      М   30       0         NaN         1   \n",
       "1411   123461    829  Ярославль      Ж   59       0    96222.44         2   \n",
       "8638   123461    934    Рыбинск      М   34       0         NaN         2   \n",
       "9775   124450    758    Рыбинск      Ж   36       0    73574.07         2   \n",
       "8164   124450    859  Ярославль      Ж   38       6   516811.20         1   \n",
       "4850   126368    909  Ярославль      Ж   30       4  1322623.29         2   \n",
       "5420   126368    832    Рыбинск      Ж   33       0         NaN         1   \n",
       "3988   129785    904    Рыбинск      М   33       5  2427737.60         3   \n",
       "9504   129785    949  Ярославль      М   43       0         NaN         1   \n",
       "2138   131419    739    Рыбинск      Ж   37       3  1307941.65         3   \n",
       "904    131419    934  Ярославль      М   35       5  2348335.95         2   \n",
       "1608   140377    802  Ярославль      М   26       3   539863.29         4   \n",
       "7487   140377    930    Рыбинск      Ж   34       5  1123967.02         1   \n",
       "2276   141265    858  Ярославль      М   37       4   471599.16         2   \n",
       "5569   141265    811    Рыбинск      Ж   33       3  1044316.88         2   \n",
       "5369   143592    885    Рыбинск      Ж   56       4  1201087.46         2   \n",
       "5557   143592    764  Ярославль      Ж   68       3   508919.15         2   \n",
       "8364   148826    909    Рыбинск      Ж   32       0         NaN         3   \n",
       "5252   148826    895  Ярославль      М   32       5  1470273.14         2   \n",
       "946    149365    877  Ярославль      М   41       5   819182.01         2   \n",
       "8272   149365    793    Рыбинск      Ж   61       0   476496.99         2   \n",
       "2439   150667    813    Рыбинск      Ж   44       0    62504.47         4   \n",
       "9267   150667    931  Ярославль      М   41       0         NaN         1   \n",
       "690    152479    768    Рыбинск      Ж   42       0   126787.79         4   \n",
       "5705   152479    723  Ярославль      Ж   22       0         NaN         1   \n",
       "3274   155765    863  Ярославль      М   30       5  1036114.50         5   \n",
       "5197   155765    923    Рыбинск      М   30       0         NaN         1   \n",
       "1080   155872    896  Ярославль      М   36       3  1113656.92         3   \n",
       "9363   155872    714    Рыбинск      Ж   29       0         NaN         1   \n",
       "3936   160075    899  Ярославль      М   34       4  1647814.67         4   \n",
       "9508   160075    824    Рыбинск      Ж   57       3   355047.33         2   \n",
       "8733   162053    786  Ярославль      М   29       4   205824.97         3   \n",
       "5629   162053    921    Рыбинск      М   33       3   857011.13         2   \n",
       "6786   163207    838  Ярославль      Ж   42       4   652776.60         2   \n",
       "3564   163207    853    Рыбинск      М   42       4   543839.62         1   \n",
       "7271   164676    790    Рыбинск      Ж   77       1   111202.01         1   \n",
       "58     164676    860  Ярославль      М   37       5   648594.03         2   \n",
       "9785   168998    895    Рыбинск      М   44       0   282653.53         3   \n",
       "5020   168998    886  Ярославль      Ж   35       4   394780.61         2   \n",
       "790    170312    901  Ярославль      М   33       4  3276783.93         3   \n",
       "3039   170312    813    Рыбинск      Ж   47       3   370027.67         2   \n",
       "4587   171751    874    Рыбинск      Ж   26       5   292054.42         2   \n",
       "9653   171751    862  Ярославль      М   42       4   481992.19         2   \n",
       "6756   172142    751    Рыбинск      Ж   69       3   396568.03         2   \n",
       "2941   172142    896  Ярославль      Ж   30       4  1009073.14         4   \n",
       "\n",
       "      credit_card  last_activity  est_salary  churn  \n",
       "1893            0              1   175920.48      1  \n",
       "7694            0              1   119247.61      0  \n",
       "4866            1              1   107792.71      1  \n",
       "7542            1              0   137718.93      0  \n",
       "5863            0              1   160327.77      1  \n",
       "5896            1              1   146427.96      0  \n",
       "1411            0              1   102771.55      1  \n",
       "8638            1              0   291619.27      0  \n",
       "9775            0              1    79963.59      0  \n",
       "8164            1              1    95144.63      1  \n",
       "4850            0              1   140675.66      1  \n",
       "5420            0              0   118465.34      0  \n",
       "3988            0              1   188856.75      1  \n",
       "9504            1              1   166845.37      0  \n",
       "2138            0              0   103867.47      0  \n",
       "904             0              0   217105.13      1  \n",
       "1608            1              1   112167.83      1  \n",
       "7487            1              1   148336.26      0  \n",
       "2276            1              1   148806.88      1  \n",
       "5569            1              0    46055.32      0  \n",
       "5369            1              1    88223.89      1  \n",
       "5557            0              1    71211.66      0  \n",
       "8364            1              0    28843.54      0  \n",
       "5252            0              0   118058.52      1  \n",
       "946             0              0   212316.47      1  \n",
       "8272            1              1    46147.06      0  \n",
       "2439            1              0   152393.79      1  \n",
       "9267            0              0   261904.44      0  \n",
       "690             1              1   143233.23      1  \n",
       "5705            1              0    83955.65      0  \n",
       "3274            1              1   150744.50      1  \n",
       "5197            1              1   120296.60      0  \n",
       "1080            0              1   291176.85      1  \n",
       "9363            1              0   118052.84      0  \n",
       "3936            1              0   151888.42      1  \n",
       "9508            0              0    64351.81      0  \n",
       "8733            1              0   121371.73      0  \n",
       "5629            1              1   113512.57      1  \n",
       "6786            1              1    97545.36      0  \n",
       "3564            1              1   105281.97      1  \n",
       "7271            1              0    32835.45      0  \n",
       "58              1              1   213586.86      1  \n",
       "9785            0              0   255296.47      0  \n",
       "5020            1              1   510577.10      1  \n",
       "790             0              1   358700.96      1  \n",
       "3039            0              0   129835.56      0  \n",
       "4587            0              1    20528.56      1  \n",
       "9653            1              0    71816.86      0  \n",
       "6756            0              1    45608.45      0  \n",
       "2941            1              0    70866.29      1  "
      ]
     },
     "execution_count": 43,
     "metadata": {},
     "output_type": "execute_result"
    }
   ],
   "source": [
    "data[data.duplicated(['user_id'], keep=False)].sort_values(by='user_id').head(50)"
   ]
  },
  {
   "cell_type": "markdown",
   "metadata": {},
   "source": [
    "Данные у повторяющихся id разные. Мы видим, что это клиенты из Рыбинска и Ярославля, а также можно обратить внимание, что у одного и того же id один клиент отточный. Вероятно это ошибка при заполнении, когда клиент уходил из банка его номер присваивался новому из другого города. Возможно у них не было общей базы при заполнении. Удалять не будем.\n",
    "\n",
    "\n",
    "Посмотрим на уникальные значения в столбцах с названием города и пола."
   ]
  },
  {
   "cell_type": "code",
   "execution_count": 44,
   "metadata": {},
   "outputs": [
    {
     "data": {
      "text/plain": [
       "array(['Рыбинск', 'Ярославль', 'Ростов'], dtype=object)"
      ]
     },
     "execution_count": 44,
     "metadata": {},
     "output_type": "execute_result"
    }
   ],
   "source": [
    "data['city'].unique()"
   ]
  },
  {
   "cell_type": "code",
   "execution_count": 45,
   "metadata": {},
   "outputs": [
    {
     "data": {
      "text/plain": [
       "array(['Ж', 'М'], dtype=object)"
      ]
     },
     "execution_count": 45,
     "metadata": {},
     "output_type": "execute_result"
    }
   ],
   "source": [
    "data['gender'].unique()"
   ]
  },
  {
   "cell_type": "code",
   "execution_count": 46,
   "metadata": {},
   "outputs": [
    {
     "data": {
      "text/plain": [
       "9974"
      ]
     },
     "execution_count": 46,
     "metadata": {},
     "output_type": "execute_result"
    }
   ],
   "source": [
    "data.shape[0]"
   ]
  },
  {
   "cell_type": "markdown",
   "metadata": {},
   "source": [
    "Итак, была проведена предобработка дааных. Данные были проверены на явные и неявные дубликаты. Пропуски в столбце с возрастом удалены, а в столбце с балансом их невозможно заполнить корректно. Наименование столбцов было приведено к единому хорошему стилю, а также был изменен тип у столбцов, где это требовалось."
   ]
  },
  {
   "cell_type": "markdown",
   "metadata": {},
   "source": [
    "### Исследовательский анализ"
   ]
  },
  {
   "cell_type": "markdown",
   "metadata": {},
   "source": [
    "Исследуем аномальные значения. Посмотрим описательную статистику."
   ]
  },
  {
   "cell_type": "code",
   "execution_count": 47,
   "metadata": {},
   "outputs": [
    {
     "data": {
      "text/html": [
       "<div>\n",
       "<style scoped>\n",
       "    .dataframe tbody tr th:only-of-type {\n",
       "        vertical-align: middle;\n",
       "    }\n",
       "\n",
       "    .dataframe tbody tr th {\n",
       "        vertical-align: top;\n",
       "    }\n",
       "\n",
       "    .dataframe thead th {\n",
       "        text-align: right;\n",
       "    }\n",
       "</style>\n",
       "<table border=\"1\" class=\"dataframe\">\n",
       "  <thead>\n",
       "    <tr style=\"text-align: right;\">\n",
       "      <th></th>\n",
       "      <th>user_id</th>\n",
       "      <th>score</th>\n",
       "      <th>age</th>\n",
       "      <th>equity</th>\n",
       "      <th>balance</th>\n",
       "      <th>products</th>\n",
       "      <th>credit_card</th>\n",
       "      <th>last_activity</th>\n",
       "      <th>est_salary</th>\n",
       "      <th>churn</th>\n",
       "    </tr>\n",
       "  </thead>\n",
       "  <tbody>\n",
       "    <tr>\n",
       "      <th>count</th>\n",
       "      <td>9974.00</td>\n",
       "      <td>9974.00</td>\n",
       "      <td>9974.00</td>\n",
       "      <td>9974.00</td>\n",
       "      <td>7.695000e+03</td>\n",
       "      <td>9974.00</td>\n",
       "      <td>9974.00</td>\n",
       "      <td>9974.00</td>\n",
       "      <td>9974.00</td>\n",
       "      <td>9974.00</td>\n",
       "    </tr>\n",
       "    <tr>\n",
       "      <th>mean</th>\n",
       "      <td>171755.22</td>\n",
       "      <td>848.68</td>\n",
       "      <td>42.73</td>\n",
       "      <td>2.63</td>\n",
       "      <td>8.272456e+05</td>\n",
       "      <td>1.87</td>\n",
       "      <td>0.68</td>\n",
       "      <td>0.52</td>\n",
       "      <td>147786.81</td>\n",
       "      <td>0.18</td>\n",
       "    </tr>\n",
       "    <tr>\n",
       "      <th>std</th>\n",
       "      <td>33695.53</td>\n",
       "      <td>65.40</td>\n",
       "      <td>12.18</td>\n",
       "      <td>1.98</td>\n",
       "      <td>1.980327e+06</td>\n",
       "      <td>0.79</td>\n",
       "      <td>0.47</td>\n",
       "      <td>0.50</td>\n",
       "      <td>139285.51</td>\n",
       "      <td>0.39</td>\n",
       "    </tr>\n",
       "    <tr>\n",
       "      <th>min</th>\n",
       "      <td>94561.00</td>\n",
       "      <td>642.00</td>\n",
       "      <td>18.00</td>\n",
       "      <td>0.00</td>\n",
       "      <td>0.000000e+00</td>\n",
       "      <td>0.00</td>\n",
       "      <td>0.00</td>\n",
       "      <td>0.00</td>\n",
       "      <td>2546.30</td>\n",
       "      <td>0.00</td>\n",
       "    </tr>\n",
       "    <tr>\n",
       "      <th>25%</th>\n",
       "      <td>142760.00</td>\n",
       "      <td>802.00</td>\n",
       "      <td>33.00</td>\n",
       "      <td>0.00</td>\n",
       "      <td>2.956987e+05</td>\n",
       "      <td>1.00</td>\n",
       "      <td>0.00</td>\n",
       "      <td>0.00</td>\n",
       "      <td>75251.66</td>\n",
       "      <td>0.00</td>\n",
       "    </tr>\n",
       "    <tr>\n",
       "      <th>50%</th>\n",
       "      <td>172643.00</td>\n",
       "      <td>853.00</td>\n",
       "      <td>40.00</td>\n",
       "      <td>3.00</td>\n",
       "      <td>5.242953e+05</td>\n",
       "      <td>2.00</td>\n",
       "      <td>1.00</td>\n",
       "      <td>1.00</td>\n",
       "      <td>119626.80</td>\n",
       "      <td>0.00</td>\n",
       "    </tr>\n",
       "    <tr>\n",
       "      <th>75%</th>\n",
       "      <td>201163.75</td>\n",
       "      <td>900.00</td>\n",
       "      <td>51.00</td>\n",
       "      <td>4.00</td>\n",
       "      <td>9.800512e+05</td>\n",
       "      <td>2.00</td>\n",
       "      <td>1.00</td>\n",
       "      <td>1.00</td>\n",
       "      <td>174499.81</td>\n",
       "      <td>0.00</td>\n",
       "    </tr>\n",
       "    <tr>\n",
       "      <th>max</th>\n",
       "      <td>229145.00</td>\n",
       "      <td>1000.00</td>\n",
       "      <td>86.00</td>\n",
       "      <td>9.00</td>\n",
       "      <td>1.191136e+08</td>\n",
       "      <td>5.00</td>\n",
       "      <td>1.00</td>\n",
       "      <td>1.00</td>\n",
       "      <td>1395064.45</td>\n",
       "      <td>1.00</td>\n",
       "    </tr>\n",
       "  </tbody>\n",
       "</table>\n",
       "</div>"
      ],
      "text/plain": [
       "         user_id    score      age   equity       balance  products  \\\n",
       "count    9974.00  9974.00  9974.00  9974.00  7.695000e+03   9974.00   \n",
       "mean   171755.22   848.68    42.73     2.63  8.272456e+05      1.87   \n",
       "std     33695.53    65.40    12.18     1.98  1.980327e+06      0.79   \n",
       "min     94561.00   642.00    18.00     0.00  0.000000e+00      0.00   \n",
       "25%    142760.00   802.00    33.00     0.00  2.956987e+05      1.00   \n",
       "50%    172643.00   853.00    40.00     3.00  5.242953e+05      2.00   \n",
       "75%    201163.75   900.00    51.00     4.00  9.800512e+05      2.00   \n",
       "max    229145.00  1000.00    86.00     9.00  1.191136e+08      5.00   \n",
       "\n",
       "       credit_card  last_activity  est_salary    churn  \n",
       "count      9974.00        9974.00     9974.00  9974.00  \n",
       "mean          0.68           0.52   147786.81     0.18  \n",
       "std           0.47           0.50   139285.51     0.39  \n",
       "min           0.00           0.00     2546.30     0.00  \n",
       "25%           0.00           0.00    75251.66     0.00  \n",
       "50%           1.00           1.00   119626.80     0.00  \n",
       "75%           1.00           1.00   174499.81     0.00  \n",
       "max           1.00           1.00  1395064.45     1.00  "
      ]
     },
     "execution_count": 47,
     "metadata": {},
     "output_type": "execute_result"
    }
   ],
   "source": [
    "data.describe().round(2)"
   ]
  },
  {
   "cell_type": "markdown",
   "metadata": {},
   "source": [
    "Итак, мы видим:\n",
    " - Средний скоринговый балл - 848 баллов;\n",
    " - Возраст клиентов от 18 до 86 лет;\n",
    " - Оценка собственности клиента от 0 до 9, в среднем 2,63;\n",
    " - Медианные значения баланса 524 т.р, но максимальное значение 119 млн.р. возможно это выброс;\n",
    " - Представлено 5 продуктов, но в основном используют 1-2 продукта;\n",
    " - Кредитная карта есть у 68% клиентов;\n",
    " - Клиентов активных и неактивных примерно поровну;\n",
    " - Зарплаты имеют очень большрй разброс, медианная зарплата 119 т.р.\n",
    " - отток клиентов равен 18%\n",
    " \n",
    "Все выглядит более менее нормально кроме столбцов с балансом и зарплатой. Рассмотрим из поближе. Хотя возможно и эти значения норма."
   ]
  },
  {
   "cell_type": "code",
   "execution_count": 48,
   "metadata": {},
   "outputs": [
    {
     "data": {
      "text/html": [
       "<style  type=\"text/css\" >\n",
       "</style><table id=\"T_ace24_\" ><thead>    <tr>        <th class=\"blank level0\" ></th>        <th class=\"col_heading level0 col0\" >balance</th>        <th class=\"col_heading level0 col1\" >est_salary</th>    </tr></thead><tbody>\n",
       "                <tr>\n",
       "                        <th id=\"T_ace24_level0_row0\" class=\"row_heading level0 row0\" >0.0012</th>\n",
       "                        <td id=\"T_ace24_row0_col0\" class=\"data row0 col0\" >34.16</td>\n",
       "                        <td id=\"T_ace24_row0_col1\" class=\"data row0 col1\" >8,703.66</td>\n",
       "            </tr>\n",
       "            <tr>\n",
       "                        <th id=\"T_ace24_level0_row1\" class=\"row_heading level0 row1\" >0.01</th>\n",
       "                        <td id=\"T_ace24_row1_col0\" class=\"data row1 col0\" >23,230.30</td>\n",
       "                        <td id=\"T_ace24_row1_col1\" class=\"data row1 col1\" >17,341.18</td>\n",
       "            </tr>\n",
       "            <tr>\n",
       "                        <th id=\"T_ace24_level0_row2\" class=\"row_heading level0 row2\" >0.5</th>\n",
       "                        <td id=\"T_ace24_row2_col0\" class=\"data row2 col0\" >524,295.33</td>\n",
       "                        <td id=\"T_ace24_row2_col1\" class=\"data row2 col1\" >119,626.79</td>\n",
       "            </tr>\n",
       "            <tr>\n",
       "                        <th id=\"T_ace24_level0_row3\" class=\"row_heading level0 row3\" >0.95</th>\n",
       "                        <td id=\"T_ace24_row3_col0\" class=\"data row3 col0\" >2,114,078.39</td>\n",
       "                        <td id=\"T_ace24_row3_col1\" class=\"data row3 col1\" >316,360.58</td>\n",
       "            </tr>\n",
       "            <tr>\n",
       "                        <th id=\"T_ace24_level0_row4\" class=\"row_heading level0 row4\" >0.99</th>\n",
       "                        <td id=\"T_ace24_row4_col0\" class=\"data row4 col0\" >4,827,211.16</td>\n",
       "                        <td id=\"T_ace24_row4_col1\" class=\"data row4 col1\" >886,322.53</td>\n",
       "            </tr>\n",
       "            <tr>\n",
       "                        <th id=\"T_ace24_level0_row5\" class=\"row_heading level0 row5\" >0.9999</th>\n",
       "                        <td id=\"T_ace24_row5_col0\" class=\"data row5 col0\" >77,375,647.18</td>\n",
       "                        <td id=\"T_ace24_row5_col1\" class=\"data row5 col1\" >1,363,634.61</td>\n",
       "            </tr>\n",
       "    </tbody></table>"
      ],
      "text/plain": [
       "<pandas.io.formats.style.Styler at 0x7f94d3a80d30>"
      ]
     },
     "execution_count": 48,
     "metadata": {},
     "output_type": "execute_result"
    }
   ],
   "source": [
    "# значения параметров на разных квантилях\n",
    "\n",
    "(\n",
    "    data[['balance', 'est_salary']]\n",
    "    .quantile([0.0012, 0.01, .5, .95, .99, .9999])\n",
    "    .style.format(\"{:,.2f}\")\n",
    ")"
   ]
  },
  {
   "cell_type": "markdown",
   "metadata": {},
   "source": [
    "Основная масса это клиенты с балансом до 5 млн.р. и зарплатой 880т.р. Есть конечно и очень высокие значения, но бывают и очень богатые люди, так что пока оставим как есть."
   ]
  },
  {
   "cell_type": "markdown",
   "metadata": {},
   "source": [
    "Построим таблицу со средними значениями признаков клиентов тех которые ушли и тех которые остались."
   ]
  },
  {
   "cell_type": "code",
   "execution_count": 49,
   "metadata": {
    "scrolled": true
   },
   "outputs": [
    {
     "data": {
      "text/html": [
       "<div>\n",
       "<style scoped>\n",
       "    .dataframe tbody tr th:only-of-type {\n",
       "        vertical-align: middle;\n",
       "    }\n",
       "\n",
       "    .dataframe tbody tr th {\n",
       "        vertical-align: top;\n",
       "    }\n",
       "\n",
       "    .dataframe thead th {\n",
       "        text-align: right;\n",
       "    }\n",
       "</style>\n",
       "<table border=\"1\" class=\"dataframe\">\n",
       "  <thead>\n",
       "    <tr style=\"text-align: right;\">\n",
       "      <th></th>\n",
       "      <th>user_id</th>\n",
       "      <th>score</th>\n",
       "      <th>age</th>\n",
       "      <th>equity</th>\n",
       "      <th>balance</th>\n",
       "      <th>products</th>\n",
       "      <th>credit_card</th>\n",
       "      <th>last_activity</th>\n",
       "      <th>est_salary</th>\n",
       "    </tr>\n",
       "    <tr>\n",
       "      <th>churn</th>\n",
       "      <th></th>\n",
       "      <th></th>\n",
       "      <th></th>\n",
       "      <th></th>\n",
       "      <th></th>\n",
       "      <th></th>\n",
       "      <th></th>\n",
       "      <th></th>\n",
       "      <th></th>\n",
       "    </tr>\n",
       "  </thead>\n",
       "  <tbody>\n",
       "    <tr>\n",
       "      <th>0</th>\n",
       "      <td>171928.11</td>\n",
       "      <td>845.40</td>\n",
       "      <td>43.02</td>\n",
       "      <td>2.38</td>\n",
       "      <td>733031.63</td>\n",
       "      <td>1.76</td>\n",
       "      <td>0.71</td>\n",
       "      <td>0.48</td>\n",
       "      <td>147674.64</td>\n",
       "    </tr>\n",
       "    <tr>\n",
       "      <th>1</th>\n",
       "      <td>170980.10</td>\n",
       "      <td>863.42</td>\n",
       "      <td>41.45</td>\n",
       "      <td>3.76</td>\n",
       "      <td>1134458.21</td>\n",
       "      <td>2.38</td>\n",
       "      <td>0.55</td>\n",
       "      <td>0.70</td>\n",
       "      <td>148289.70</td>\n",
       "    </tr>\n",
       "  </tbody>\n",
       "</table>\n",
       "</div>"
      ],
      "text/plain": [
       "         user_id   score    age  equity     balance  products  credit_card  \\\n",
       "churn                                                                        \n",
       "0      171928.11  845.40  43.02    2.38   733031.63      1.76         0.71   \n",
       "1      170980.10  863.42  41.45    3.76  1134458.21      2.38         0.55   \n",
       "\n",
       "       last_activity  est_salary  \n",
       "churn                             \n",
       "0               0.48   147674.64  \n",
       "1               0.70   148289.70  "
      ]
     },
     "execution_count": 49,
     "metadata": {},
     "output_type": "execute_result"
    }
   ],
   "source": [
    "data.groupby('churn').agg('mean').round(2)"
   ]
  },
  {
   "cell_type": "markdown",
   "metadata": {},
   "source": [
    "Клиенты которые ушли иммеют:\n",
    "- более высокий средний скоринговый балл\n",
    "- более высокую оценку собственности\n",
    "- больше баланс на счете\n",
    "- используют более 2 продуктов\n",
    "- у половины есть кредитная карточка\n",
    "- активность выше \n",
    "- возраст и зарплата примерно одинаковые с теми кто не ушел\n",
    "\n",
    "Напишем функцию и построим графики для количественных значений."
   ]
  },
  {
   "cell_type": "code",
   "execution_count": 50,
   "metadata": {},
   "outputs": [],
   "source": [
    "# функция для формирования графиков \n",
    "\n",
    "column_list = ['score', 'age', 'equity', 'balance', 'products', 'credit_card', 'last_activity', 'est_salary']\n",
    "\n",
    "def plots(data):\n",
    "    for column in column_list:\n",
    "        plt.figure(figsize=(20,7))\n",
    "        sns.histplot(data=data, x=column, hue='churn', stat=\"density\", common_norm=False);\n",
    "        plt.title(f'Распредение отточности клиентов по: {column}')\n",
    "        plt.xlabel('')\n",
    "        plt.ylabel('Количество клиентов')\n",
    "        plt.show()"
   ]
  },
  {
   "cell_type": "code",
   "execution_count": 51,
   "metadata": {
    "scrolled": false
   },
   "outputs": [
    {
     "data": {
      "image/png": "[encoded data removed]",
      "text/plain": [
       "<Figure size 1440x504 with 1 Axes>"
      ]
     },
     "metadata": {
      "needs_background": "light"
     },
     "output_type": "display_data"
    },
    {
     "data": {
      "image/png": "[encoded data removed]",
      "text/plain": [
       "<Figure size 1440x504 with 1 Axes>"
      ]
     },
     "metadata": {
      "needs_background": "light"
     },
     "output_type": "display_data"
    },
    {
     "data": {
      "image/png": "[encoded data removed]",
      "text/plain": [
       "<Figure size 1440x504 with 1 Axes>"
      ]
     },
     "metadata": {
      "needs_background": "light"
     },
     "output_type": "display_data"
    },
    {
     "data": {
      "image/png": "[encoded data removed]",
      "text/plain": [
       "<Figure size 1440x504 with 1 Axes>"
      ]
     },
     "metadata": {
      "needs_background": "light"
     },
     "output_type": "display_data"
    },
    {
     "data": {
      "image/png": "[encoded data removed]",
      "text/plain": [
       "<Figure size 1440x504 with 1 Axes>"
      ]
     },
     "metadata": {
      "needs_background": "light"
     },
     "output_type": "display_data"
    },
    {
     "data": {
      "image/png": "[encoded data removed]",
      "text/plain": [
       "<Figure size 1440x504 with 1 Axes>"
      ]
     },
     "metadata": {
      "needs_background": "light"
     },
     "output_type": "display_data"
    },
    {
     "data": {
      "image/png": "[encoded data removed]",
      "text/plain": [
       "<Figure size 1440x504 with 1 Axes>"
      ]
     },
     "metadata": {
      "needs_background": "light"
     },
     "output_type": "display_data"
    },
    {
     "data": {
      "image/png": "[encoded data removed]",
      "text/plain": [
       "<Figure size 1440x504 with 1 Axes>"
      ]
     },
     "metadata": {
      "needs_background": "light"
     },
     "output_type": "display_data"
    }
   ],
   "source": [
    "plots(data)"
   ]
  },
  {
   "cell_type": "markdown",
   "metadata": {},
   "source": [
    "Из графиков видно, что наиболее сильный отток клиентов:\n",
    " - баллы кредитного скоринга в диапазоне 820-940\n",
    " - в возрасте 25-35 лет и 50-60 лет;\n",
    " - с оценкой собственности 3 и выше;\n",
    " - при использовании 2 и более продуктов;\n",
    " - без кредитной карты и более активные в последнее время.\n",
    "\n",
    " \n",
    "Графики с балансом и зарплатой получились не совсем информативные. Сделаем срезы по 99 процентилю и рассмотрим поближе."
   ]
  },
  {
   "cell_type": "code",
   "execution_count": 52,
   "metadata": {},
   "outputs": [
    {
     "data": {
      "image/png": "[encoded data removed]",
      "text/plain": [
       "<Figure size 1440x504 with 1 Axes>"
      ]
     },
     "metadata": {
      "needs_background": "light"
     },
     "output_type": "display_data"
    }
   ],
   "source": [
    "#делаем срез по зарплате\n",
    "data_salary_99_p = data.query('est_salary < 886322.53')\n",
    "\n",
    "#построим график по срезу\n",
    "plt.figure(figsize=(20,7))\n",
    "sns.histplot(data=data_salary_99_p, x='est_salary', hue='churn', stat=\"density\", common_norm=False);\n",
    "plt.title(f'Распредение отточности клиентов по зарплате')\n",
    "plt.xlabel('')\n",
    "plt.ylabel('Количество клиентов')\n",
    "plt.show()"
   ]
  },
  {
   "cell_type": "markdown",
   "metadata": {},
   "source": [
    "Судя по графику можно сказать, что в основном отток идет в диапазоне от 100 000 р. до 210 000р, далее есть как отточные клиенты так и нет."
   ]
  },
  {
   "cell_type": "code",
   "execution_count": 53,
   "metadata": {
    "scrolled": false
   },
   "outputs": [
    {
     "data": {
      "image/png": "[encoded data removed]",
      "text/plain": [
       "<Figure size 1440x504 with 1 Axes>"
      ]
     },
     "metadata": {
      "needs_background": "light"
     },
     "output_type": "display_data"
    }
   ],
   "source": [
    "#делаем срез по балансу\n",
    "data_balance_99_p = data.query('balance < 4827211.16')\n",
    "\n",
    "#построим график по срезу\n",
    "plt.figure(figsize=(20,7))\n",
    "sns.histplot(data=data_balance_99_p, x='balance', hue='churn', stat='density', common_norm=False);\n",
    "plt.title(f'Распредение отточности клиентов по балансу')\n",
    "plt.xlabel('')\n",
    "plt.ylabel('Количество клиентов')\n",
    "plt.show()"
   ]
  },
  {
   "cell_type": "markdown",
   "metadata": {},
   "source": [
    "Мы видим отток примерно с 700 000р на балансе клиента.\n",
    "\n",
    "\n",
    "Посмотрим долю ушедших клиентов по городам"
   ]
  },
  {
   "cell_type": "code",
   "execution_count": 54,
   "metadata": {},
   "outputs": [
    {
     "data": {
      "text/html": [
       "<div>\n",
       "<style scoped>\n",
       "    .dataframe tbody tr th:only-of-type {\n",
       "        vertical-align: middle;\n",
       "    }\n",
       "\n",
       "    .dataframe tbody tr th {\n",
       "        vertical-align: top;\n",
       "    }\n",
       "\n",
       "    .dataframe thead th {\n",
       "        text-align: right;\n",
       "    }\n",
       "</style>\n",
       "<table border=\"1\" class=\"dataframe\">\n",
       "  <thead>\n",
       "    <tr style=\"text-align: right;\">\n",
       "      <th></th>\n",
       "      <th>city</th>\n",
       "      <th>total</th>\n",
       "      <th>churn</th>\n",
       "      <th>perc</th>\n",
       "    </tr>\n",
       "  </thead>\n",
       "  <tbody>\n",
       "    <tr>\n",
       "      <th>2</th>\n",
       "      <td>Ярославль</td>\n",
       "      <td>5875</td>\n",
       "      <td>1117</td>\n",
       "      <td>19.0</td>\n",
       "    </tr>\n",
       "    <tr>\n",
       "      <th>0</th>\n",
       "      <td>Ростов</td>\n",
       "      <td>1416</td>\n",
       "      <td>265</td>\n",
       "      <td>18.7</td>\n",
       "    </tr>\n",
       "    <tr>\n",
       "      <th>1</th>\n",
       "      <td>Рыбинск</td>\n",
       "      <td>2683</td>\n",
       "      <td>437</td>\n",
       "      <td>16.3</td>\n",
       "    </tr>\n",
       "  </tbody>\n",
       "</table>\n",
       "</div>"
      ],
      "text/plain": [
       "        city  total  churn  perc\n",
       "2  Ярославль   5875   1117  19.0\n",
       "0     Ростов   1416    265  18.7\n",
       "1    Рыбинск   2683    437  16.3"
      ]
     },
     "execution_count": 54,
     "metadata": {},
     "output_type": "execute_result"
    }
   ],
   "source": [
    "data_city = data.groupby('city').agg({'user_id' : 'count', 'churn' : 'sum'}).reset_index() \n",
    "data_city.columns = ['city', 'total', 'churn']\n",
    "data_city['perc'] = data_city['churn']/data_city['total']*100\n",
    "data_city = data_city.round(1).sort_values(by='perc', ascending=False)\n",
    "data_city"
   ]
  },
  {
   "cell_type": "code",
   "execution_count": 55,
   "metadata": {},
   "outputs": [
    {
     "data": {
      "image/png": "[encoded data removed]",
      "text/plain": [
       "<Figure size 720x360 with 1 Axes>"
      ]
     },
     "metadata": {
      "needs_background": "light"
     },
     "output_type": "display_data"
    }
   ],
   "source": [
    "#построим гистограмму\n",
    "plt.figure(figsize=(10, 5))\n",
    "#sns.histplot(data=data, hue='churn', x='gender', stat='density', common_norm=False, palette='flag')\n",
    "sns.countplot(x = 'city', hue = 'churn', data = data)\n",
    "plt.title('Распредение отточности клиентов по городу')\n",
    "plt.xlabel('')\n",
    "plt.ylabel('Количество клиентов')\n",
    "plt.show()"
   ]
  },
  {
   "cell_type": "markdown",
   "metadata": {},
   "source": [
    "Больше всего клиентов в г. Ярославль, в том числе там самый высокий процент оттока(19%), в Ростове отток - 18,7%, а в Рыбинске - 16,3%.\n",
    "\n",
    "\n",
    "Рассмотрим распределение в зависимости от пола."
   ]
  },
  {
   "cell_type": "code",
   "execution_count": 56,
   "metadata": {},
   "outputs": [
    {
     "data": {
      "text/html": [
       "<div>\n",
       "<style scoped>\n",
       "    .dataframe tbody tr th:only-of-type {\n",
       "        vertical-align: middle;\n",
       "    }\n",
       "\n",
       "    .dataframe tbody tr th {\n",
       "        vertical-align: top;\n",
       "    }\n",
       "\n",
       "    .dataframe thead th {\n",
       "        text-align: right;\n",
       "    }\n",
       "</style>\n",
       "<table border=\"1\" class=\"dataframe\">\n",
       "  <thead>\n",
       "    <tr style=\"text-align: right;\">\n",
       "      <th></th>\n",
       "      <th>gender</th>\n",
       "      <th>total</th>\n",
       "      <th>churn</th>\n",
       "      <th>perc</th>\n",
       "    </tr>\n",
       "  </thead>\n",
       "  <tbody>\n",
       "    <tr>\n",
       "      <th>1</th>\n",
       "      <td>М</td>\n",
       "      <td>4991</td>\n",
       "      <td>1183</td>\n",
       "      <td>23.7</td>\n",
       "    </tr>\n",
       "    <tr>\n",
       "      <th>0</th>\n",
       "      <td>Ж</td>\n",
       "      <td>4983</td>\n",
       "      <td>636</td>\n",
       "      <td>12.8</td>\n",
       "    </tr>\n",
       "  </tbody>\n",
       "</table>\n",
       "</div>"
      ],
      "text/plain": [
       "  gender  total  churn  perc\n",
       "1      М   4991   1183  23.7\n",
       "0      Ж   4983    636  12.8"
      ]
     },
     "execution_count": 56,
     "metadata": {},
     "output_type": "execute_result"
    }
   ],
   "source": [
    "data_gender = data.groupby('gender').agg({'user_id' : 'count', 'churn' : 'sum'}).reset_index() \n",
    "data_gender.columns = ['gender', 'total', 'churn']\n",
    "data_gender['perc'] = data_gender['churn']/data_gender['total']*100\n",
    "data_gender = data_gender.round(1).sort_values(by='perc', ascending=False)\n",
    "data_gender"
   ]
  },
  {
   "cell_type": "code",
   "execution_count": 57,
   "metadata": {
    "scrolled": true
   },
   "outputs": [
    {
     "data": {
      "image/png": "[encoded data removed]",
      "text/plain": [
       "<Figure size 720x360 with 1 Axes>"
      ]
     },
     "metadata": {
      "needs_background": "light"
     },
     "output_type": "display_data"
    }
   ],
   "source": [
    "#построим гистограмму\n",
    "plt.figure(figsize=(10, 5))\n",
    "#sns.histplot(data=data, hue='churn', x='gender', stat='density', common_norm=False, palette='flag')\n",
    "sns.countplot(x = 'gender', hue = 'churn', data = data)\n",
    "plt.title('Распредение отточности клиентов по полу')\n",
    "plt.xlabel('Пол')\n",
    "plt.ylabel('Количество клиентов')\n",
    "plt.show()"
   ]
  },
  {
   "cell_type": "markdown",
   "metadata": {},
   "source": [
    "Женщин и мужчин примерно одиноковое количество, однако отток мужчин почти в два раза выше женщин - 23,7%, тогда как женщин 12,8%"
   ]
  },
  {
   "cell_type": "markdown",
   "metadata": {},
   "source": [
    "Вывод.\n",
    "\n",
    "Портрет клиента банка:\n",
    "\n",
    "- Одинаковое количество мужчин и женщин\n",
    "- Большее количество клиентов проживает в Ярославле\n",
    "- Средний скоринговый балл приблизительно 850\n",
    "- Возраст 30-40 лет\n",
    "- Средняя оценка собственности 2,6\n",
    "- В основном используют 1-2 продукта\n",
    "- Есть кредитная карта и клиент активный\n",
    "- Медианный баланс приблизительно 520 т.р.\n",
    "- Медианная зарплата равна 120 т.р.\n",
    "\n",
    "Портрет отточного клиента:\n",
    "\n",
    "- В основном попадают в отток мужчины\n",
    "- Отточные клиенты проживают чаще в Ярославле(19%) и Ростове(18,7%)\n",
    "- Возраст 25-35 лет или 50-60 лет\n",
    "- Со скоринговым баллом в диапазоне 820-940\n",
    "- С оценкой собственности 3 и выше\n",
    "- Используют 2 и более продуктов\n",
    "- Не имеют кредитной карты и более активные в последнее время\n",
    "- С зарплатой от 100т.р.до 200т.р.\n",
    "- Балансом от 700т.р. и выше.\n",
    "\n"
   ]
  },
  {
   "cell_type": "markdown",
   "metadata": {},
   "source": [
    "\n",
    "Построим матрицу корреляции\n",
    "\n",
    "Для построения будем использовать коэфициент Phik.\n",
    "\n",
    "Поскольку столбец `user_id` не является признаком и не должен попасть в расчет корреляции удалим его."
   ]
  },
  {
   "cell_type": "code",
   "execution_count": 58,
   "metadata": {},
   "outputs": [
    {
     "name": "stdout",
     "output_type": "stream",
     "text": [
      "interval columns not set, guessing: ['score', 'age', 'equity', 'balance', 'products', 'credit_card', 'last_activity', 'est_salary', 'churn']\n"
     ]
    },
    {
     "data": {
      "image/png": "[encoded data removed]",
      "text/plain": [
       "<Figure size 1440x720 with 2 Axes>"
      ]
     },
     "metadata": {
      "needs_background": "light"
     },
     "output_type": "display_data"
    },
    {
     "data": {
      "image/png": "[encoded data removed]",
      "text/plain": [
       "<Figure size 720x504 with 2 Axes>"
      ]
     },
     "metadata": {
      "needs_background": "light"
     },
     "output_type": "display_data"
    }
   ],
   "source": [
    "# удаляем столбец user_id\n",
    "data_remade = data.drop(columns='user_id') \n",
    "\n",
    "#создадим таблицу для матрицы\n",
    "data_corr = data_remade.phik_matrix()\n",
    "\n",
    "#построим матрицу\n",
    "plot_correlation_matrix(data_corr.values, \n",
    "                        x_labels=data_corr.columns, \n",
    "                        y_labels=data_corr.index, \n",
    "                        vmin=0, vmax=1, color_map='vlag', \n",
    "                        title='Матрица корреляций', \n",
    "                        fontsize_factor=1.5, \n",
    "                        figsize=(20, 10))\n",
    "\n",
    "\n",
    "# добавим график только с одним столбцом оттока\n",
    "plt.figure(figsize=(10, 7))\n",
    "sns.heatmap(data_corr.loc[:,['churn']].drop('churn').sort_values('churn'), annot=True, fmt='.0%', cmap='vlag', center=0);"
   ]
  },
  {
   "cell_type": "markdown",
   "metadata": {},
   "source": [
    "Из графиков мы видим, что нет сильной связи с оттоком. \n",
    "\n",
    "В порядке убывания с оттоком коррелирует:\n",
    "- Умеренная корреляция оттока и количества продуктов - 44%\n",
    "- Умеренная корреляция оттока и оценки собственности - 35%\n",
    "- Слабая корреляция оттока и активности клиента - 26%\n",
    "- Слабая корреляция оттока и баллов скоринга- 23%\n",
    "- Слабая корреляция оттока и пола- 22%"
   ]
  },
  {
   "cell_type": "markdown",
   "metadata": {},
   "source": [
    "\n",
    "Выделим несколько наиболее отточный сегментов.\n",
    "\n",
    "Поскольку мы выяснили,что наиболее отточные клиенты проживают в Ярославле и Ростове и это мужчины. Рассмотрим их + еще один отточный признак. Сделаем необходимые срезы."
   ]
  },
  {
   "cell_type": "code",
   "execution_count": 59,
   "metadata": {},
   "outputs": [],
   "source": [
    "# делаем срез по возрасту от 25 до 35 лет\n",
    "data_1 = data.query('gender == \"М\" and 25 < age < 35 and city != \"Рыбинск\"')\n",
    "# делаем срез по возрасту от 50 до 60 лет\n",
    "data_2 = data.query('gender == \"М\" and 50 < age < 60 and city != \"Рыбинск\"')\n",
    "#делаем срез по кредитной карты\n",
    "data_3 = data.query('gender == \"М\" and credit_card == 0 and city != \"Рыбинск\"')\n",
    "#делаем срез по количеству продуктов от 2 и более\n",
    "data_4 = data.query('gender == \"М\" and products >= 2 and city != \"Рыбинск\"')\n",
    "#делаем срез по балансу более 700000р\n",
    "data_5 = data.query('gender == \"М\" and balance > 700000 and city != \"Рыбинск\"')\n",
    "#делаем срез по зарплате от 100000р до 200000р\n",
    "data_6 = data.query('gender == \"М\" and 100000<est_salary < 200000 and city != \"Рыбинск\"')\n",
    "#делаем срез по кредитному скорингу в диапазоне 820-940 баллов\n",
    "data_7 = data.query('gender == \"М\" and 820<score<940 and city != \"Рыбинск\"')\n",
    "#делаем срез оценке собственности от 3\n",
    "data_8 = data.query('gender == \"М\" and equity >=3 and city != \"Рыбинск\"')\n",
    "#делаем срез по активности клиента в последнее время\n",
    "data_9 = data.query('gender == \"М\" and last_activity==1 and city != \"Рыбинск\"')"
   ]
  },
  {
   "cell_type": "code",
   "execution_count": 60,
   "metadata": {},
   "outputs": [],
   "source": [
    "# функция для выделения сегментов \n",
    "\n",
    "data_list = [data_1, data_2, data_3, data_4, data_5, data_6, data_7, data_8, data_9]\n",
    "#mean_churn_of_bank = data['churn'].mean()\n",
    "\n",
    "def segment(data):\n",
    "    for data in data_list:\n",
    "        print()\n",
    "        print('Численность сегмента: ', len(data))\n",
    "        data_churn = data.groupby('gender').agg({'user_id' : 'count', 'churn' : 'sum'}).reset_index() \n",
    "        data_churn.columns = ['gender', 'total', 'churn']\n",
    "        data_churn['perc'] = data_churn['churn']/data_churn['total']*100\n",
    "        data_churn = data_churn.round(1).sort_values(by='perc', ascending=False)\n",
    "        print(data_churn)"
   ]
  },
  {
   "cell_type": "code",
   "execution_count": 61,
   "metadata": {
    "scrolled": false
   },
   "outputs": [
    {
     "name": "stdout",
     "output_type": "stream",
     "text": [
      "\n",
      "Численность сегмента:  1112\n",
      "  gender  total  churn  perc\n",
      "0      М   1112    290  26.1\n",
      "\n",
      "Численность сегмента:  441\n",
      "  gender  total  churn  perc\n",
      "0      М    441    163  37.0\n",
      "\n",
      "Численность сегмента:  890\n",
      "  gender  total  churn  perc\n",
      "0      М    890    332  37.3\n",
      "\n",
      "Численность сегмента:  2333\n",
      "  gender  total  churn  perc\n",
      "0      М   2333    759  32.5\n",
      "\n",
      "Численность сегмента:  1103\n",
      "  gender  total  churn  perc\n",
      "0      М   1103    508  46.1\n",
      "\n",
      "Численность сегмента:  1635\n",
      "  gender  total  churn  perc\n",
      "0      М   1635    410  25.1\n",
      "\n",
      "Численность сегмента:  2164\n",
      "  gender  total  churn  perc\n",
      "0      М   2164    645  29.8\n",
      "\n",
      "Численность сегмента:  2012\n",
      "  gender  total  churn  perc\n",
      "0      М   2012    729  36.2\n",
      "\n",
      "Численность сегмента:  1843\n",
      "  gender  total  churn  perc\n",
      "0      М   1843    555  30.1\n"
     ]
    }
   ],
   "source": [
    "segment(data)"
   ]
  },
  {
   "cell_type": "markdown",
   "metadata": {},
   "source": [
    "Расставим сегменты в порядке убывания оттока. Выберем 5-ку лидеров:\n",
    "1. Мужчины с балансом более 700 000р. (46,1%)\n",
    "2. Мужчины без кредитной карты (37,3%)\n",
    "3. Мужчины от 50 до 60 лет (37%)\n",
    "4. Мужчины с оценкой собственности в 3 балла и выше (36,2%)\n",
    "5. Мужчины с двумя и более продуктами (32,5%)"
   ]
  },
  {
   "cell_type": "markdown",
   "metadata": {},
   "source": [
    "### Статистический анализ"
   ]
  },
  {
   "cell_type": "markdown",
   "metadata": {},
   "source": [
    "Проверка гипотез\n",
    "\n",
    "Гипотеза о различиях скоринговых баллах между теми клиентами, которые ушли и теми, которые остались.\n",
    "\n",
    "Проверим данные на нормальность."
   ]
  },
  {
   "cell_type": "code",
   "execution_count": 62,
   "metadata": {
    "scrolled": false
   },
   "outputs": [
    {
     "data": {
      "image/png": "[encoded data removed]",
      "text/plain": [
       "<Figure size 720x432 with 1 Axes>"
      ]
     },
     "metadata": {
      "needs_background": "light"
     },
     "output_type": "display_data"
    }
   ],
   "source": [
    "#построим график\n",
    "plt.figure(figsize=(10, 6)) \n",
    "\n",
    "sns.histplot(data=data, x='score', hue='churn', kde=True)#\n",
    "plt.title('Распределение баллов кредитного скоринга в зависимости от отточности')\n",
    "plt.show()"
   ]
  },
  {
   "cell_type": "markdown",
   "metadata": {},
   "source": [
    "Данные распределены нормально. \n",
    "\n",
    "Посмотрим значения у обеих выборок"
   ]
  },
  {
   "cell_type": "code",
   "execution_count": 63,
   "metadata": {},
   "outputs": [
    {
     "data": {
      "text/plain": [
       "count    8155.000000\n",
       "mean      845.396199\n",
       "std        67.993107\n",
       "min       642.000000\n",
       "25%       796.000000\n",
       "50%       848.000000\n",
       "75%       900.000000\n",
       "max      1000.000000\n",
       "Name: score, dtype: float64"
      ]
     },
     "execution_count": 63,
     "metadata": {},
     "output_type": "execute_result"
    }
   ],
   "source": [
    "data_stay_sc = data[data['churn'] == 0]['score']\n",
    "data_stay_sc.describe()"
   ]
  },
  {
   "cell_type": "code",
   "execution_count": 64,
   "metadata": {},
   "outputs": [
    {
     "data": {
      "text/plain": [
       "count    1819.000000\n",
       "mean      863.416163\n",
       "std        49.620984\n",
       "min       706.000000\n",
       "25%       828.000000\n",
       "50%       866.000000\n",
       "75%       898.000000\n",
       "max      1000.000000\n",
       "Name: score, dtype: float64"
      ]
     },
     "execution_count": 64,
     "metadata": {},
     "output_type": "execute_result"
    }
   ],
   "source": [
    "data_churn_sc = data[data['churn'] == 1]['score']\n",
    "data_churn_sc.describe()"
   ]
  },
  {
   "cell_type": "markdown",
   "metadata": {},
   "source": [
    "Выведем основную и альтернативную гипотезы:\n",
    "\n",
    "- H0: Баллы кредитного скоринга у отточных клиентов, и у тех которые остались одинаковы.\n",
    "- H1: Баллы кредитного скоринга у отточных клиентов, и у тех которые остались отличаются.\n",
    "\n",
    "Чтобы проверить гипотезу о равенстве среднего двух генеральных совокупностей по взятым из них выборкам, применим метод `scipy.ttest_ind (array1, array2, equal_var)`. \n",
    "\n",
    "Поскольку нет уверенности в равных дисперсиях в параметре `equal_var` будем использовать `False`\n",
    "\n",
    "Уровень значимости зададим alpha = 0.05\n",
    "\n",
    "Если p-value будет меньше выбранного уровня значимости, то нулевую гипотезу о равенстве средних отвергнем. В противном случае делаем вывод, что данные не позволили нам отвергнуть нулевую гипотезу."
   ]
  },
  {
   "cell_type": "code",
   "execution_count": 65,
   "metadata": {},
   "outputs": [
    {
     "name": "stdout",
     "output_type": "stream",
     "text": [
      "p-значение: 8.60332714629934e-38\n",
      "Отвергаем нулевую гипотезу\n"
     ]
    }
   ],
   "source": [
    "alpha = .05 # задаем уровень стат. значимости  \n",
    "\n",
    "results = st.ttest_ind(data_stay_sc, data_churn_sc, equal_var=False) # стат. тест о равенстве \n",
    "\n",
    "print('p-значение:', results.pvalue)\n",
    "\n",
    "if results.pvalue < alpha:\n",
    "    print('Отвергаем нулевую гипотезу')\n",
    "else:\n",
    "    print('Не получилось отвергнуть нулевую гипотезу')"
   ]
  },
  {
   "cell_type": "markdown",
   "metadata": {},
   "source": [
    "Cредний скоринговый балл у отточных клиентов и клиентов которые остались разный."
   ]
  },
  {
   "cell_type": "markdown",
   "metadata": {},
   "source": [
    "Проверим статистическую гипотезу о различиях дохода между теми клиентами, которые ушли и теми, которые остались.\n",
    "\n",
    "Проверим данные на нормальность."
   ]
  },
  {
   "cell_type": "code",
   "execution_count": 66,
   "metadata": {
    "scrolled": false
   },
   "outputs": [
    {
     "data": {
      "image/png": "[encoded data removed]",
      "text/plain": [
       "<Figure size 864x432 with 1 Axes>"
      ]
     },
     "metadata": {
      "needs_background": "light"
     },
     "output_type": "display_data"
    }
   ],
   "source": [
    "#строим график\n",
    "plt.figure(figsize=(12, 6))\n",
    "\n",
    "sns.histplot(data=data, x='est_salary', hue='churn', kde=True)#\n",
    "plt.title('Распределение по уровню дохода клиентов')\n",
    "plt.show()"
   ]
  },
  {
   "cell_type": "markdown",
   "metadata": {},
   "source": [
    "Данные распределены не нормально. \n"
   ]
  },
  {
   "cell_type": "code",
   "execution_count": 69,
   "metadata": {},
   "outputs": [
    {
     "data": {
      "text/plain": [
       "count    8.155000e+03\n",
       "mean     1.476746e+05\n",
       "std      1.426844e+05\n",
       "min      2.546300e+03\n",
       "25%      7.344555e+04\n",
       "50%      1.182276e+05\n",
       "75%      1.739609e+05\n",
       "max      1.395064e+06\n",
       "Name: est_salary, dtype: float64"
      ]
     },
     "execution_count": 69,
     "metadata": {},
     "output_type": "execute_result"
    }
   ],
   "source": [
    "data_stay_es = data[data['churn'] == 0]['est_salary']\n",
    "data_stay_es.describe()"
   ]
  },
  {
   "cell_type": "code",
   "execution_count": 70,
   "metadata": {},
   "outputs": [
    {
     "data": {
      "text/plain": [
       "count    1.819000e+03\n",
       "mean     1.482897e+05\n",
       "std      1.229322e+05\n",
       "min      1.088027e+04\n",
       "25%      8.319661e+04\n",
       "50%      1.253952e+05\n",
       "75%      1.759854e+05\n",
       "max      1.263028e+06\n",
       "Name: est_salary, dtype: float64"
      ]
     },
     "execution_count": 70,
     "metadata": {},
     "output_type": "execute_result"
    }
   ],
   "source": [
    "data_churn_es = data[data['churn'] == 1]['est_salary']\n",
    "data_churn_es.describe()"
   ]
  },
  {
   "cell_type": "markdown",
   "metadata": {},
   "source": [
    "Выведем основную и альтернативную гипотезы:\n",
    "\n",
    "- H0: Доход у отточных клиентов, и у тех которые остались одинаковый.\n",
    "- H1: Доход у отточных клиентов, и у тех которые остались отличается.\n",
    "\n",
    "Поскольку данные распределены не нормально будем применять непараметрический метод Манна-Уитни. В отличие от t-критерия Стьюдента, метод Манна-Уитни не требует наличия нормального распределения сравниваемых совокупностей.\n",
    "\n",
    "Уровень значимости зададим alpha = 0.05\n",
    "\n",
    "Если p-value будет меньше выбранного уровня значимости, то нулевую гипотезу о равенстве средних отвергнем. В противном случае делаем вывод, что данные не позволили нам отвергнуть нулевую гипотезу."
   ]
  },
  {
   "cell_type": "code",
   "execution_count": 77,
   "metadata": {},
   "outputs": [
    {
     "name": "stdout",
     "output_type": "stream",
     "text": [
      "p-значение: 0.0001941125216825749\n",
      "Отвергаем нулевую гипотезу\n"
     ]
    }
   ],
   "source": [
    "alpha = .05 # задаем уровень стат. значимости  \n",
    "\n",
    "#results = st.ttest_ind(data_churn_es, data_stay_es, equal_var=False) # стат. тест о равенстве \n",
    "results = st.mannwhitneyu(data_churn_es, data_stay_es)\n",
    "\n",
    "print('p-значение:', results.pvalue)\n",
    "\n",
    "if results.pvalue < alpha:\n",
    "    print('Отвергаем нулевую гипотезу')\n",
    "else:\n",
    "    print('Не получилось отвергнуть нулевую гипотезу')"
   ]
  },
  {
   "cell_type": "markdown",
   "metadata": {},
   "source": [
    "Доход у отточных клиентов, и у тех которые остались отличается.\n"
   ]
  },
  {
   "cell_type": "markdown",
   "metadata": {},
   "source": [
    "### Вывод и рекомендации"
   ]
  },
  {
   "cell_type": "markdown",
   "metadata": {},
   "source": [
    "В ходе исследования был проанализирован датасет банка «Метанпром». \n",
    "\n",
    "Была выполнена предобработка данных, исследовательский и статистический анализ.\n",
    "\n",
    "Общий портрет клиента банка:\n",
    "\n",
    "- Одинаковое количество мужчин и женщин\n",
    "- Большее количество клиентов проживает в Ярославле\n",
    "- Средний скоринговый балл приблизительно 850\n",
    "- Возраст 30-40 лет\n",
    "- Средняя оценка собственности 2,6\n",
    "- В основном используют 1-2 продукта\n",
    "- Есть кредитная карта и клиент активный\n",
    "- Медианный баланс приблизительно 520 т.р.\n",
    "- Медианная зарплата равна 120 т.р.\n",
    "\n",
    "Портрет отточного клиента:\n",
    "\n",
    "- В основном попадают в отток мужчины\n",
    "- Отточные клиенты проживают чаще в Ярославле(19%) и Ростове(18,7%)\n",
    "- Возраст 25-35 лет или 50-60 лет\n",
    "- Со скоринговым баллом в диапазоне 820-940\n",
    "- С оценкой собственности 3 и выше\n",
    "- Используют 2 и более продуктов\n",
    "- Не имеют кредитной карты и более активные в последнее время\n",
    "- С зарплатой от 100т.р.до 200т.р.\n",
    "- Балансом от 700т.р. и выше.\n",
    "\n",
    "Сильнее всего с оттоком коррелирует количество продуктов - 44%\n",
    "\n",
    "Были выделены несколько сегментов как самые отточные.\n",
    "Мужчины из городов Ярославль и Ростов.\n",
    "\n",
    "5-ка лидеров:\n",
    "1. Мужчины с балансом более 700 000р. (46,1%)\n",
    "2. Мужчины без кредитной карты (37,3%)\n",
    "3. Мужчины от 50 до 60 лет (37%)\n",
    "4. Мужчины с оценкой собственности в 3 балла и выше (36,2%)\n",
    "5. Мужчины с двумя и более продуктами (32,5%)\n",
    "\n",
    "Также были проверены две гипотезы:\n",
    " - Гипотеза о различиях скоринговых баллах между теми клиентами, которые ушли и теми, которые остались.\n",
    "   - Cредний скоринговый балл у отточных клиентов и клиентов которые остались разный.\n",
    " \n",
    " - Гипотеза о различиях доходов между теми клиентами, которые ушли и теми, которые остались.\n",
    "   - Доход у отточных клиентов, и у тех которые остались отличается.\n",
    " \n",
    "\n",
    "\n",
    "Рекомендации.\n",
    "\n",
    "На этапе предобработки данных были выявлены дубликаты в id клиентов которые должны быть уникальными. Остальные данные у дубликатов были разные, вероятно это связано с некорректным заполнением базы данных. Или с тем, что у городов были разные базы клиентов. Необходимо понять причину, для дальнейшего корректного заполнения баз. Необходимо узнать причину пропусков в балансе. \n",
    "\n",
    "Выделив отточные сегменты мы видим, что это в основном мужчины. Надо попробовать получить обратную связь от них. У мужчин возрастом 50-60 лет(предпенсионер), возможно добавить какие то льготы или бонусы как у пенсионеров, например кэшбек за покупки продуктов питания при оплате картой банка, чтобы их удержать. Молодым мужчинам 25-35 лет, возможно нужно предложить льготную ставку (как молодым семьям, хотя в данных не было указано семейного статуса) на ипотеку. Клиентам без кредитной карты можно предложить более выгодные условия, например добавить льготный период(или увеличить если он есть). Клиентам у которых более двух продуктов, возможно это несколько кредитов(в датасете не указано какие именно это продукты) можно предложить объединение кредитов в один и улучшение ставки. Клиентов с балансом более 700000р возможно не устраивает ставка по вкладам, можно пересмотреть ставку в зависимости от суммы и предложить лучшие условия. Также можно изучить предложения конкуретных банков в этих городах."
   ]
  }
 ],
 "metadata": {
  "ExecuteTimeLog": [
   {
    "duration": 1614,
    "start_time": "2023-06-11T13:32:57.166Z"
   },
   {
    "duration": 80,
    "start_time": "2023-06-11T13:33:22.366Z"
   },
   {
    "duration": 28,
    "start_time": "2023-06-11T13:33:33.091Z"
   },
   {
    "duration": 14,
    "start_time": "2023-06-11T13:34:17.714Z"
   },
   {
    "duration": 36,
    "start_time": "2023-06-11T13:40:29.757Z"
   },
   {
    "duration": 7,
    "start_time": "2023-06-11T13:40:51.079Z"
   },
   {
    "duration": 22,
    "start_time": "2023-06-11T13:41:13.620Z"
   },
   {
    "duration": 11,
    "start_time": "2023-06-11T13:41:36.329Z"
   },
   {
    "duration": 8,
    "start_time": "2023-06-11T13:41:57.776Z"
   },
   {
    "duration": 26,
    "start_time": "2023-06-11T13:42:21.925Z"
   },
   {
    "duration": 5,
    "start_time": "2023-06-11T13:42:45.650Z"
   },
   {
    "duration": 5,
    "start_time": "2023-06-11T13:42:53.611Z"
   },
   {
    "duration": 4,
    "start_time": "2023-06-11T13:43:02.490Z"
   },
   {
    "duration": 65,
    "start_time": "2023-06-11T13:43:57.126Z"
   },
   {
    "duration": 51,
    "start_time": "2023-06-11T13:44:25.275Z"
   },
   {
    "duration": 8,
    "start_time": "2023-06-11T13:44:43.709Z"
   },
   {
    "duration": 9,
    "start_time": "2023-06-11T13:45:05.666Z"
   },
   {
    "duration": 128,
    "start_time": "2023-06-11T13:45:13.980Z"
   },
   {
    "duration": 115,
    "start_time": "2023-06-11T14:17:03.914Z"
   },
   {
    "duration": 109,
    "start_time": "2023-06-11T14:17:11.569Z"
   },
   {
    "duration": 118,
    "start_time": "2023-06-11T14:18:54.672Z"
   },
   {
    "duration": 118,
    "start_time": "2023-06-11T14:19:50.878Z"
   },
   {
    "duration": 117,
    "start_time": "2023-06-11T14:20:14.570Z"
   },
   {
    "duration": 206,
    "start_time": "2023-06-11T14:20:20.462Z"
   },
   {
    "duration": 8,
    "start_time": "2023-06-11T14:38:23.570Z"
   },
   {
    "duration": 13,
    "start_time": "2023-06-11T14:39:57.394Z"
   },
   {
    "duration": 8,
    "start_time": "2023-06-11T14:41:53.870Z"
   },
   {
    "duration": 9,
    "start_time": "2023-06-11T14:42:05.270Z"
   },
   {
    "duration": 9,
    "start_time": "2023-06-11T14:58:32.117Z"
   },
   {
    "duration": 8,
    "start_time": "2023-06-11T14:58:39.380Z"
   },
   {
    "duration": 8,
    "start_time": "2023-06-11T14:58:55.681Z"
   },
   {
    "duration": 7,
    "start_time": "2023-06-11T14:59:21.271Z"
   },
   {
    "duration": 7,
    "start_time": "2023-06-11T14:59:36.270Z"
   },
   {
    "duration": 8,
    "start_time": "2023-06-11T15:00:24.098Z"
   },
   {
    "duration": 112,
    "start_time": "2023-06-11T15:00:32.909Z"
   },
   {
    "duration": 137,
    "start_time": "2023-06-11T15:00:37.121Z"
   },
   {
    "duration": 126,
    "start_time": "2023-06-11T15:01:08.680Z"
   },
   {
    "duration": 5,
    "start_time": "2023-06-11T15:01:30.271Z"
   },
   {
    "duration": 86,
    "start_time": "2023-06-11T15:01:30.278Z"
   },
   {
    "duration": 28,
    "start_time": "2023-06-11T15:01:30.370Z"
   },
   {
    "duration": 72,
    "start_time": "2023-06-11T15:01:30.400Z"
   },
   {
    "duration": 72,
    "start_time": "2023-06-11T15:01:30.476Z"
   },
   {
    "duration": 70,
    "start_time": "2023-06-11T15:01:30.549Z"
   },
   {
    "duration": 69,
    "start_time": "2023-06-11T15:01:30.621Z"
   },
   {
    "duration": 86,
    "start_time": "2023-06-11T15:01:30.691Z"
   },
   {
    "duration": 26,
    "start_time": "2023-06-11T15:01:30.779Z"
   },
   {
    "duration": 103,
    "start_time": "2023-06-11T15:01:30.807Z"
   },
   {
    "duration": 17,
    "start_time": "2023-06-11T15:01:30.913Z"
   },
   {
    "duration": 48,
    "start_time": "2023-06-11T15:01:30.932Z"
   },
   {
    "duration": 72,
    "start_time": "2023-06-11T15:01:30.982Z"
   },
   {
    "duration": 130,
    "start_time": "2023-06-11T15:01:31.061Z"
   },
   {
    "duration": 73,
    "start_time": "2023-06-11T15:01:31.192Z"
   },
   {
    "duration": 174,
    "start_time": "2023-06-11T15:01:31.273Z"
   },
   {
    "duration": 24,
    "start_time": "2023-06-11T15:01:31.449Z"
   },
   {
    "duration": 68,
    "start_time": "2023-06-11T15:01:31.475Z"
   },
   {
    "duration": 179,
    "start_time": "2023-06-11T15:01:31.545Z"
   },
   {
    "duration": 8,
    "start_time": "2023-06-11T15:01:31.726Z"
   },
   {
    "duration": 55,
    "start_time": "2023-06-11T15:01:31.736Z"
   },
   {
    "duration": 9,
    "start_time": "2023-06-11T15:01:41.317Z"
   },
   {
    "duration": 102,
    "start_time": "2023-06-11T15:01:41.680Z"
   },
   {
    "duration": 118,
    "start_time": "2023-06-11T15:02:40.954Z"
   },
   {
    "duration": 5,
    "start_time": "2023-06-11T15:05:04.721Z"
   },
   {
    "duration": 11,
    "start_time": "2023-06-11T15:06:39.568Z"
   },
   {
    "duration": 7,
    "start_time": "2023-06-11T15:07:14.646Z"
   },
   {
    "duration": 4,
    "start_time": "2023-06-11T15:07:20.505Z"
   },
   {
    "duration": 70,
    "start_time": "2023-06-11T15:07:20.511Z"
   },
   {
    "duration": 24,
    "start_time": "2023-06-11T15:07:20.583Z"
   },
   {
    "duration": 13,
    "start_time": "2023-06-11T15:07:20.609Z"
   },
   {
    "duration": 7,
    "start_time": "2023-06-11T15:07:20.624Z"
   },
   {
    "duration": 30,
    "start_time": "2023-06-11T15:07:20.633Z"
   },
   {
    "duration": 23,
    "start_time": "2023-06-11T15:07:20.664Z"
   },
   {
    "duration": 11,
    "start_time": "2023-06-11T15:07:20.690Z"
   },
   {
    "duration": 31,
    "start_time": "2023-06-11T15:07:20.704Z"
   },
   {
    "duration": 42,
    "start_time": "2023-06-11T15:07:20.736Z"
   },
   {
    "duration": 5,
    "start_time": "2023-06-11T15:07:20.780Z"
   },
   {
    "duration": 39,
    "start_time": "2023-06-11T15:07:20.787Z"
   },
   {
    "duration": 25,
    "start_time": "2023-06-11T15:07:20.828Z"
   },
   {
    "duration": 51,
    "start_time": "2023-06-11T15:07:20.855Z"
   },
   {
    "duration": 9,
    "start_time": "2023-06-11T15:07:20.908Z"
   },
   {
    "duration": 10,
    "start_time": "2023-06-11T15:07:22.421Z"
   },
   {
    "duration": 7,
    "start_time": "2023-06-11T15:07:22.744Z"
   },
   {
    "duration": 10,
    "start_time": "2023-06-11T15:07:25.074Z"
   },
   {
    "duration": 138,
    "start_time": "2023-06-11T15:07:25.444Z"
   },
   {
    "duration": 7,
    "start_time": "2023-06-11T15:07:25.832Z"
   },
   {
    "duration": 10,
    "start_time": "2023-06-11T15:07:26.672Z"
   },
   {
    "duration": 116,
    "start_time": "2023-06-11T15:07:27.125Z"
   },
   {
    "duration": 14,
    "start_time": "2023-06-11T15:09:30.270Z"
   },
   {
    "duration": 18,
    "start_time": "2023-06-11T15:09:40.257Z"
   },
   {
    "duration": 21,
    "start_time": "2023-06-11T15:10:04.975Z"
   },
   {
    "duration": 21,
    "start_time": "2023-06-11T15:10:23.725Z"
   },
   {
    "duration": 18,
    "start_time": "2023-06-11T15:11:33.060Z"
   },
   {
    "duration": 167,
    "start_time": "2023-06-11T15:21:25.346Z"
   },
   {
    "duration": 15,
    "start_time": "2023-06-11T15:21:33.835Z"
   },
   {
    "duration": 17,
    "start_time": "2023-06-11T15:21:46.846Z"
   },
   {
    "duration": 26,
    "start_time": "2023-06-11T15:21:51.745Z"
   },
   {
    "duration": 23,
    "start_time": "2023-06-11T15:23:02.592Z"
   },
   {
    "duration": 19,
    "start_time": "2023-06-11T15:23:29.175Z"
   },
   {
    "duration": 29,
    "start_time": "2023-06-11T15:24:07.149Z"
   },
   {
    "duration": 15,
    "start_time": "2023-06-11T15:35:15.469Z"
   },
   {
    "duration": 4,
    "start_time": "2023-06-11T15:35:26.518Z"
   },
   {
    "duration": 40,
    "start_time": "2023-06-11T15:35:26.549Z"
   },
   {
    "duration": 24,
    "start_time": "2023-06-11T15:35:26.592Z"
   },
   {
    "duration": 15,
    "start_time": "2023-06-11T15:35:26.617Z"
   },
   {
    "duration": 27,
    "start_time": "2023-06-11T15:35:26.634Z"
   },
   {
    "duration": 18,
    "start_time": "2023-06-11T15:35:26.663Z"
   },
   {
    "duration": 21,
    "start_time": "2023-06-11T15:35:26.683Z"
   },
   {
    "duration": 22,
    "start_time": "2023-06-11T15:35:26.707Z"
   },
   {
    "duration": 35,
    "start_time": "2023-06-11T15:35:26.732Z"
   },
   {
    "duration": 45,
    "start_time": "2023-06-11T15:35:26.769Z"
   },
   {
    "duration": 5,
    "start_time": "2023-06-11T15:35:26.817Z"
   },
   {
    "duration": 15,
    "start_time": "2023-06-11T15:35:26.824Z"
   },
   {
    "duration": 23,
    "start_time": "2023-06-11T15:35:26.841Z"
   },
   {
    "duration": 65,
    "start_time": "2023-06-11T15:35:26.866Z"
   },
   {
    "duration": 12,
    "start_time": "2023-06-11T15:35:26.934Z"
   },
   {
    "duration": 21,
    "start_time": "2023-06-11T15:35:26.948Z"
   },
   {
    "duration": 31,
    "start_time": "2023-06-11T15:35:26.971Z"
   },
   {
    "duration": 134,
    "start_time": "2023-06-11T15:35:27.004Z"
   },
   {
    "duration": 18,
    "start_time": "2023-06-11T15:35:27.139Z"
   },
   {
    "duration": 36,
    "start_time": "2023-06-11T15:35:27.160Z"
   },
   {
    "duration": 160,
    "start_time": "2023-06-11T15:35:27.198Z"
   },
   {
    "duration": 19,
    "start_time": "2023-06-11T15:35:27.751Z"
   },
   {
    "duration": 9,
    "start_time": "2023-06-11T15:35:29.524Z"
   },
   {
    "duration": 14,
    "start_time": "2023-06-11T15:35:36.561Z"
   },
   {
    "duration": 11,
    "start_time": "2023-06-11T15:36:17.599Z"
   },
   {
    "duration": 22,
    "start_time": "2023-06-11T15:36:31.165Z"
   },
   {
    "duration": 7,
    "start_time": "2023-06-11T15:36:35.316Z"
   },
   {
    "duration": 26,
    "start_time": "2023-06-11T15:37:41.513Z"
   },
   {
    "duration": 26,
    "start_time": "2023-06-11T15:38:31.081Z"
   },
   {
    "duration": 110,
    "start_time": "2023-06-11T15:38:43.161Z"
   },
   {
    "duration": 37,
    "start_time": "2023-06-11T15:38:56.464Z"
   },
   {
    "duration": 27,
    "start_time": "2023-06-11T15:40:25.056Z"
   },
   {
    "duration": 26,
    "start_time": "2023-06-11T15:40:30.468Z"
   },
   {
    "duration": 28,
    "start_time": "2023-06-11T15:40:42.298Z"
   },
   {
    "duration": 28,
    "start_time": "2023-06-11T15:40:56.888Z"
   },
   {
    "duration": 18,
    "start_time": "2023-06-11T15:41:16.849Z"
   },
   {
    "duration": 19,
    "start_time": "2023-06-11T15:43:03.822Z"
   },
   {
    "duration": 16,
    "start_time": "2023-06-11T15:45:47.989Z"
   },
   {
    "duration": 17,
    "start_time": "2023-06-11T15:49:51.600Z"
   },
   {
    "duration": 131,
    "start_time": "2023-06-11T15:55:35.712Z"
   },
   {
    "duration": 205,
    "start_time": "2023-06-11T15:55:41.151Z"
   },
   {
    "duration": 11,
    "start_time": "2023-06-11T15:56:23.386Z"
   },
   {
    "duration": 17,
    "start_time": "2023-06-11T15:56:29.281Z"
   },
   {
    "duration": 310,
    "start_time": "2023-06-11T15:56:31.126Z"
   },
   {
    "duration": 14,
    "start_time": "2023-06-11T15:58:25.163Z"
   },
   {
    "duration": 201,
    "start_time": "2023-06-11T15:58:31.858Z"
   },
   {
    "duration": 176,
    "start_time": "2023-06-11T15:59:13.822Z"
   },
   {
    "duration": 180,
    "start_time": "2023-06-11T15:59:29.090Z"
   },
   {
    "duration": 144,
    "start_time": "2023-06-11T15:59:37.700Z"
   },
   {
    "duration": 162,
    "start_time": "2023-06-11T16:00:43.215Z"
   },
   {
    "duration": 133,
    "start_time": "2023-06-11T16:00:47.987Z"
   },
   {
    "duration": 147,
    "start_time": "2023-06-11T16:00:55.360Z"
   },
   {
    "duration": 166,
    "start_time": "2023-06-11T16:01:06.270Z"
   },
   {
    "duration": 169,
    "start_time": "2023-06-11T16:01:12.499Z"
   },
   {
    "duration": 127,
    "start_time": "2023-06-11T16:03:38.078Z"
   },
   {
    "duration": 147,
    "start_time": "2023-06-11T16:03:52.524Z"
   },
   {
    "duration": 131,
    "start_time": "2023-06-11T16:04:00.150Z"
   },
   {
    "duration": 31,
    "start_time": "2023-06-11T16:04:05.258Z"
   },
   {
    "duration": 31,
    "start_time": "2023-06-11T16:04:09.505Z"
   },
   {
    "duration": 233,
    "start_time": "2023-06-11T16:04:12.389Z"
   },
   {
    "duration": 122,
    "start_time": "2023-06-11T16:04:15.721Z"
   },
   {
    "duration": 29,
    "start_time": "2023-06-11T16:04:24.117Z"
   },
   {
    "duration": 122,
    "start_time": "2023-06-11T16:04:28.262Z"
   },
   {
    "duration": 130,
    "start_time": "2023-06-11T16:05:57.801Z"
   },
   {
    "duration": 138,
    "start_time": "2023-06-11T16:06:56.874Z"
   },
   {
    "duration": 165,
    "start_time": "2023-06-11T16:07:31.465Z"
   },
   {
    "duration": 158,
    "start_time": "2023-06-11T16:07:51.569Z"
   },
   {
    "duration": 143,
    "start_time": "2023-06-11T16:08:48.462Z"
   },
   {
    "duration": 17,
    "start_time": "2023-06-11T16:09:15.650Z"
   },
   {
    "duration": 143,
    "start_time": "2023-06-11T16:09:16.466Z"
   },
   {
    "duration": 134,
    "start_time": "2023-06-11T16:10:29.841Z"
   },
   {
    "duration": 143,
    "start_time": "2023-06-11T16:12:36.197Z"
   },
   {
    "duration": 147,
    "start_time": "2023-06-11T16:12:47.119Z"
   },
   {
    "duration": 172,
    "start_time": "2023-06-11T16:13:04.778Z"
   },
   {
    "duration": 32,
    "start_time": "2023-06-11T16:13:29.762Z"
   },
   {
    "duration": 242,
    "start_time": "2023-06-11T16:13:44.574Z"
   },
   {
    "duration": 135,
    "start_time": "2023-06-11T16:14:00.998Z"
   },
   {
    "duration": 113,
    "start_time": "2023-06-11T16:30:29.481Z"
   },
   {
    "duration": 13,
    "start_time": "2023-06-11T16:31:01.548Z"
   },
   {
    "duration": 12,
    "start_time": "2023-06-11T16:31:18.105Z"
   },
   {
    "duration": 325,
    "start_time": "2023-06-11T16:31:23.862Z"
   },
   {
    "duration": 143,
    "start_time": "2023-06-11T16:32:06.516Z"
   },
   {
    "duration": 125,
    "start_time": "2023-06-11T16:32:25.994Z"
   },
   {
    "duration": 130,
    "start_time": "2023-06-11T16:32:46.626Z"
   },
   {
    "duration": 137,
    "start_time": "2023-06-11T16:32:55.119Z"
   },
   {
    "duration": 442,
    "start_time": "2023-06-11T16:33:27.940Z"
   },
   {
    "duration": 352,
    "start_time": "2023-06-11T16:33:56.058Z"
   },
   {
    "duration": 5,
    "start_time": "2023-06-11T16:34:55.817Z"
   },
   {
    "duration": 39,
    "start_time": "2023-06-11T16:34:55.879Z"
   },
   {
    "duration": 22,
    "start_time": "2023-06-11T16:34:55.920Z"
   },
   {
    "duration": 11,
    "start_time": "2023-06-11T16:34:55.944Z"
   },
   {
    "duration": 8,
    "start_time": "2023-06-11T16:34:55.957Z"
   },
   {
    "duration": 24,
    "start_time": "2023-06-11T16:34:55.968Z"
   },
   {
    "duration": 35,
    "start_time": "2023-06-11T16:34:55.994Z"
   },
   {
    "duration": 10,
    "start_time": "2023-06-11T16:34:56.031Z"
   },
   {
    "duration": 5,
    "start_time": "2023-06-11T16:34:56.043Z"
   },
   {
    "duration": 55,
    "start_time": "2023-06-11T16:34:56.049Z"
   },
   {
    "duration": 5,
    "start_time": "2023-06-11T16:34:56.105Z"
   },
   {
    "duration": 29,
    "start_time": "2023-06-11T16:34:56.112Z"
   },
   {
    "duration": 4,
    "start_time": "2023-06-11T16:34:56.142Z"
   },
   {
    "duration": 41,
    "start_time": "2023-06-11T16:34:56.148Z"
   },
   {
    "duration": 8,
    "start_time": "2023-06-11T16:34:56.191Z"
   },
   {
    "duration": 9,
    "start_time": "2023-06-11T16:34:56.201Z"
   },
   {
    "duration": 5,
    "start_time": "2023-06-11T16:34:56.211Z"
   },
   {
    "duration": 118,
    "start_time": "2023-06-11T16:34:56.219Z"
   },
   {
    "duration": 2,
    "start_time": "2023-06-11T16:34:56.339Z"
   },
   {
    "duration": 4,
    "start_time": "2023-06-11T16:34:56.343Z"
   },
   {
    "duration": 111,
    "start_time": "2023-06-11T16:34:56.356Z"
   },
   {
    "duration": 25,
    "start_time": "2023-06-11T16:34:58.873Z"
   },
   {
    "duration": 326,
    "start_time": "2023-06-11T16:35:51.306Z"
   },
   {
    "duration": 298,
    "start_time": "2023-06-11T16:39:59.658Z"
   },
   {
    "duration": 324,
    "start_time": "2023-06-11T16:40:16.178Z"
   },
   {
    "duration": 428,
    "start_time": "2023-06-11T16:40:21.270Z"
   },
   {
    "duration": 4,
    "start_time": "2023-06-11T16:44:45.488Z"
   },
   {
    "duration": 5,
    "start_time": "2023-06-11T16:44:55.477Z"
   },
   {
    "duration": 5,
    "start_time": "2023-06-11T16:48:00.045Z"
   },
   {
    "duration": 8976,
    "start_time": "2023-06-11T16:48:30.122Z"
   },
   {
    "duration": 4,
    "start_time": "2023-06-11T16:51:06.956Z"
   },
   {
    "duration": 8720,
    "start_time": "2023-06-11T16:51:10.319Z"
   },
   {
    "duration": 5,
    "start_time": "2023-06-11T16:51:50.144Z"
   },
   {
    "duration": 9201,
    "start_time": "2023-06-11T16:51:54.264Z"
   },
   {
    "duration": 5,
    "start_time": "2023-06-11T16:54:06.552Z"
   },
   {
    "duration": 9746,
    "start_time": "2023-06-11T16:54:08.483Z"
   },
   {
    "duration": 4,
    "start_time": "2023-06-11T16:55:16.474Z"
   },
   {
    "duration": 5,
    "start_time": "2023-06-11T16:55:25.959Z"
   },
   {
    "duration": 4,
    "start_time": "2023-06-11T16:56:39.654Z"
   },
   {
    "duration": 9631,
    "start_time": "2023-06-11T16:56:41.097Z"
   },
   {
    "duration": 148,
    "start_time": "2023-06-11T17:03:00.701Z"
   },
   {
    "duration": 147,
    "start_time": "2023-06-11T17:03:09.342Z"
   },
   {
    "duration": 6,
    "start_time": "2023-06-11T17:06:57.393Z"
   },
   {
    "duration": 8602,
    "start_time": "2023-06-11T17:06:58.371Z"
   },
   {
    "duration": 9,
    "start_time": "2023-06-11T18:39:18.878Z"
   },
   {
    "duration": 42,
    "start_time": "2023-06-11T18:39:20.551Z"
   },
   {
    "duration": 1357,
    "start_time": "2023-06-11T18:39:27.558Z"
   },
   {
    "duration": 334,
    "start_time": "2023-06-11T18:39:28.916Z"
   },
   {
    "duration": 28,
    "start_time": "2023-06-11T18:39:29.252Z"
   },
   {
    "duration": 13,
    "start_time": "2023-06-11T18:39:29.282Z"
   },
   {
    "duration": 10,
    "start_time": "2023-06-11T18:39:29.297Z"
   },
   {
    "duration": 6,
    "start_time": "2023-06-11T18:39:29.308Z"
   },
   {
    "duration": 25,
    "start_time": "2023-06-11T18:39:29.315Z"
   },
   {
    "duration": 26,
    "start_time": "2023-06-11T18:39:29.341Z"
   },
   {
    "duration": 41,
    "start_time": "2023-06-11T18:39:29.369Z"
   },
   {
    "duration": 23,
    "start_time": "2023-06-11T18:39:29.412Z"
   },
   {
    "duration": 5,
    "start_time": "2023-06-11T18:39:29.436Z"
   },
   {
    "duration": 7,
    "start_time": "2023-06-11T18:39:29.443Z"
   },
   {
    "duration": 4,
    "start_time": "2023-06-11T18:39:29.452Z"
   },
   {
    "duration": 37,
    "start_time": "2023-06-11T18:39:29.457Z"
   },
   {
    "duration": 63,
    "start_time": "2023-06-11T18:39:29.496Z"
   },
   {
    "duration": 3,
    "start_time": "2023-06-11T18:39:29.560Z"
   },
   {
    "duration": 6,
    "start_time": "2023-06-11T18:39:29.564Z"
   },
   {
    "duration": 116,
    "start_time": "2023-06-11T18:39:29.571Z"
   },
   {
    "duration": 2,
    "start_time": "2023-06-11T18:39:29.688Z"
   },
   {
    "duration": 6,
    "start_time": "2023-06-11T18:39:29.692Z"
   },
   {
    "duration": 107,
    "start_time": "2023-06-11T18:39:29.699Z"
   },
   {
    "duration": 25,
    "start_time": "2023-06-11T18:39:29.808Z"
   },
   {
    "duration": 4,
    "start_time": "2023-06-11T18:39:29.835Z"
   },
   {
    "duration": 4,
    "start_time": "2023-06-11T18:39:53.560Z"
   },
   {
    "duration": 8291,
    "start_time": "2023-06-11T18:39:53.939Z"
   },
   {
    "duration": 21,
    "start_time": "2023-06-11T19:22:31.033Z"
   },
   {
    "duration": 407,
    "start_time": "2023-06-11T19:24:32.364Z"
   },
   {
    "duration": 398,
    "start_time": "2023-06-11T19:26:07.889Z"
   },
   {
    "duration": 570,
    "start_time": "2023-06-11T19:26:33.515Z"
   },
   {
    "duration": 695,
    "start_time": "2023-06-11T19:27:06.843Z"
   },
   {
    "duration": 3,
    "start_time": "2023-06-11T19:42:47.404Z"
   },
   {
    "duration": 39,
    "start_time": "2023-06-11T19:42:47.416Z"
   },
   {
    "duration": 20,
    "start_time": "2023-06-11T19:42:47.457Z"
   },
   {
    "duration": 12,
    "start_time": "2023-06-11T19:42:47.479Z"
   },
   {
    "duration": 8,
    "start_time": "2023-06-11T19:42:47.493Z"
   },
   {
    "duration": 22,
    "start_time": "2023-06-11T19:42:47.503Z"
   },
   {
    "duration": 13,
    "start_time": "2023-06-11T19:42:47.527Z"
   },
   {
    "duration": 31,
    "start_time": "2023-06-11T19:42:47.541Z"
   },
   {
    "duration": 9,
    "start_time": "2023-06-11T19:42:47.574Z"
   },
   {
    "duration": 38,
    "start_time": "2023-06-11T19:42:47.584Z"
   },
   {
    "duration": 9,
    "start_time": "2023-06-11T19:42:47.624Z"
   },
   {
    "duration": 13,
    "start_time": "2023-06-11T19:42:47.634Z"
   },
   {
    "duration": 19,
    "start_time": "2023-06-11T19:42:47.648Z"
   },
   {
    "duration": 69,
    "start_time": "2023-06-11T19:42:47.668Z"
   },
   {
    "duration": 8,
    "start_time": "2023-06-11T19:42:47.738Z"
   },
   {
    "duration": 41,
    "start_time": "2023-06-11T19:42:47.747Z"
   },
   {
    "duration": 2,
    "start_time": "2023-06-11T19:42:50.159Z"
   },
   {
    "duration": 99,
    "start_time": "2023-06-11T19:42:50.162Z"
   },
   {
    "duration": 3,
    "start_time": "2023-06-11T19:42:50.743Z"
   },
   {
    "duration": 7,
    "start_time": "2023-06-11T19:42:50.747Z"
   },
   {
    "duration": 106,
    "start_time": "2023-06-11T19:42:50.756Z"
   },
   {
    "duration": 21,
    "start_time": "2023-06-11T19:42:50.863Z"
   },
   {
    "duration": 13,
    "start_time": "2023-06-11T19:42:50.885Z"
   },
   {
    "duration": 8170,
    "start_time": "2023-06-11T19:42:51.715Z"
   },
   {
    "duration": 580,
    "start_time": "2023-06-11T19:42:59.887Z"
   },
   {
    "duration": 800,
    "start_time": "2023-06-11T19:43:07.079Z"
   },
   {
    "duration": 718,
    "start_time": "2023-06-11T19:43:28.539Z"
   },
   {
    "duration": 834,
    "start_time": "2023-06-11T19:44:09.717Z"
   },
   {
    "duration": 790,
    "start_time": "2023-06-11T19:44:59.840Z"
   },
   {
    "duration": 810,
    "start_time": "2023-06-11T19:45:52.089Z"
   },
   {
    "duration": 743,
    "start_time": "2023-06-11T19:46:53.283Z"
   },
   {
    "duration": 1100,
    "start_time": "2023-06-11T19:47:48.420Z"
   },
   {
    "duration": 798,
    "start_time": "2023-06-11T19:47:58.521Z"
   },
   {
    "duration": 677,
    "start_time": "2023-06-11T19:48:10.953Z"
   },
   {
    "duration": 639,
    "start_time": "2023-06-11T19:48:43.831Z"
   },
   {
    "duration": 551,
    "start_time": "2023-06-11T19:49:36.697Z"
   },
   {
    "duration": 525,
    "start_time": "2023-06-11T19:50:21.577Z"
   },
   {
    "duration": 919,
    "start_time": "2023-06-11T19:51:54.986Z"
   },
   {
    "duration": 386,
    "start_time": "2023-06-11T19:53:58.966Z"
   },
   {
    "duration": 309,
    "start_time": "2023-06-11T19:54:28.540Z"
   },
   {
    "duration": 285,
    "start_time": "2023-06-11T19:54:45.993Z"
   },
   {
    "duration": 501,
    "start_time": "2023-06-11T19:56:11.526Z"
   },
   {
    "duration": 311,
    "start_time": "2023-06-11T19:56:49.825Z"
   },
   {
    "duration": 289,
    "start_time": "2023-06-11T19:57:03.604Z"
   },
   {
    "duration": 392,
    "start_time": "2023-06-11T19:58:02.467Z"
   },
   {
    "duration": 715,
    "start_time": "2023-06-11T19:59:46.840Z"
   },
   {
    "duration": 942,
    "start_time": "2023-06-11T20:00:40.547Z"
   },
   {
    "duration": 513,
    "start_time": "2023-06-11T20:01:23.945Z"
   },
   {
    "duration": 500,
    "start_time": "2023-06-11T20:10:02.032Z"
   },
   {
    "duration": 506,
    "start_time": "2023-06-11T20:12:58.263Z"
   },
   {
    "duration": 465,
    "start_time": "2023-06-11T20:13:04.145Z"
   },
   {
    "duration": 469,
    "start_time": "2023-06-11T20:13:23.742Z"
   },
   {
    "duration": 15,
    "start_time": "2023-06-11T20:13:25.670Z"
   },
   {
    "duration": 161,
    "start_time": "2023-06-11T20:14:39.242Z"
   },
   {
    "duration": 17,
    "start_time": "2023-06-11T20:14:45.185Z"
   },
   {
    "duration": 142,
    "start_time": "2023-06-11T20:14:51.754Z"
   },
   {
    "duration": 1520,
    "start_time": "2023-06-12T09:32:50.634Z"
   },
   {
    "duration": 84,
    "start_time": "2023-06-12T09:32:52.157Z"
   },
   {
    "duration": 28,
    "start_time": "2023-06-12T09:32:52.243Z"
   },
   {
    "duration": 13,
    "start_time": "2023-06-12T09:32:52.272Z"
   },
   {
    "duration": 29,
    "start_time": "2023-06-12T09:32:52.287Z"
   },
   {
    "duration": 16,
    "start_time": "2023-06-12T09:32:52.318Z"
   },
   {
    "duration": 15,
    "start_time": "2023-06-12T09:32:52.336Z"
   },
   {
    "duration": 11,
    "start_time": "2023-06-12T09:32:52.353Z"
   },
   {
    "duration": 6,
    "start_time": "2023-06-12T09:32:52.365Z"
   },
   {
    "duration": 34,
    "start_time": "2023-06-12T09:32:52.373Z"
   },
   {
    "duration": 5,
    "start_time": "2023-06-12T09:32:52.409Z"
   },
   {
    "duration": 8,
    "start_time": "2023-06-12T09:32:52.415Z"
   },
   {
    "duration": 11,
    "start_time": "2023-06-12T09:32:52.424Z"
   },
   {
    "duration": 59,
    "start_time": "2023-06-12T09:32:52.437Z"
   },
   {
    "duration": 42,
    "start_time": "2023-06-12T09:32:52.498Z"
   },
   {
    "duration": 33,
    "start_time": "2023-06-12T09:32:52.541Z"
   },
   {
    "duration": 4,
    "start_time": "2023-06-12T09:32:52.575Z"
   },
   {
    "duration": 8634,
    "start_time": "2023-06-12T09:32:52.580Z"
   },
   {
    "duration": 530,
    "start_time": "2023-06-12T09:33:01.217Z"
   },
   {
    "duration": 525,
    "start_time": "2023-06-12T09:33:01.749Z"
   },
   {
    "duration": 17,
    "start_time": "2023-06-12T09:33:02.275Z"
   },
   {
    "duration": 706,
    "start_time": "2023-06-12T09:33:02.294Z"
   },
   {
    "duration": 16,
    "start_time": "2023-06-12T09:33:03.002Z"
   },
   {
    "duration": 155,
    "start_time": "2023-06-12T09:33:03.020Z"
   },
   {
    "duration": 12,
    "start_time": "2023-06-12T10:27:36.457Z"
   },
   {
    "duration": 27,
    "start_time": "2023-06-12T10:28:04.138Z"
   },
   {
    "duration": 12,
    "start_time": "2023-06-12T10:28:28.627Z"
   },
   {
    "duration": 25,
    "start_time": "2023-06-12T10:29:31.226Z"
   },
   {
    "duration": 22,
    "start_time": "2023-06-12T10:30:16.060Z"
   },
   {
    "duration": 24,
    "start_time": "2023-06-12T10:31:40.610Z"
   },
   {
    "duration": 20,
    "start_time": "2023-06-12T10:32:18.717Z"
   },
   {
    "duration": 26,
    "start_time": "2023-06-12T10:36:06.251Z"
   },
   {
    "duration": 19,
    "start_time": "2023-06-12T10:39:14.734Z"
   },
   {
    "duration": 22,
    "start_time": "2023-06-12T10:41:06.192Z"
   },
   {
    "duration": 110,
    "start_time": "2023-06-12T10:44:34.866Z"
   },
   {
    "duration": 4,
    "start_time": "2023-06-12T10:44:39.540Z"
   },
   {
    "duration": 22,
    "start_time": "2023-06-12T10:45:23.569Z"
   },
   {
    "duration": 22,
    "start_time": "2023-06-12T10:47:11.639Z"
   },
   {
    "duration": 19,
    "start_time": "2023-06-12T10:47:59.912Z"
   },
   {
    "duration": 20,
    "start_time": "2023-06-12T10:57:00.709Z"
   },
   {
    "duration": 20,
    "start_time": "2023-06-12T10:57:56.368Z"
   },
   {
    "duration": 19,
    "start_time": "2023-06-12T10:58:10.112Z"
   },
   {
    "duration": 19,
    "start_time": "2023-06-12T10:58:23.405Z"
   },
   {
    "duration": 19,
    "start_time": "2023-06-12T10:58:33.616Z"
   },
   {
    "duration": 21,
    "start_time": "2023-06-12T10:58:38.368Z"
   },
   {
    "duration": 19,
    "start_time": "2023-06-12T11:00:19.974Z"
   },
   {
    "duration": 19,
    "start_time": "2023-06-12T11:00:53.307Z"
   },
   {
    "duration": 18,
    "start_time": "2023-06-12T11:00:55.747Z"
   },
   {
    "duration": 25,
    "start_time": "2023-06-12T11:03:08.808Z"
   },
   {
    "duration": 21,
    "start_time": "2023-06-12T11:04:18.874Z"
   },
   {
    "duration": 22,
    "start_time": "2023-06-12T11:05:18.772Z"
   },
   {
    "duration": 24,
    "start_time": "2023-06-12T11:06:41.890Z"
   },
   {
    "duration": 19,
    "start_time": "2023-06-12T11:07:37.650Z"
   },
   {
    "duration": 21,
    "start_time": "2023-06-12T11:08:43.254Z"
   },
   {
    "duration": 20,
    "start_time": "2023-06-12T11:09:37.062Z"
   },
   {
    "duration": 22,
    "start_time": "2023-06-12T11:09:50.740Z"
   },
   {
    "duration": 22,
    "start_time": "2023-06-12T11:10:48.647Z"
   },
   {
    "duration": 21,
    "start_time": "2023-06-12T11:11:00.150Z"
   },
   {
    "duration": 20,
    "start_time": "2023-06-12T11:11:10.750Z"
   },
   {
    "duration": 19,
    "start_time": "2023-06-12T11:11:43.543Z"
   },
   {
    "duration": 21,
    "start_time": "2023-06-12T11:14:08.696Z"
   },
   {
    "duration": 26,
    "start_time": "2023-06-12T11:14:34.048Z"
   },
   {
    "duration": 22,
    "start_time": "2023-06-12T11:14:39.346Z"
   },
   {
    "duration": 26,
    "start_time": "2023-06-12T11:15:43.935Z"
   },
   {
    "duration": 20,
    "start_time": "2023-06-12T11:16:15.194Z"
   },
   {
    "duration": 25,
    "start_time": "2023-06-12T11:16:32.617Z"
   },
   {
    "duration": 21,
    "start_time": "2023-06-12T11:16:51.454Z"
   },
   {
    "duration": 21,
    "start_time": "2023-06-12T11:16:59.196Z"
   },
   {
    "duration": 22,
    "start_time": "2023-06-12T11:19:10.093Z"
   },
   {
    "duration": 23,
    "start_time": "2023-06-12T11:19:15.207Z"
   },
   {
    "duration": 29,
    "start_time": "2023-06-12T11:22:51.177Z"
   },
   {
    "duration": 22,
    "start_time": "2023-06-12T11:23:05.613Z"
   },
   {
    "duration": 20,
    "start_time": "2023-06-12T11:25:03.711Z"
   },
   {
    "duration": 20,
    "start_time": "2023-06-12T11:27:53.454Z"
   },
   {
    "duration": 20,
    "start_time": "2023-06-12T11:27:59.574Z"
   },
   {
    "duration": 21,
    "start_time": "2023-06-12T11:28:16.251Z"
   },
   {
    "duration": 5,
    "start_time": "2023-06-12T11:37:22.752Z"
   },
   {
    "duration": 49,
    "start_time": "2023-06-12T11:37:37.083Z"
   },
   {
    "duration": 4,
    "start_time": "2023-06-12T11:37:59.546Z"
   },
   {
    "duration": 74,
    "start_time": "2023-06-12T11:38:02.054Z"
   },
   {
    "duration": 4,
    "start_time": "2023-06-12T11:43:59.853Z"
   },
   {
    "duration": 79,
    "start_time": "2023-06-12T11:43:59.859Z"
   },
   {
    "duration": 26,
    "start_time": "2023-06-12T11:43:59.940Z"
   },
   {
    "duration": 15,
    "start_time": "2023-06-12T11:43:59.968Z"
   },
   {
    "duration": 12,
    "start_time": "2023-06-12T11:43:59.985Z"
   },
   {
    "duration": 7,
    "start_time": "2023-06-12T11:43:59.999Z"
   },
   {
    "duration": 81,
    "start_time": "2023-06-12T11:44:00.007Z"
   },
   {
    "duration": 29,
    "start_time": "2023-06-12T11:44:00.090Z"
   },
   {
    "duration": 30,
    "start_time": "2023-06-12T11:44:00.121Z"
   },
   {
    "duration": 27,
    "start_time": "2023-06-12T11:44:00.153Z"
   },
   {
    "duration": 5,
    "start_time": "2023-06-12T11:44:00.184Z"
   },
   {
    "duration": 17,
    "start_time": "2023-06-12T11:44:00.190Z"
   },
   {
    "duration": 11,
    "start_time": "2023-06-12T11:44:00.210Z"
   },
   {
    "duration": 49,
    "start_time": "2023-06-12T11:44:00.223Z"
   },
   {
    "duration": 8,
    "start_time": "2023-06-12T11:44:00.274Z"
   },
   {
    "duration": 26,
    "start_time": "2023-06-12T11:44:00.283Z"
   },
   {
    "duration": 15,
    "start_time": "2023-06-12T11:44:00.310Z"
   },
   {
    "duration": 8833,
    "start_time": "2023-06-12T11:44:00.327Z"
   },
   {
    "duration": 487,
    "start_time": "2023-06-12T11:44:09.161Z"
   },
   {
    "duration": 575,
    "start_time": "2023-06-12T11:44:09.650Z"
   },
   {
    "duration": 17,
    "start_time": "2023-06-12T11:44:10.226Z"
   },
   {
    "duration": 168,
    "start_time": "2023-06-12T11:44:10.245Z"
   },
   {
    "duration": 21,
    "start_time": "2023-06-12T11:44:10.415Z"
   },
   {
    "duration": 210,
    "start_time": "2023-06-12T11:44:10.438Z"
   },
   {
    "duration": 25,
    "start_time": "2023-06-12T11:44:19.813Z"
   },
   {
    "duration": 7,
    "start_time": "2023-06-12T11:44:26.959Z"
   },
   {
    "duration": 71,
    "start_time": "2023-06-12T11:44:30.864Z"
   },
   {
    "duration": 5,
    "start_time": "2023-06-12T11:46:30.097Z"
   },
   {
    "duration": 69,
    "start_time": "2023-06-12T11:46:35.694Z"
   },
   {
    "duration": 5,
    "start_time": "2023-06-12T11:47:11.614Z"
   },
   {
    "duration": 81,
    "start_time": "2023-06-12T11:47:15.597Z"
   },
   {
    "duration": 40,
    "start_time": "2023-06-12T11:55:17.461Z"
   },
   {
    "duration": 6,
    "start_time": "2023-06-12T11:55:20.585Z"
   },
   {
    "duration": 82,
    "start_time": "2023-06-12T11:55:21.494Z"
   },
   {
    "duration": 7,
    "start_time": "2023-06-12T11:56:45.970Z"
   },
   {
    "duration": 69,
    "start_time": "2023-06-12T11:56:46.666Z"
   },
   {
    "duration": 4,
    "start_time": "2023-06-12T12:24:02.834Z"
   },
   {
    "duration": 48,
    "start_time": "2023-06-12T12:24:02.840Z"
   },
   {
    "duration": 24,
    "start_time": "2023-06-12T12:24:02.890Z"
   },
   {
    "duration": 37,
    "start_time": "2023-06-12T12:24:02.916Z"
   },
   {
    "duration": 7,
    "start_time": "2023-06-12T12:24:02.956Z"
   },
   {
    "duration": 14,
    "start_time": "2023-06-12T12:24:02.964Z"
   },
   {
    "duration": 21,
    "start_time": "2023-06-12T12:24:02.979Z"
   },
   {
    "duration": 9,
    "start_time": "2023-06-12T12:24:03.003Z"
   },
   {
    "duration": 15,
    "start_time": "2023-06-12T12:24:03.013Z"
   },
   {
    "duration": 32,
    "start_time": "2023-06-12T12:24:03.030Z"
   },
   {
    "duration": 5,
    "start_time": "2023-06-12T12:24:03.064Z"
   },
   {
    "duration": 13,
    "start_time": "2023-06-12T12:24:03.071Z"
   },
   {
    "duration": 8,
    "start_time": "2023-06-12T12:24:03.086Z"
   },
   {
    "duration": 43,
    "start_time": "2023-06-12T12:24:03.096Z"
   },
   {
    "duration": 21,
    "start_time": "2023-06-12T12:24:03.142Z"
   },
   {
    "duration": 16,
    "start_time": "2023-06-12T12:24:03.166Z"
   },
   {
    "duration": 4,
    "start_time": "2023-06-12T12:24:03.184Z"
   },
   {
    "duration": 9128,
    "start_time": "2023-06-12T12:24:03.189Z"
   },
   {
    "duration": 611,
    "start_time": "2023-06-12T12:24:12.319Z"
   },
   {
    "duration": 422,
    "start_time": "2023-06-12T12:24:12.932Z"
   },
   {
    "duration": 16,
    "start_time": "2023-06-12T12:24:13.356Z"
   },
   {
    "duration": 163,
    "start_time": "2023-06-12T12:24:13.374Z"
   },
   {
    "duration": 29,
    "start_time": "2023-06-12T12:24:13.539Z"
   },
   {
    "duration": 161,
    "start_time": "2023-06-12T12:24:13.570Z"
   },
   {
    "duration": 42,
    "start_time": "2023-06-12T12:24:13.733Z"
   },
   {
    "duration": 6,
    "start_time": "2023-06-12T12:24:13.777Z"
   },
   {
    "duration": 91,
    "start_time": "2023-06-12T12:24:13.785Z"
   },
   {
    "duration": 1453,
    "start_time": "2023-06-12T12:42:25.305Z"
   },
   {
    "duration": 102,
    "start_time": "2023-06-12T12:42:57.485Z"
   },
   {
    "duration": 3232,
    "start_time": "2023-06-12T12:43:02.541Z"
   },
   {
    "duration": 41,
    "start_time": "2023-06-12T12:43:21.394Z"
   },
   {
    "duration": 4,
    "start_time": "2023-06-12T12:43:33.959Z"
   },
   {
    "duration": 45,
    "start_time": "2023-06-12T12:43:34.319Z"
   },
   {
    "duration": 4,
    "start_time": "2023-06-12T12:43:44.478Z"
   },
   {
    "duration": 57,
    "start_time": "2023-06-12T12:43:44.499Z"
   },
   {
    "duration": 31,
    "start_time": "2023-06-12T12:43:44.558Z"
   },
   {
    "duration": 16,
    "start_time": "2023-06-12T12:43:44.590Z"
   },
   {
    "duration": 11,
    "start_time": "2023-06-12T12:43:44.608Z"
   },
   {
    "duration": 38,
    "start_time": "2023-06-12T12:43:44.622Z"
   },
   {
    "duration": 14,
    "start_time": "2023-06-12T12:43:44.661Z"
   },
   {
    "duration": 35,
    "start_time": "2023-06-12T12:43:44.677Z"
   },
   {
    "duration": 18,
    "start_time": "2023-06-12T12:43:44.714Z"
   },
   {
    "duration": 42,
    "start_time": "2023-06-12T12:43:44.734Z"
   },
   {
    "duration": 6,
    "start_time": "2023-06-12T12:43:44.778Z"
   },
   {
    "duration": 13,
    "start_time": "2023-06-12T12:43:44.786Z"
   },
   {
    "duration": 18,
    "start_time": "2023-06-12T12:43:44.801Z"
   },
   {
    "duration": 54,
    "start_time": "2023-06-12T12:43:44.821Z"
   },
   {
    "duration": 49,
    "start_time": "2023-06-12T12:43:44.878Z"
   },
   {
    "duration": 30,
    "start_time": "2023-06-12T12:43:44.929Z"
   },
   {
    "duration": 6,
    "start_time": "2023-06-12T12:43:44.960Z"
   },
   {
    "duration": 9059,
    "start_time": "2023-06-12T12:43:44.968Z"
   },
   {
    "duration": 597,
    "start_time": "2023-06-12T12:43:54.029Z"
   },
   {
    "duration": 502,
    "start_time": "2023-06-12T12:43:54.628Z"
   },
   {
    "duration": 26,
    "start_time": "2023-06-12T12:43:55.132Z"
   },
   {
    "duration": 640,
    "start_time": "2023-06-12T12:43:55.159Z"
   },
   {
    "duration": 17,
    "start_time": "2023-06-12T12:43:55.801Z"
   },
   {
    "duration": 173,
    "start_time": "2023-06-12T12:43:55.820Z"
   },
   {
    "duration": 36,
    "start_time": "2023-06-12T12:43:55.995Z"
   },
   {
    "duration": 5,
    "start_time": "2023-06-12T12:43:56.032Z"
   },
   {
    "duration": 84,
    "start_time": "2023-06-12T12:43:56.039Z"
   },
   {
    "duration": 630,
    "start_time": "2023-06-12T12:48:03.787Z"
   },
   {
    "duration": 1506,
    "start_time": "2023-06-12T12:51:42.250Z"
   },
   {
    "duration": 2242,
    "start_time": "2023-06-12T13:25:43.428Z"
   },
   {
    "duration": 2109,
    "start_time": "2023-06-12T13:26:22.758Z"
   },
   {
    "duration": 1895,
    "start_time": "2023-06-12T13:27:50.509Z"
   },
   {
    "duration": 2070,
    "start_time": "2023-06-12T13:28:12.265Z"
   },
   {
    "duration": 2171,
    "start_time": "2023-06-12T13:29:02.264Z"
   },
   {
    "duration": 931,
    "start_time": "2023-06-12T13:31:03.869Z"
   },
   {
    "duration": 917,
    "start_time": "2023-06-12T13:32:19.883Z"
   },
   {
    "duration": 935,
    "start_time": "2023-06-12T13:32:51.352Z"
   },
   {
    "duration": 1435,
    "start_time": "2023-06-12T13:33:27.670Z"
   },
   {
    "duration": 1753,
    "start_time": "2023-06-12T13:34:57.493Z"
   },
   {
    "duration": 921,
    "start_time": "2023-06-12T13:35:24.165Z"
   },
   {
    "duration": 1875,
    "start_time": "2023-06-12T13:39:56.904Z"
   },
   {
    "duration": 2485,
    "start_time": "2023-06-12T13:50:54.520Z"
   },
   {
    "duration": 2267,
    "start_time": "2023-06-12T13:53:19.238Z"
   },
   {
    "duration": 2600,
    "start_time": "2023-06-12T13:54:01.419Z"
   },
   {
    "duration": 2274,
    "start_time": "2023-06-12T13:54:24.397Z"
   },
   {
    "duration": 2262,
    "start_time": "2023-06-12T13:55:26.309Z"
   },
   {
    "duration": 2414,
    "start_time": "2023-06-12T13:56:09.446Z"
   },
   {
    "duration": 2133,
    "start_time": "2023-06-12T13:58:18.084Z"
   },
   {
    "duration": 34,
    "start_time": "2023-06-12T14:26:22.978Z"
   },
   {
    "duration": 4,
    "start_time": "2023-06-12T14:26:24.625Z"
   },
   {
    "duration": 75,
    "start_time": "2023-06-12T14:26:24.983Z"
   },
   {
    "duration": 52,
    "start_time": "2023-06-12T14:27:11.318Z"
   },
   {
    "duration": 5,
    "start_time": "2023-06-12T14:27:11.680Z"
   },
   {
    "duration": 90,
    "start_time": "2023-06-12T14:27:11.982Z"
   },
   {
    "duration": 42,
    "start_time": "2023-06-12T14:27:29.521Z"
   },
   {
    "duration": 6,
    "start_time": "2023-06-12T14:27:29.987Z"
   },
   {
    "duration": 84,
    "start_time": "2023-06-12T14:27:30.624Z"
   },
   {
    "duration": 49,
    "start_time": "2023-06-12T14:28:39.941Z"
   },
   {
    "duration": 6,
    "start_time": "2023-06-12T14:28:40.925Z"
   },
   {
    "duration": 85,
    "start_time": "2023-06-12T14:28:41.578Z"
   },
   {
    "duration": 5,
    "start_time": "2023-06-12T14:29:40.946Z"
   },
   {
    "duration": 63,
    "start_time": "2023-06-12T14:29:40.954Z"
   },
   {
    "duration": 48,
    "start_time": "2023-06-12T14:29:41.030Z"
   },
   {
    "duration": 17,
    "start_time": "2023-06-12T14:29:41.082Z"
   },
   {
    "duration": 12,
    "start_time": "2023-06-12T14:29:41.101Z"
   },
   {
    "duration": 24,
    "start_time": "2023-06-12T14:29:41.115Z"
   },
   {
    "duration": 39,
    "start_time": "2023-06-12T14:29:41.142Z"
   },
   {
    "duration": 18,
    "start_time": "2023-06-12T14:29:41.183Z"
   },
   {
    "duration": 7,
    "start_time": "2023-06-12T14:29:41.203Z"
   },
   {
    "duration": 59,
    "start_time": "2023-06-12T14:29:41.212Z"
   },
   {
    "duration": 7,
    "start_time": "2023-06-12T14:29:41.275Z"
   },
   {
    "duration": 14,
    "start_time": "2023-06-12T14:29:41.284Z"
   },
   {
    "duration": 11,
    "start_time": "2023-06-12T14:29:41.300Z"
   },
   {
    "duration": 68,
    "start_time": "2023-06-12T14:29:41.314Z"
   },
   {
    "duration": 9,
    "start_time": "2023-06-12T14:29:41.384Z"
   },
   {
    "duration": 18,
    "start_time": "2023-06-12T14:29:41.396Z"
   },
   {
    "duration": 4,
    "start_time": "2023-06-12T14:29:41.416Z"
   },
   {
    "duration": 10403,
    "start_time": "2023-06-12T14:29:41.421Z"
   },
   {
    "duration": 589,
    "start_time": "2023-06-12T14:29:51.827Z"
   },
   {
    "duration": 682,
    "start_time": "2023-06-12T14:29:52.418Z"
   },
   {
    "duration": 17,
    "start_time": "2023-06-12T14:29:53.103Z"
   },
   {
    "duration": 204,
    "start_time": "2023-06-12T14:29:53.123Z"
   },
   {
    "duration": 21,
    "start_time": "2023-06-12T14:29:53.329Z"
   },
   {
    "duration": 157,
    "start_time": "2023-06-12T14:29:53.358Z"
   },
   {
    "duration": 51,
    "start_time": "2023-06-12T14:29:53.516Z"
   },
   {
    "duration": 6,
    "start_time": "2023-06-12T14:29:53.573Z"
   },
   {
    "duration": 88,
    "start_time": "2023-06-12T14:29:53.581Z"
   },
   {
    "duration": 2445,
    "start_time": "2023-06-12T14:29:53.673Z"
   },
   {
    "duration": 2506,
    "start_time": "2023-06-12T14:37:24.086Z"
   },
   {
    "duration": 115,
    "start_time": "2023-06-12T15:46:41.028Z"
   },
   {
    "duration": 565,
    "start_time": "2023-06-12T15:46:59.743Z"
   },
   {
    "duration": 285,
    "start_time": "2023-06-12T15:57:09.838Z"
   },
   {
    "duration": 12,
    "start_time": "2023-06-12T15:58:46.262Z"
   },
   {
    "duration": 6,
    "start_time": "2023-06-12T15:59:24.879Z"
   },
   {
    "duration": 16,
    "start_time": "2023-06-12T16:02:43.350Z"
   },
   {
    "duration": 216,
    "start_time": "2023-06-12T16:04:59.099Z"
   },
   {
    "duration": 23,
    "start_time": "2023-06-12T16:06:16.351Z"
   },
   {
    "duration": 1349,
    "start_time": "2023-06-12T16:06:25.480Z"
   },
   {
    "duration": 144,
    "start_time": "2023-06-12T16:09:12.334Z"
   },
   {
    "duration": 286,
    "start_time": "2023-06-12T16:23:07.399Z"
   },
   {
    "duration": 1845,
    "start_time": "2023-06-12T16:24:28.479Z"
   },
   {
    "duration": 1513,
    "start_time": "2023-06-12T16:24:54.399Z"
   },
   {
    "duration": 1425,
    "start_time": "2023-06-12T16:25:47.956Z"
   },
   {
    "duration": 14,
    "start_time": "2023-06-12T16:26:05.558Z"
   },
   {
    "duration": 1559,
    "start_time": "2023-06-12T16:26:29.826Z"
   },
   {
    "duration": 1441,
    "start_time": "2023-06-12T16:27:08.275Z"
   },
   {
    "duration": 12,
    "start_time": "2023-06-12T16:27:51.720Z"
   },
   {
    "duration": 769,
    "start_time": "2023-06-12T16:30:26.030Z"
   },
   {
    "duration": 714,
    "start_time": "2023-06-12T16:30:49.977Z"
   },
   {
    "duration": 837,
    "start_time": "2023-06-12T16:32:19.736Z"
   },
   {
    "duration": 6,
    "start_time": "2023-06-12T17:11:04.709Z"
   },
   {
    "duration": 334,
    "start_time": "2023-06-12T17:12:16.804Z"
   },
   {
    "duration": 291,
    "start_time": "2023-06-12T17:13:02.812Z"
   },
   {
    "duration": 306,
    "start_time": "2023-06-12T17:13:11.308Z"
   },
   {
    "duration": 327,
    "start_time": "2023-06-12T17:13:24.683Z"
   },
   {
    "duration": 4,
    "start_time": "2023-06-12T17:13:33.785Z"
   },
   {
    "duration": 58,
    "start_time": "2023-06-12T17:13:33.827Z"
   },
   {
    "duration": 30,
    "start_time": "2023-06-12T17:13:33.892Z"
   },
   {
    "duration": 16,
    "start_time": "2023-06-12T17:13:33.925Z"
   },
   {
    "duration": 58,
    "start_time": "2023-06-12T17:13:33.944Z"
   },
   {
    "duration": 9,
    "start_time": "2023-06-12T17:13:34.109Z"
   },
   {
    "duration": 24,
    "start_time": "2023-06-12T17:13:34.120Z"
   },
   {
    "duration": 10,
    "start_time": "2023-06-12T17:13:34.505Z"
   },
   {
    "duration": 7,
    "start_time": "2023-06-12T17:13:34.517Z"
   },
   {
    "duration": 39,
    "start_time": "2023-06-12T17:13:34.526Z"
   },
   {
    "duration": 6,
    "start_time": "2023-06-12T17:13:34.634Z"
   },
   {
    "duration": 5,
    "start_time": "2023-06-12T17:13:34.805Z"
   },
   {
    "duration": 7,
    "start_time": "2023-06-12T17:13:34.812Z"
   },
   {
    "duration": 54,
    "start_time": "2023-06-12T17:13:35.751Z"
   },
   {
    "duration": 9,
    "start_time": "2023-06-12T17:13:35.807Z"
   },
   {
    "duration": 18,
    "start_time": "2023-06-12T17:13:35.818Z"
   },
   {
    "duration": 24,
    "start_time": "2023-06-12T17:13:35.837Z"
   },
   {
    "duration": 4,
    "start_time": "2023-06-12T17:14:20.583Z"
   },
   {
    "duration": 39,
    "start_time": "2023-06-12T17:14:20.611Z"
   },
   {
    "duration": 21,
    "start_time": "2023-06-12T17:14:20.688Z"
   },
   {
    "duration": 12,
    "start_time": "2023-06-12T17:14:20.711Z"
   },
   {
    "duration": 9,
    "start_time": "2023-06-12T17:14:20.725Z"
   },
   {
    "duration": 16,
    "start_time": "2023-06-12T17:14:20.736Z"
   },
   {
    "duration": 28,
    "start_time": "2023-06-12T17:14:20.754Z"
   },
   {
    "duration": 11,
    "start_time": "2023-06-12T17:14:20.784Z"
   },
   {
    "duration": 6,
    "start_time": "2023-06-12T17:14:20.798Z"
   },
   {
    "duration": 26,
    "start_time": "2023-06-12T17:14:20.806Z"
   },
   {
    "duration": 4,
    "start_time": "2023-06-12T17:14:20.834Z"
   },
   {
    "duration": 11,
    "start_time": "2023-06-12T17:14:20.863Z"
   },
   {
    "duration": 4,
    "start_time": "2023-06-12T17:14:20.890Z"
   },
   {
    "duration": 228,
    "start_time": "2023-06-12T17:14:20.897Z"
   },
   {
    "duration": 10,
    "start_time": "2023-06-12T17:14:21.126Z"
   },
   {
    "duration": 45,
    "start_time": "2023-06-12T17:14:21.138Z"
   },
   {
    "duration": 4,
    "start_time": "2023-06-12T17:14:21.188Z"
   },
   {
    "duration": 10291,
    "start_time": "2023-06-12T17:14:21.194Z"
   },
   {
    "duration": 697,
    "start_time": "2023-06-12T17:14:31.487Z"
   },
   {
    "duration": 551,
    "start_time": "2023-06-12T17:14:32.188Z"
   },
   {
    "duration": 28,
    "start_time": "2023-06-12T17:14:32.740Z"
   },
   {
    "duration": 192,
    "start_time": "2023-06-12T17:14:32.772Z"
   },
   {
    "duration": 21,
    "start_time": "2023-06-12T17:14:32.968Z"
   },
   {
    "duration": 173,
    "start_time": "2023-06-12T17:14:32.991Z"
   },
   {
    "duration": 2953,
    "start_time": "2023-06-12T17:14:33.166Z"
   },
   {
    "duration": 53,
    "start_time": "2023-06-12T17:14:36.121Z"
   },
   {
    "duration": 6,
    "start_time": "2023-06-12T17:14:36.178Z"
   },
   {
    "duration": 84,
    "start_time": "2023-06-12T17:14:36.186Z"
   },
   {
    "duration": 780,
    "start_time": "2023-06-12T17:14:41.386Z"
   },
   {
    "duration": 280,
    "start_time": "2023-06-12T17:14:43.186Z"
   },
   {
    "duration": 9,
    "start_time": "2023-06-12T17:14:59.696Z"
   },
   {
    "duration": 2092,
    "start_time": "2023-06-12T17:15:49.992Z"
   },
   {
    "duration": 12,
    "start_time": "2023-06-12T17:16:42.788Z"
   },
   {
    "duration": 11,
    "start_time": "2023-06-12T17:17:18.903Z"
   },
   {
    "duration": 10,
    "start_time": "2023-06-12T17:17:50.908Z"
   },
   {
    "duration": 8,
    "start_time": "2023-06-12T17:35:02.988Z"
   },
   {
    "duration": 12,
    "start_time": "2023-06-12T17:35:40.152Z"
   },
   {
    "duration": 54,
    "start_time": "2023-06-12T18:20:35.638Z"
   },
   {
    "duration": 1283,
    "start_time": "2023-06-12T18:20:41.292Z"
   },
   {
    "duration": 52,
    "start_time": "2023-06-12T18:20:42.577Z"
   },
   {
    "duration": 27,
    "start_time": "2023-06-12T18:20:42.631Z"
   },
   {
    "duration": 17,
    "start_time": "2023-06-12T18:20:42.660Z"
   },
   {
    "duration": 11,
    "start_time": "2023-06-12T18:20:42.678Z"
   },
   {
    "duration": 9,
    "start_time": "2023-06-12T18:20:42.691Z"
   },
   {
    "duration": 20,
    "start_time": "2023-06-12T18:20:42.702Z"
   },
   {
    "duration": 10,
    "start_time": "2023-06-12T18:20:42.725Z"
   },
   {
    "duration": 5,
    "start_time": "2023-06-12T18:20:42.758Z"
   },
   {
    "duration": 41,
    "start_time": "2023-06-12T18:20:42.765Z"
   },
   {
    "duration": 5,
    "start_time": "2023-06-12T18:20:42.808Z"
   },
   {
    "duration": 26,
    "start_time": "2023-06-12T18:20:42.815Z"
   },
   {
    "duration": 14,
    "start_time": "2023-06-12T18:20:42.843Z"
   },
   {
    "duration": 66,
    "start_time": "2023-06-12T18:20:42.859Z"
   },
   {
    "duration": 48,
    "start_time": "2023-06-12T18:20:42.926Z"
   },
   {
    "duration": 19,
    "start_time": "2023-06-12T18:20:42.976Z"
   },
   {
    "duration": 4,
    "start_time": "2023-06-12T18:20:42.997Z"
   },
   {
    "duration": 8663,
    "start_time": "2023-06-12T18:20:43.002Z"
   },
   {
    "duration": 570,
    "start_time": "2023-06-12T18:20:51.667Z"
   },
   {
    "duration": 443,
    "start_time": "2023-06-12T18:20:52.240Z"
   },
   {
    "duration": 20,
    "start_time": "2023-06-12T18:20:52.685Z"
   },
   {
    "duration": 622,
    "start_time": "2023-06-12T18:20:52.707Z"
   },
   {
    "duration": 35,
    "start_time": "2023-06-12T18:20:53.331Z"
   },
   {
    "duration": 140,
    "start_time": "2023-06-12T18:20:53.368Z"
   },
   {
    "duration": 2429,
    "start_time": "2023-06-12T18:20:53.511Z"
   },
   {
    "duration": 41,
    "start_time": "2023-06-12T18:20:55.941Z"
   },
   {
    "duration": 5,
    "start_time": "2023-06-12T18:20:55.985Z"
   },
   {
    "duration": 115,
    "start_time": "2023-06-12T18:20:55.995Z"
   },
   {
    "duration": 757,
    "start_time": "2023-06-12T18:20:56.113Z"
   },
   {
    "duration": 9,
    "start_time": "2023-06-12T18:20:56.872Z"
   },
   {
    "duration": 8,
    "start_time": "2023-06-12T18:21:10.766Z"
   },
   {
    "duration": 18,
    "start_time": "2023-06-12T18:21:11.431Z"
   },
   {
    "duration": 13,
    "start_time": "2023-06-12T18:21:12.105Z"
   },
   {
    "duration": 8,
    "start_time": "2023-06-12T18:25:23.543Z"
   },
   {
    "duration": 9,
    "start_time": "2023-06-12T18:25:52.017Z"
   },
   {
    "duration": 497,
    "start_time": "2023-06-12T18:27:04.377Z"
   },
   {
    "duration": 9,
    "start_time": "2023-06-12T18:29:01.654Z"
   },
   {
    "duration": 7,
    "start_time": "2023-06-12T18:29:58.752Z"
   },
   {
    "duration": 10,
    "start_time": "2023-06-12T18:30:29.433Z"
   },
   {
    "duration": 52,
    "start_time": "2023-06-12T18:32:27.910Z"
   },
   {
    "duration": 10,
    "start_time": "2023-06-12T18:33:46.339Z"
   },
   {
    "duration": 11,
    "start_time": "2023-06-12T18:33:55.996Z"
   },
   {
    "duration": 10,
    "start_time": "2023-06-12T18:34:00.276Z"
   },
   {
    "duration": 8,
    "start_time": "2023-06-12T18:34:14.943Z"
   },
   {
    "duration": 10,
    "start_time": "2023-06-12T18:35:05.863Z"
   },
   {
    "duration": 11,
    "start_time": "2023-06-12T18:35:27.707Z"
   },
   {
    "duration": 12,
    "start_time": "2023-06-12T18:35:44.780Z"
   },
   {
    "duration": 10,
    "start_time": "2023-06-12T18:36:03.712Z"
   },
   {
    "duration": 8,
    "start_time": "2023-06-12T18:36:23.171Z"
   },
   {
    "duration": 776,
    "start_time": "2023-06-12T18:37:01.818Z"
   },
   {
    "duration": 688,
    "start_time": "2023-06-12T18:37:22.802Z"
   },
   {
    "duration": 828,
    "start_time": "2023-06-12T19:03:00.785Z"
   },
   {
    "duration": 671,
    "start_time": "2023-06-12T19:03:12.103Z"
   },
   {
    "duration": 870,
    "start_time": "2023-06-12T19:03:22.745Z"
   },
   {
    "duration": 9,
    "start_time": "2023-06-12T19:03:36.733Z"
   },
   {
    "duration": 6,
    "start_time": "2023-06-12T19:03:37.086Z"
   },
   {
    "duration": 8,
    "start_time": "2023-06-12T19:03:37.416Z"
   },
   {
    "duration": 7,
    "start_time": "2023-06-12T19:59:58.434Z"
   },
   {
    "duration": 1316,
    "start_time": "2023-06-12T20:00:15.741Z"
   },
   {
    "duration": 41,
    "start_time": "2023-06-12T20:00:17.059Z"
   },
   {
    "duration": 25,
    "start_time": "2023-06-12T20:00:17.101Z"
   },
   {
    "duration": 12,
    "start_time": "2023-06-12T20:00:17.128Z"
   },
   {
    "duration": 18,
    "start_time": "2023-06-12T20:00:17.142Z"
   },
   {
    "duration": 5,
    "start_time": "2023-06-12T20:00:17.162Z"
   },
   {
    "duration": 22,
    "start_time": "2023-06-12T20:00:17.169Z"
   },
   {
    "duration": 10,
    "start_time": "2023-06-12T20:00:17.192Z"
   },
   {
    "duration": 6,
    "start_time": "2023-06-12T20:00:17.203Z"
   },
   {
    "duration": 40,
    "start_time": "2023-06-12T20:00:17.212Z"
   },
   {
    "duration": 5,
    "start_time": "2023-06-12T20:00:17.256Z"
   },
   {
    "duration": 15,
    "start_time": "2023-06-12T20:00:17.263Z"
   },
   {
    "duration": 22,
    "start_time": "2023-06-12T20:00:17.279Z"
   },
   {
    "duration": 52,
    "start_time": "2023-06-12T20:00:17.303Z"
   },
   {
    "duration": 45,
    "start_time": "2023-06-12T20:00:17.356Z"
   },
   {
    "duration": 18,
    "start_time": "2023-06-12T20:00:17.403Z"
   },
   {
    "duration": 4,
    "start_time": "2023-06-12T20:00:17.423Z"
   },
   {
    "duration": 8861,
    "start_time": "2023-06-12T20:00:17.428Z"
   },
   {
    "duration": 496,
    "start_time": "2023-06-12T20:00:26.291Z"
   },
   {
    "duration": 453,
    "start_time": "2023-06-12T20:00:26.790Z"
   },
   {
    "duration": 23,
    "start_time": "2023-06-12T20:00:27.245Z"
   },
   {
    "duration": 634,
    "start_time": "2023-06-12T20:00:27.270Z"
   },
   {
    "duration": 16,
    "start_time": "2023-06-12T20:00:27.906Z"
   },
   {
    "duration": 157,
    "start_time": "2023-06-12T20:00:27.923Z"
   },
   {
    "duration": 2122,
    "start_time": "2023-06-12T20:00:28.081Z"
   },
   {
    "duration": 35,
    "start_time": "2023-06-12T20:00:30.205Z"
   },
   {
    "duration": 17,
    "start_time": "2023-06-12T20:00:30.242Z"
   },
   {
    "duration": 113,
    "start_time": "2023-06-12T20:00:30.263Z"
   },
   {
    "duration": 702,
    "start_time": "2023-06-12T20:00:30.378Z"
   },
   {
    "duration": 11,
    "start_time": "2023-06-12T20:00:31.082Z"
   },
   {
    "duration": 28,
    "start_time": "2023-06-12T20:00:31.094Z"
   },
   {
    "duration": 68,
    "start_time": "2023-06-12T20:00:31.123Z"
   },
   {
    "duration": 427,
    "start_time": "2023-06-12T20:04:28.760Z"
   },
   {
    "duration": 9,
    "start_time": "2023-06-12T20:05:18.630Z"
   },
   {
    "duration": 9,
    "start_time": "2023-06-12T20:06:04.602Z"
   },
   {
    "duration": 215,
    "start_time": "2023-06-12T20:06:22.711Z"
   },
   {
    "duration": 292,
    "start_time": "2023-06-12T20:07:02.638Z"
   },
   {
    "duration": 348,
    "start_time": "2023-06-12T20:07:10.752Z"
   },
   {
    "duration": 694,
    "start_time": "2023-06-12T20:07:48.625Z"
   },
   {
    "duration": 467,
    "start_time": "2023-06-12T20:08:05.346Z"
   },
   {
    "duration": 386,
    "start_time": "2023-06-12T20:08:34.562Z"
   },
   {
    "duration": 355,
    "start_time": "2023-06-12T20:08:42.840Z"
   },
   {
    "duration": 292,
    "start_time": "2023-06-12T20:08:50.543Z"
   },
   {
    "duration": 244,
    "start_time": "2023-06-12T20:09:00.110Z"
   },
   {
    "duration": 402,
    "start_time": "2023-06-12T20:10:22.073Z"
   },
   {
    "duration": 13,
    "start_time": "2023-06-12T20:17:28.084Z"
   },
   {
    "duration": 429,
    "start_time": "2023-06-12T20:20:44.941Z"
   },
   {
    "duration": 170,
    "start_time": "2023-06-12T20:21:27.776Z"
   },
   {
    "duration": 7,
    "start_time": "2023-06-12T20:29:07.627Z"
   },
   {
    "duration": 433,
    "start_time": "2023-06-12T20:29:35.576Z"
   },
   {
    "duration": 110,
    "start_time": "2023-06-12T20:57:06.304Z"
   },
   {
    "duration": 10,
    "start_time": "2023-06-12T20:58:14.194Z"
   },
   {
    "duration": 10,
    "start_time": "2023-06-12T20:58:47.898Z"
   },
   {
    "duration": 6,
    "start_time": "2023-06-12T20:59:30.624Z"
   },
   {
    "duration": 6,
    "start_time": "2023-06-12T20:59:51.313Z"
   },
   {
    "duration": 698,
    "start_time": "2023-06-12T21:00:56.839Z"
   },
   {
    "duration": 11,
    "start_time": "2023-06-12T21:03:37.953Z"
   },
   {
    "duration": 11,
    "start_time": "2023-06-12T21:04:18.744Z"
   },
   {
    "duration": 7,
    "start_time": "2023-06-12T21:04:52.185Z"
   },
   {
    "duration": 7,
    "start_time": "2023-06-12T21:06:55.870Z"
   },
   {
    "duration": 1498,
    "start_time": "2023-06-13T08:07:07.013Z"
   },
   {
    "duration": 0,
    "start_time": "2023-06-13T08:07:08.513Z"
   },
   {
    "duration": 0,
    "start_time": "2023-06-13T08:07:08.514Z"
   },
   {
    "duration": 0,
    "start_time": "2023-06-13T08:07:08.515Z"
   },
   {
    "duration": 0,
    "start_time": "2023-06-13T08:07:08.516Z"
   },
   {
    "duration": 0,
    "start_time": "2023-06-13T08:07:08.517Z"
   },
   {
    "duration": 0,
    "start_time": "2023-06-13T08:07:08.518Z"
   },
   {
    "duration": 0,
    "start_time": "2023-06-13T08:07:08.519Z"
   },
   {
    "duration": 0,
    "start_time": "2023-06-13T08:07:08.520Z"
   },
   {
    "duration": 0,
    "start_time": "2023-06-13T08:07:08.521Z"
   },
   {
    "duration": 0,
    "start_time": "2023-06-13T08:07:08.522Z"
   },
   {
    "duration": 0,
    "start_time": "2023-06-13T08:07:08.523Z"
   },
   {
    "duration": 0,
    "start_time": "2023-06-13T08:07:08.524Z"
   },
   {
    "duration": 0,
    "start_time": "2023-06-13T08:07:08.525Z"
   },
   {
    "duration": 0,
    "start_time": "2023-06-13T08:07:08.526Z"
   },
   {
    "duration": 0,
    "start_time": "2023-06-13T08:07:08.527Z"
   },
   {
    "duration": 0,
    "start_time": "2023-06-13T08:07:08.528Z"
   },
   {
    "duration": 0,
    "start_time": "2023-06-13T08:07:08.529Z"
   },
   {
    "duration": 0,
    "start_time": "2023-06-13T08:07:08.530Z"
   },
   {
    "duration": 0,
    "start_time": "2023-06-13T08:07:08.531Z"
   },
   {
    "duration": 0,
    "start_time": "2023-06-13T08:07:08.532Z"
   },
   {
    "duration": 0,
    "start_time": "2023-06-13T08:07:08.562Z"
   },
   {
    "duration": 0,
    "start_time": "2023-06-13T08:07:08.563Z"
   },
   {
    "duration": 0,
    "start_time": "2023-06-13T08:07:08.564Z"
   },
   {
    "duration": 0,
    "start_time": "2023-06-13T08:07:08.565Z"
   },
   {
    "duration": 0,
    "start_time": "2023-06-13T08:07:08.566Z"
   },
   {
    "duration": 0,
    "start_time": "2023-06-13T08:07:08.567Z"
   },
   {
    "duration": 0,
    "start_time": "2023-06-13T08:07:08.568Z"
   },
   {
    "duration": 0,
    "start_time": "2023-06-13T08:07:08.569Z"
   },
   {
    "duration": 0,
    "start_time": "2023-06-13T08:07:08.570Z"
   },
   {
    "duration": 0,
    "start_time": "2023-06-13T08:07:08.571Z"
   },
   {
    "duration": 0,
    "start_time": "2023-06-13T08:07:08.572Z"
   },
   {
    "duration": 0,
    "start_time": "2023-06-13T08:07:08.573Z"
   },
   {
    "duration": 0,
    "start_time": "2023-06-13T08:07:08.574Z"
   },
   {
    "duration": 0,
    "start_time": "2023-06-13T08:07:08.575Z"
   },
   {
    "duration": 0,
    "start_time": "2023-06-13T08:07:08.576Z"
   },
   {
    "duration": 0,
    "start_time": "2023-06-13T08:07:08.577Z"
   },
   {
    "duration": 3577,
    "start_time": "2023-06-13T08:08:31.531Z"
   },
   {
    "duration": 35,
    "start_time": "2023-06-13T08:08:40.825Z"
   },
   {
    "duration": 4,
    "start_time": "2023-06-13T08:09:20.302Z"
   },
   {
    "duration": 3,
    "start_time": "2023-06-13T08:09:34.703Z"
   },
   {
    "duration": 58,
    "start_time": "2023-06-13T08:09:34.710Z"
   },
   {
    "duration": 182,
    "start_time": "2023-06-13T08:09:34.770Z"
   },
   {
    "duration": 30,
    "start_time": "2023-06-13T08:09:34.954Z"
   },
   {
    "duration": 11,
    "start_time": "2023-06-13T08:09:34.986Z"
   },
   {
    "duration": 58,
    "start_time": "2023-06-13T08:09:34.999Z"
   },
   {
    "duration": 21,
    "start_time": "2023-06-13T08:09:35.059Z"
   },
   {
    "duration": 40,
    "start_time": "2023-06-13T08:09:35.082Z"
   },
   {
    "duration": 25,
    "start_time": "2023-06-13T08:09:35.124Z"
   },
   {
    "duration": 56,
    "start_time": "2023-06-13T08:09:35.151Z"
   },
   {
    "duration": 62,
    "start_time": "2023-06-13T08:09:35.209Z"
   },
   {
    "duration": 50,
    "start_time": "2023-06-13T08:09:35.273Z"
   },
   {
    "duration": 33,
    "start_time": "2023-06-13T08:09:35.324Z"
   },
   {
    "duration": 53,
    "start_time": "2023-06-13T08:09:35.358Z"
   },
   {
    "duration": 95,
    "start_time": "2023-06-13T08:09:35.413Z"
   },
   {
    "duration": 62,
    "start_time": "2023-06-13T08:09:35.510Z"
   },
   {
    "duration": 40,
    "start_time": "2023-06-13T08:09:35.574Z"
   },
   {
    "duration": 25,
    "start_time": "2023-06-13T08:09:35.616Z"
   },
   {
    "duration": 8960,
    "start_time": "2023-06-13T08:09:35.643Z"
   },
   {
    "duration": 552,
    "start_time": "2023-06-13T08:09:44.605Z"
   },
   {
    "duration": 410,
    "start_time": "2023-06-13T08:09:45.162Z"
   },
   {
    "duration": 16,
    "start_time": "2023-06-13T08:09:45.574Z"
   },
   {
    "duration": 519,
    "start_time": "2023-06-13T08:09:45.592Z"
   },
   {
    "duration": 13,
    "start_time": "2023-06-13T08:09:46.112Z"
   },
   {
    "duration": 138,
    "start_time": "2023-06-13T08:09:46.127Z"
   },
   {
    "duration": 2398,
    "start_time": "2023-06-13T08:09:46.266Z"
   },
   {
    "duration": 40,
    "start_time": "2023-06-13T08:09:48.666Z"
   },
   {
    "duration": 4,
    "start_time": "2023-06-13T08:09:48.707Z"
   },
   {
    "duration": 87,
    "start_time": "2023-06-13T08:09:48.715Z"
   },
   {
    "duration": 388,
    "start_time": "2023-06-13T08:09:48.803Z"
   },
   {
    "duration": 12,
    "start_time": "2023-06-13T08:09:49.193Z"
   },
   {
    "duration": 22,
    "start_time": "2023-06-13T08:09:49.207Z"
   },
   {
    "duration": 7,
    "start_time": "2023-06-13T08:09:49.231Z"
   },
   {
    "duration": 794,
    "start_time": "2023-06-13T08:09:49.240Z"
   },
   {
    "duration": 9,
    "start_time": "2023-06-13T08:09:50.036Z"
   },
   {
    "duration": 58,
    "start_time": "2023-06-13T08:09:50.046Z"
   },
   {
    "duration": 18,
    "start_time": "2023-06-13T08:09:50.105Z"
   },
   {
    "duration": 14,
    "start_time": "2023-06-13T08:09:50.125Z"
   },
   {
    "duration": 4,
    "start_time": "2023-06-13T08:11:15.384Z"
   },
   {
    "duration": 2,
    "start_time": "2023-06-13T08:11:24.754Z"
   },
   {
    "duration": 3,
    "start_time": "2023-06-13T08:11:24.780Z"
   },
   {
    "duration": 38,
    "start_time": "2023-06-13T08:11:24.795Z"
   },
   {
    "duration": 19,
    "start_time": "2023-06-13T08:11:24.835Z"
   },
   {
    "duration": 11,
    "start_time": "2023-06-13T08:11:24.856Z"
   },
   {
    "duration": 8,
    "start_time": "2023-06-13T08:11:24.869Z"
   },
   {
    "duration": 6,
    "start_time": "2023-06-13T08:11:24.896Z"
   },
   {
    "duration": 12,
    "start_time": "2023-06-13T08:11:24.989Z"
   },
   {
    "duration": 9,
    "start_time": "2023-06-13T08:11:25.151Z"
   },
   {
    "duration": 5,
    "start_time": "2023-06-13T08:11:25.214Z"
   },
   {
    "duration": 22,
    "start_time": "2023-06-13T08:11:25.223Z"
   },
   {
    "duration": 5,
    "start_time": "2023-06-13T08:11:25.249Z"
   },
   {
    "duration": 9,
    "start_time": "2023-06-13T08:11:25.257Z"
   },
   {
    "duration": 8,
    "start_time": "2023-06-13T08:11:25.268Z"
   },
   {
    "duration": 38,
    "start_time": "2023-06-13T08:11:25.294Z"
   },
   {
    "duration": 8,
    "start_time": "2023-06-13T08:11:25.334Z"
   },
   {
    "duration": 20,
    "start_time": "2023-06-13T08:11:25.343Z"
   },
   {
    "duration": 4,
    "start_time": "2023-06-13T08:11:25.365Z"
   },
   {
    "duration": 8217,
    "start_time": "2023-06-13T08:11:25.370Z"
   },
   {
    "duration": 465,
    "start_time": "2023-06-13T08:11:33.588Z"
   },
   {
    "duration": 512,
    "start_time": "2023-06-13T08:11:34.055Z"
   },
   {
    "duration": 14,
    "start_time": "2023-06-13T08:11:34.568Z"
   },
   {
    "duration": 149,
    "start_time": "2023-06-13T08:11:34.584Z"
   },
   {
    "duration": 16,
    "start_time": "2023-06-13T08:11:34.735Z"
   },
   {
    "duration": 133,
    "start_time": "2023-06-13T08:11:34.763Z"
   },
   {
    "duration": 2119,
    "start_time": "2023-06-13T08:11:34.898Z"
   },
   {
    "duration": 43,
    "start_time": "2023-06-13T08:11:37.019Z"
   },
   {
    "duration": 4,
    "start_time": "2023-06-13T08:11:37.064Z"
   },
   {
    "duration": 76,
    "start_time": "2023-06-13T08:11:37.070Z"
   },
   {
    "duration": 321,
    "start_time": "2023-06-13T08:11:37.147Z"
   },
   {
    "duration": 9,
    "start_time": "2023-06-13T08:11:37.469Z"
   },
   {
    "duration": 25,
    "start_time": "2023-06-13T08:11:37.480Z"
   },
   {
    "duration": 5,
    "start_time": "2023-06-13T08:11:37.507Z"
   },
   {
    "duration": 731,
    "start_time": "2023-06-13T08:11:37.513Z"
   },
   {
    "duration": 20,
    "start_time": "2023-06-13T08:11:38.246Z"
   },
   {
    "duration": 8,
    "start_time": "2023-06-13T08:11:38.269Z"
   },
   {
    "duration": 24,
    "start_time": "2023-06-13T08:11:38.279Z"
   },
   {
    "duration": 46,
    "start_time": "2023-06-13T08:11:38.304Z"
   },
   {
    "duration": 11,
    "start_time": "2023-06-13T08:16:11.875Z"
   },
   {
    "duration": 8,
    "start_time": "2023-06-13T08:16:19.550Z"
   },
   {
    "duration": 9,
    "start_time": "2023-06-13T08:16:27.665Z"
   },
   {
    "duration": 9,
    "start_time": "2023-06-13T08:16:55.032Z"
   },
   {
    "duration": 1526,
    "start_time": "2023-06-13T08:21:18.596Z"
   },
   {
    "duration": 427,
    "start_time": "2023-06-13T08:21:42.138Z"
   },
   {
    "duration": 10,
    "start_time": "2023-06-13T08:22:15.034Z"
   },
   {
    "duration": 9,
    "start_time": "2023-06-13T08:22:29.828Z"
   },
   {
    "duration": 3,
    "start_time": "2023-06-13T08:22:47.876Z"
   },
   {
    "duration": 2,
    "start_time": "2023-06-13T08:23:24.417Z"
   },
   {
    "duration": 7,
    "start_time": "2023-06-13T08:23:28.429Z"
   },
   {
    "duration": 6,
    "start_time": "2023-06-13T08:24:55.260Z"
   },
   {
    "duration": 12,
    "start_time": "2023-06-13T08:31:55.577Z"
   },
   {
    "duration": 4,
    "start_time": "2023-06-13T08:52:05.841Z"
   },
   {
    "duration": 6,
    "start_time": "2023-06-13T08:52:22.618Z"
   },
   {
    "duration": 9,
    "start_time": "2023-06-13T08:52:22.627Z"
   },
   {
    "duration": 64,
    "start_time": "2023-06-13T08:52:22.637Z"
   },
   {
    "duration": 29,
    "start_time": "2023-06-13T08:52:22.703Z"
   },
   {
    "duration": 25,
    "start_time": "2023-06-13T08:52:22.734Z"
   },
   {
    "duration": 10,
    "start_time": "2023-06-13T08:52:25.069Z"
   },
   {
    "duration": 148,
    "start_time": "2023-06-13T08:52:25.082Z"
   },
   {
    "duration": 19,
    "start_time": "2023-06-13T08:52:25.232Z"
   },
   {
    "duration": 11,
    "start_time": "2023-06-13T08:52:25.253Z"
   },
   {
    "duration": 10,
    "start_time": "2023-06-13T08:52:25.267Z"
   },
   {
    "duration": 24,
    "start_time": "2023-06-13T08:52:25.626Z"
   },
   {
    "duration": 5,
    "start_time": "2023-06-13T08:52:25.652Z"
   },
   {
    "duration": 39,
    "start_time": "2023-06-13T08:52:25.658Z"
   },
   {
    "duration": 25,
    "start_time": "2023-06-13T08:52:25.699Z"
   },
   {
    "duration": 55,
    "start_time": "2023-06-13T08:52:25.727Z"
   },
   {
    "duration": 11,
    "start_time": "2023-06-13T08:52:25.783Z"
   },
   {
    "duration": 31,
    "start_time": "2023-06-13T08:52:25.796Z"
   },
   {
    "duration": 5,
    "start_time": "2023-06-13T08:52:25.829Z"
   },
   {
    "duration": 9762,
    "start_time": "2023-06-13T08:52:25.836Z"
   },
   {
    "duration": 685,
    "start_time": "2023-06-13T08:52:35.601Z"
   },
   {
    "duration": 565,
    "start_time": "2023-06-13T08:52:36.288Z"
   },
   {
    "duration": 20,
    "start_time": "2023-06-13T08:52:36.855Z"
   },
   {
    "duration": 164,
    "start_time": "2023-06-13T08:52:36.877Z"
   },
   {
    "duration": 21,
    "start_time": "2023-06-13T08:52:37.044Z"
   },
   {
    "duration": 162,
    "start_time": "2023-06-13T08:52:37.066Z"
   },
   {
    "duration": 2425,
    "start_time": "2023-06-13T08:52:37.230Z"
   },
   {
    "duration": 5,
    "start_time": "2023-06-13T08:52:43.888Z"
   },
   {
    "duration": 5,
    "start_time": "2023-06-13T08:53:42.534Z"
   },
   {
    "duration": 45,
    "start_time": "2023-06-13T08:53:42.977Z"
   },
   {
    "duration": 8,
    "start_time": "2023-06-13T08:53:43.668Z"
   },
   {
    "duration": 159,
    "start_time": "2023-06-13T08:53:45.892Z"
   },
   {
    "duration": 6,
    "start_time": "2023-06-13T08:54:14.827Z"
   },
   {
    "duration": 27,
    "start_time": "2023-06-13T08:54:17.047Z"
   },
   {
    "duration": 5,
    "start_time": "2023-06-13T08:54:47.937Z"
   },
   {
    "duration": 0,
    "start_time": "2023-06-13T08:58:29.119Z"
   },
   {
    "duration": 0,
    "start_time": "2023-06-13T08:58:29.120Z"
   },
   {
    "duration": 46,
    "start_time": "2023-06-13T08:58:35.104Z"
   },
   {
    "duration": 5,
    "start_time": "2023-06-13T08:58:35.854Z"
   },
   {
    "duration": 46249,
    "start_time": "2023-06-13T08:58:39.247Z"
   },
   {
    "duration": 5,
    "start_time": "2023-06-13T09:06:47.666Z"
   },
   {
    "duration": 163,
    "start_time": "2023-06-13T09:06:48.988Z"
   },
   {
    "duration": 5,
    "start_time": "2023-06-13T09:07:18.288Z"
   },
   {
    "duration": 148,
    "start_time": "2023-06-13T09:07:21.629Z"
   },
   {
    "duration": 6,
    "start_time": "2023-06-13T09:07:43.364Z"
   },
   {
    "duration": 174,
    "start_time": "2023-06-13T09:07:44.621Z"
   },
   {
    "duration": 5,
    "start_time": "2023-06-13T09:08:23.722Z"
   },
   {
    "duration": 176,
    "start_time": "2023-06-13T09:08:25.299Z"
   },
   {
    "duration": 4,
    "start_time": "2023-06-13T09:09:24.768Z"
   },
   {
    "duration": 293,
    "start_time": "2023-06-13T09:09:32.371Z"
   },
   {
    "duration": 10,
    "start_time": "2023-06-13T09:09:53.082Z"
   },
   {
    "duration": 115,
    "start_time": "2023-06-13T09:10:14.572Z"
   },
   {
    "duration": 16,
    "start_time": "2023-06-13T09:11:02.649Z"
   },
   {
    "duration": 0,
    "start_time": "2023-06-13T09:12:00.105Z"
   },
   {
    "duration": 0,
    "start_time": "2023-06-13T09:13:08.591Z"
   },
   {
    "duration": 5,
    "start_time": "2023-06-13T09:13:57.486Z"
   },
   {
    "duration": 62,
    "start_time": "2023-06-13T09:13:58.086Z"
   },
   {
    "duration": 9,
    "start_time": "2023-06-13T09:22:44.146Z"
   },
   {
    "duration": 12,
    "start_time": "2023-06-13T09:23:09.891Z"
   },
   {
    "duration": 14,
    "start_time": "2023-06-13T09:23:15.520Z"
   },
   {
    "duration": 131,
    "start_time": "2023-06-13T09:23:29.728Z"
   },
   {
    "duration": 170,
    "start_time": "2023-06-13T09:23:42.784Z"
   },
   {
    "duration": 37,
    "start_time": "2023-06-13T09:26:36.489Z"
   },
   {
    "duration": 4317,
    "start_time": "2023-06-13T09:26:43.706Z"
   },
   {
    "duration": 153,
    "start_time": "2023-06-13T09:27:01.125Z"
   },
   {
    "duration": 155,
    "start_time": "2023-06-13T09:27:09.980Z"
   },
   {
    "duration": 129,
    "start_time": "2023-06-13T09:27:52.385Z"
   },
   {
    "duration": 168,
    "start_time": "2023-06-13T09:28:13.619Z"
   },
   {
    "duration": 149,
    "start_time": "2023-06-13T09:28:20.785Z"
   },
   {
    "duration": 179,
    "start_time": "2023-06-13T09:28:59.823Z"
   },
   {
    "duration": 167,
    "start_time": "2023-06-13T09:29:21.942Z"
   },
   {
    "duration": 155,
    "start_time": "2023-06-13T09:29:24.916Z"
   },
   {
    "duration": 279,
    "start_time": "2023-06-13T09:29:30.921Z"
   },
   {
    "duration": 0,
    "start_time": "2023-06-13T09:31:00.814Z"
   },
   {
    "duration": 178,
    "start_time": "2023-06-13T09:31:03.103Z"
   },
   {
    "duration": 103,
    "start_time": "2023-06-13T09:31:50.537Z"
   },
   {
    "duration": 39,
    "start_time": "2023-06-13T09:31:56.184Z"
   },
   {
    "duration": 2033,
    "start_time": "2023-06-13T09:32:37.472Z"
   },
   {
    "duration": 8,
    "start_time": "2023-06-13T10:29:36.790Z"
   },
   {
    "duration": 27,
    "start_time": "2023-06-13T10:31:01.265Z"
   },
   {
    "duration": 9,
    "start_time": "2023-06-13T10:32:39.307Z"
   },
   {
    "duration": 24,
    "start_time": "2023-06-13T10:32:47.823Z"
   },
   {
    "duration": 23,
    "start_time": "2023-06-13T10:34:32.904Z"
   },
   {
    "duration": 3,
    "start_time": "2023-06-13T10:34:41.495Z"
   },
   {
    "duration": 49,
    "start_time": "2023-06-13T10:34:41.500Z"
   },
   {
    "duration": 91,
    "start_time": "2023-06-13T10:34:41.552Z"
   },
   {
    "duration": 27,
    "start_time": "2023-06-13T10:34:41.646Z"
   },
   {
    "duration": 59,
    "start_time": "2023-06-13T10:34:41.677Z"
   },
   {
    "duration": 27,
    "start_time": "2023-06-13T10:34:41.739Z"
   },
   {
    "duration": 34,
    "start_time": "2023-06-13T10:34:43.657Z"
   },
   {
    "duration": 30,
    "start_time": "2023-06-13T10:37:52.756Z"
   },
   {
    "duration": 21,
    "start_time": "2023-06-13T10:41:52.107Z"
   },
   {
    "duration": 15,
    "start_time": "2023-06-13T10:43:13.349Z"
   },
   {
    "duration": 18,
    "start_time": "2023-06-13T10:44:02.099Z"
   },
   {
    "duration": 16,
    "start_time": "2023-06-13T10:45:33.464Z"
   },
   {
    "duration": 6,
    "start_time": "2023-06-13T10:48:31.342Z"
   },
   {
    "duration": 18,
    "start_time": "2023-06-13T10:48:32.980Z"
   },
   {
    "duration": 12,
    "start_time": "2023-06-13T10:48:40.695Z"
   },
   {
    "duration": 5,
    "start_time": "2023-06-13T10:48:41.913Z"
   },
   {
    "duration": 3,
    "start_time": "2023-06-13T10:49:15.264Z"
   },
   {
    "duration": 43,
    "start_time": "2023-06-13T10:49:15.275Z"
   },
   {
    "duration": 66,
    "start_time": "2023-06-13T10:49:15.320Z"
   },
   {
    "duration": 21,
    "start_time": "2023-06-13T10:49:15.388Z"
   },
   {
    "duration": 16,
    "start_time": "2023-06-13T10:49:15.411Z"
   },
   {
    "duration": 35,
    "start_time": "2023-06-13T10:49:15.428Z"
   },
   {
    "duration": 34,
    "start_time": "2023-06-13T10:49:15.465Z"
   },
   {
    "duration": 24,
    "start_time": "2023-06-13T10:49:15.501Z"
   },
   {
    "duration": 34,
    "start_time": "2023-06-13T10:49:15.527Z"
   },
   {
    "duration": 44,
    "start_time": "2023-06-13T10:49:15.562Z"
   },
   {
    "duration": 6,
    "start_time": "2023-06-13T10:49:15.609Z"
   },
   {
    "duration": 45,
    "start_time": "2023-06-13T10:49:15.617Z"
   },
   {
    "duration": 4,
    "start_time": "2023-06-13T10:49:15.664Z"
   },
   {
    "duration": 21,
    "start_time": "2023-06-13T10:49:15.669Z"
   },
   {
    "duration": 21,
    "start_time": "2023-06-13T10:49:15.692Z"
   },
   {
    "duration": 53,
    "start_time": "2023-06-13T10:49:15.715Z"
   },
   {
    "duration": 12,
    "start_time": "2023-06-13T10:49:15.770Z"
   },
   {
    "duration": 39,
    "start_time": "2023-06-13T10:49:15.784Z"
   },
   {
    "duration": 22,
    "start_time": "2023-06-13T10:49:15.824Z"
   },
   {
    "duration": 12839,
    "start_time": "2023-06-13T10:49:15.848Z"
   },
   {
    "duration": 586,
    "start_time": "2023-06-13T10:49:28.689Z"
   },
   {
    "duration": 605,
    "start_time": "2023-06-13T10:49:29.277Z"
   },
   {
    "duration": 21,
    "start_time": "2023-06-13T10:49:29.890Z"
   },
   {
    "duration": 222,
    "start_time": "2023-06-13T10:49:29.914Z"
   },
   {
    "duration": 25,
    "start_time": "2023-06-13T10:49:30.137Z"
   },
   {
    "duration": 180,
    "start_time": "2023-06-13T10:49:30.164Z"
   },
   {
    "duration": 2457,
    "start_time": "2023-06-13T10:49:30.348Z"
   },
   {
    "duration": 5,
    "start_time": "2023-06-13T10:49:32.807Z"
   },
   {
    "duration": 74,
    "start_time": "2023-06-13T10:49:32.814Z"
   },
   {
    "duration": 5,
    "start_time": "2023-06-13T10:49:32.890Z"
   },
   {
    "duration": 101,
    "start_time": "2023-06-13T10:49:32.898Z"
   },
   {
    "duration": 386,
    "start_time": "2023-06-13T10:49:33.001Z"
   },
   {
    "duration": 20,
    "start_time": "2023-06-13T10:49:33.389Z"
   },
   {
    "duration": 30,
    "start_time": "2023-06-13T10:49:33.411Z"
   },
   {
    "duration": 6,
    "start_time": "2023-06-13T10:49:33.443Z"
   },
   {
    "duration": 863,
    "start_time": "2023-06-13T10:49:33.451Z"
   },
   {
    "duration": 416,
    "start_time": "2023-06-13T10:49:34.316Z"
   },
   {
    "duration": 10,
    "start_time": "2023-06-13T10:49:34.734Z"
   },
   {
    "duration": 29,
    "start_time": "2023-06-13T10:49:34.746Z"
   },
   {
    "duration": 20,
    "start_time": "2023-06-13T10:49:34.777Z"
   },
   {
    "duration": 26,
    "start_time": "2023-06-13T10:49:34.799Z"
   },
   {
    "duration": 39,
    "start_time": "2023-06-13T11:04:35.531Z"
   },
   {
    "duration": 5,
    "start_time": "2023-06-13T11:04:39.790Z"
   },
   {
    "duration": 82,
    "start_time": "2023-06-13T11:04:42.394Z"
   },
   {
    "duration": 43,
    "start_time": "2023-06-13T11:05:35.339Z"
   },
   {
    "duration": 6,
    "start_time": "2023-06-13T11:05:38.886Z"
   },
   {
    "duration": 82,
    "start_time": "2023-06-13T11:05:40.347Z"
   },
   {
    "duration": 9,
    "start_time": "2023-06-13T11:12:40.191Z"
   },
   {
    "duration": 83,
    "start_time": "2023-06-14T12:31:24.624Z"
   },
   {
    "duration": 5018,
    "start_time": "2023-06-14T12:31:30.052Z"
   },
   {
    "duration": 1883,
    "start_time": "2023-06-14T12:31:35.072Z"
   },
   {
    "duration": 612,
    "start_time": "2023-06-14T12:31:36.957Z"
   },
   {
    "duration": 62,
    "start_time": "2023-06-14T12:31:37.572Z"
   },
   {
    "duration": 47,
    "start_time": "2023-06-14T12:31:37.645Z"
   },
   {
    "duration": 157,
    "start_time": "2023-06-14T12:31:37.694Z"
   },
   {
    "duration": 111,
    "start_time": "2023-06-14T12:31:37.853Z"
   },
   {
    "duration": 16,
    "start_time": "2023-06-14T12:31:37.966Z"
   },
   {
    "duration": 92,
    "start_time": "2023-06-14T12:31:37.984Z"
   },
   {
    "duration": 92,
    "start_time": "2023-06-14T12:31:38.080Z"
   },
   {
    "duration": 5,
    "start_time": "2023-06-14T12:31:38.174Z"
   },
   {
    "duration": 46,
    "start_time": "2023-06-14T12:31:38.180Z"
   },
   {
    "duration": 42,
    "start_time": "2023-06-14T12:31:38.227Z"
   },
   {
    "duration": 63,
    "start_time": "2023-06-14T12:31:38.270Z"
   },
   {
    "duration": 48,
    "start_time": "2023-06-14T12:31:38.334Z"
   },
   {
    "duration": 152,
    "start_time": "2023-06-14T12:31:38.383Z"
   },
   {
    "duration": 67,
    "start_time": "2023-06-14T12:31:38.536Z"
   },
   {
    "duration": 37,
    "start_time": "2023-06-14T12:31:38.605Z"
   },
   {
    "duration": 82,
    "start_time": "2023-06-14T12:31:38.650Z"
   },
   {
    "duration": 9845,
    "start_time": "2023-06-14T12:31:38.733Z"
   },
   {
    "duration": 584,
    "start_time": "2023-06-14T12:31:48.583Z"
   },
   {
    "duration": 482,
    "start_time": "2023-06-14T12:31:49.171Z"
   },
   {
    "duration": 21,
    "start_time": "2023-06-14T12:31:49.654Z"
   },
   {
    "duration": 724,
    "start_time": "2023-06-14T12:31:49.676Z"
   },
   {
    "duration": 29,
    "start_time": "2023-06-14T12:31:50.408Z"
   },
   {
    "duration": 240,
    "start_time": "2023-06-14T12:31:50.438Z"
   },
   {
    "duration": 26,
    "start_time": "2023-06-14T12:31:50.682Z"
   },
   {
    "duration": 17,
    "start_time": "2023-06-14T12:32:37.944Z"
   },
   {
    "duration": 2515,
    "start_time": "2023-06-14T12:33:41.928Z"
   },
   {
    "duration": 120,
    "start_time": "2023-06-14T13:31:34.802Z"
   },
   {
    "duration": 3402,
    "start_time": "2023-06-14T13:31:43.818Z"
   },
   {
    "duration": 10,
    "start_time": "2023-06-14T13:31:47.228Z"
   },
   {
    "duration": 198,
    "start_time": "2023-06-14T13:31:47.242Z"
   },
   {
    "duration": 91,
    "start_time": "2023-06-14T13:31:47.447Z"
   },
   {
    "duration": 169,
    "start_time": "2023-06-14T13:31:47.539Z"
   },
   {
    "duration": 99,
    "start_time": "2023-06-14T13:31:47.714Z"
   },
   {
    "duration": 165,
    "start_time": "2023-06-14T13:31:47.815Z"
   },
   {
    "duration": 94,
    "start_time": "2023-06-14T13:31:47.982Z"
   },
   {
    "duration": 74,
    "start_time": "2023-06-14T13:31:48.077Z"
   },
   {
    "duration": 37,
    "start_time": "2023-06-14T13:31:48.154Z"
   },
   {
    "duration": 86,
    "start_time": "2023-06-14T13:31:48.193Z"
   },
   {
    "duration": 102,
    "start_time": "2023-06-14T13:31:48.280Z"
   },
   {
    "duration": 65,
    "start_time": "2023-06-14T13:31:48.388Z"
   },
   {
    "duration": 105,
    "start_time": "2023-06-14T13:31:48.454Z"
   },
   {
    "duration": 65,
    "start_time": "2023-06-14T13:31:48.563Z"
   },
   {
    "duration": 120,
    "start_time": "2023-06-14T13:31:48.630Z"
   },
   {
    "duration": 39,
    "start_time": "2023-06-14T13:31:48.751Z"
   },
   {
    "duration": 118,
    "start_time": "2023-06-14T13:31:48.791Z"
   },
   {
    "duration": 72,
    "start_time": "2023-06-14T13:31:48.911Z"
   },
   {
    "duration": 10526,
    "start_time": "2023-06-14T13:31:48.992Z"
   },
   {
    "duration": 715,
    "start_time": "2023-06-14T13:31:59.523Z"
   },
   {
    "duration": 659,
    "start_time": "2023-06-14T13:32:00.243Z"
   },
   {
    "duration": 35,
    "start_time": "2023-06-14T13:32:00.907Z"
   },
   {
    "duration": 918,
    "start_time": "2023-06-14T13:32:00.948Z"
   },
   {
    "duration": 51,
    "start_time": "2023-06-14T13:32:01.879Z"
   },
   {
    "duration": 267,
    "start_time": "2023-06-14T13:32:01.940Z"
   },
   {
    "duration": 2571,
    "start_time": "2023-06-14T13:32:02.208Z"
   },
   {
    "duration": 59,
    "start_time": "2023-06-14T13:32:04.783Z"
   },
   {
    "duration": 67,
    "start_time": "2023-06-14T13:32:04.844Z"
   },
   {
    "duration": 168,
    "start_time": "2023-06-14T13:32:04.913Z"
   },
   {
    "duration": 444,
    "start_time": "2023-06-14T13:32:05.083Z"
   },
   {
    "duration": 13,
    "start_time": "2023-06-14T13:32:05.528Z"
   },
   {
    "duration": 104,
    "start_time": "2023-06-14T13:32:05.546Z"
   },
   {
    "duration": 128,
    "start_time": "2023-06-14T13:32:05.654Z"
   },
   {
    "duration": 1265,
    "start_time": "2023-06-14T13:32:05.784Z"
   },
   {
    "duration": 17,
    "start_time": "2023-06-14T13:32:07.051Z"
   },
   {
    "duration": 0,
    "start_time": "2023-06-14T13:32:07.070Z"
   },
   {
    "duration": 10,
    "start_time": "2023-06-14T13:34:21.416Z"
   },
   {
    "duration": 13,
    "start_time": "2023-06-14T13:34:28.608Z"
   },
   {
    "duration": 11,
    "start_time": "2023-06-14T13:34:32.701Z"
   },
   {
    "duration": 17,
    "start_time": "2023-06-14T13:34:36.553Z"
   },
   {
    "duration": 22,
    "start_time": "2023-06-14T13:38:21.376Z"
   },
   {
    "duration": 23,
    "start_time": "2023-06-14T13:39:38.253Z"
   },
   {
    "duration": 14,
    "start_time": "2023-06-14T13:39:45.250Z"
   },
   {
    "duration": 13,
    "start_time": "2023-06-14T13:40:00.842Z"
   },
   {
    "duration": 14,
    "start_time": "2023-06-14T13:40:18.905Z"
   },
   {
    "duration": 17,
    "start_time": "2023-06-14T14:01:04.915Z"
   }
  ],
  "kernelspec": {
   "display_name": "Python 3 (ipykernel)",
   "language": "python",
   "name": "python3"
  },
  "language_info": {
   "codemirror_mode": {
    "name": "ipython",
    "version": 3
   },
   "file_extension": ".py",
   "mimetype": "text/x-python",
   "name": "python",
   "nbconvert_exporter": "python",
   "pygments_lexer": "ipython3",
   "version": "3.9.13"
  },
  "toc": {
   "base_numbering": 1,
   "nav_menu": {},
   "number_sections": false,
   "sideBar": true,
   "skip_h1_title": true,
   "title_cell": "Table of Contents",
   "title_sidebar": "Contents",
   "toc_cell": false,
   "toc_position": {},
   "toc_section_display": true,
   "toc_window_display": false
  }
 },
 "nbformat": 4,
 "nbformat_minor": 2
}
